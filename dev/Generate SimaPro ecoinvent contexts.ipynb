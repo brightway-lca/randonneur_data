{
 "cells": [
  {
   "cell_type": "code",
   "execution_count": 1,
   "id": "4e84250c-2fff-4bde-a500-e9471c942d6e",
   "metadata": {},
   "outputs": [],
   "source": [
    "import bw2data as bd\n",
    "import randonneur as rd\n",
    "from pathlib import Path\n",
    "import randonneur_data as rdata\n",
    "from jsonpath_ng import jsonpath, parse"
   ]
  },
  {
   "cell_type": "code",
   "execution_count": 2,
   "id": "112d170a-d1f2-4ced-8653-bf9242a5e54c",
   "metadata": {},
   "outputs": [],
   "source": [
    "SP_VARIANTS = {\n",
    "    \"air\": [\"Air\", \"Emissions to air\", \"Airborne emissions\"],\n",
    "    \"water\": [\"Emissions to water\", \"Water\", \"Waterborne emissions\"],\n",
    "    \"resources\": [\"Raw materials\", \"Resources\", \"Substances\"],\n",
    "    \"soil\": [\"Soil\", \"Emissions to soil\"],\n",
    "}\n",
    "\n",
    "DATA = [\n",
    "    # Air\n",
    "    (('air', '(unspecified)'), ('air', '(unspecified)')),\n",
    "    (('air', 'high. pop.'), ('air', 'urban air close to ground')),\n",
    "    (('air', 'indoor'), ('air', 'indoor')),\n",
    "    (('air', 'low. pop.'), ('air', 'non-urban air or from high stacks')),\n",
    "    (('air', 'low. pop., long-term'), ('air', 'low population density, long-term')),\n",
    "    (('air', 'stratosphere + troposphere'), ('air', 'lower stratosphere + upper troposphere')),\n",
    "    # Water\n",
    "    (('water', '(unspecified)'), ('water', '(unspecified)')),\n",
    "    (('water', 'fossilwater'), ('water', 'ground-, long-term')),\n",
    "    (('water', 'groundwater'), ('water', 'ground-')),\n",
    "    (('water', 'groundwater, long-term'), ('water', 'ground-, long-term')),\n",
    "    (('water', 'lake'), ('water', 'surface water')),\n",
    "    (('water', 'ocean'), ('water', 'ocean')),\n",
    "    (('water', 'river'), ('water', 'surface water')),\n",
    "    (('water', 'river, long-term'), ('water', 'surface water')),\n",
    "    # Soil\n",
    "    (('soil', '(unspecified)'), ('soil', 'unspecified')),\n",
    "    (('soil', 'agricultural'), ('soil', 'agricultural')),\n",
    "    (('soil', 'forestry'), ('soil', 'forestry')),\n",
    "    (('soil', 'industrial'), ('soil', 'industrial')),\n",
    "    # Resources\n",
    "    (('resources', '(unspecified)'), ('natural resource', '(unspecified)')),\n",
    "    (('resources', 'biotic'), ('natural resource', 'biotic')),\n",
    "    (('resources', 'in air'), ('natural resource', 'in air')),\n",
    "    (('resources', 'in ground'), ('natural resource', 'in ground')),\n",
    "    (('resources', 'in water'), ('natural resource', 'in water')),\n",
    "    (('resources', 'land'), ('natural resource', 'land')),\n",
    "]"
   ]
  },
  {
   "cell_type": "code",
   "execution_count": 3,
   "id": "d2025abd-29e7-4cbb-8977-b94847031f07",
   "metadata": {},
   "outputs": [],
   "source": [
    "data = [\n",
    "    {\n",
    "        'source': {\"context\": (variant, b)},\n",
    "        \"target\": {\"context\": c}\n",
    "    }\n",
    "    for (a, b), c in DATA\n",
    "    for variant in SP_VARIANTS[a]\n",
    "] + [\n",
    "    {\n",
    "        'source': {\"context\": (variant, label)},\n",
    "        \"target\": {\"context\": c}\n",
    "    }\n",
    "    for (a, b), c in DATA\n",
    "    for variant in SP_VARIANTS[a]\n",
    "    for label in (\"unspecified\", \"\")\n",
    "    if b == '(unspecified)'\n",
    "] + [\n",
    "    {\n",
    "        'source': {\"context\": (variant,)},\n",
    "        \"target\": {\"context\": c}\n",
    "    }\n",
    "    for (a, b), c in DATA\n",
    "    for variant in SP_VARIANTS[a]\n",
    "    if b == '(unspecified)'\n",
    "]"
   ]
  },
  {
   "cell_type": "code",
   "execution_count": 4,
   "id": "62c95330-c29c-40c8-8f87-59cb8f4e8335",
   "metadata": {},
   "outputs": [],
   "source": [
    "registry = rdata.Registry()"
   ]
  },
  {
   "cell_type": "code",
   "execution_count": 5,
   "id": "f50e99c0-7c92-493c-8260-67ffaf90d38c",
   "metadata": {},
   "outputs": [
    {
     "data": {
      "text/plain": [
       "PosixPath('/Users/cmutel/Code/randonneur_data/randonneur_data/data/simapro-9-ecoinvent-3-context.json')"
      ]
     },
     "execution_count": 5,
     "metadata": {},
     "output_type": "execute_result"
    }
   ],
   "source": [
    "dp = rd.Datapackage(\n",
    "    name=\"simapro-9-ecoinvent-3-context\",\n",
    "    description=\"Context mapping from SimaPro 9 to ecoinvent 3\",\n",
    "    contributors=[\n",
    "        {\"title\": \"Chris Mutel\", \"path\": \"https://chris.mutel.org/\", \"role\": \"author\"},\n",
    "    ],\n",
    "    mapping_source=rd.MappingConstants.SIMAPRO_CSV | {\"as-tuple\": [\"context\"]},\n",
    "    mapping_target=rd.MappingConstants.ECOSPOLD2_BIO | {\"as-tuple\": [\"context\"]},\n",
    "    version=\"3.0.0\",\n",
    "    source_id=\"SimaPro-9\",\n",
    "    target_id=\"SimaPro-9-ecoinvent-3-context\"\n",
    ")\n",
    "dp.add_data(\"replace\", data)\n",
    "registry.add_file(dp.to_json(Path(\"simapro-9-ecoinvent-3-context.json\")), replace=True)"
   ]
  },
  {
   "cell_type": "code",
   "execution_count": null,
   "id": "9e393250-1353-45b9-9902-361c85416eee",
   "metadata": {},
   "outputs": [],
   "source": []
  }
 ],
 "metadata": {
  "kernelspec": {
   "display_name": "Python 3 (ipykernel)",
   "language": "python",
   "name": "python3"
  },
  "language_info": {
   "codemirror_mode": {
    "name": "ipython",
    "version": 3
   },
   "file_extension": ".py",
   "mimetype": "text/x-python",
   "name": "python",
   "nbconvert_exporter": "python",
   "pygments_lexer": "ipython3",
   "version": "3.10.14"
  }
 },
 "nbformat": 4,
 "nbformat_minor": 5
}
