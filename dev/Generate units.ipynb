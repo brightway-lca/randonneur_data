{
 "cells": [
  {
   "cell_type": "code",
   "execution_count": 1,
   "id": "fc07436d-f87a-41ea-b6fe-6cb59f54ed69",
   "metadata": {},
   "outputs": [],
   "source": [
    "import bw2io as bi\n",
    "from randonneur import Datapackage\n",
    "import randonneur_data as rd\n",
    "from pathlib import Path"
   ]
  },
  {
   "cell_type": "code",
   "execution_count": 2,
   "id": "c5352fcf-3ee5-494f-8240-463ce97606cf",
   "metadata": {},
   "outputs": [],
   "source": [
    "registry = rd.Registry()"
   ]
  },
  {
   "cell_type": "code",
   "execution_count": 3,
   "id": "69e694fc-5f25-458c-8b09-38388e2f7479",
   "metadata": {},
   "outputs": [],
   "source": [
    "dp = Datapackage(\n",
    "    name=\"generic-brightway-units-normalization\",\n",
    "    description=\"Standard units normalization used in most Brightway projects\",\n",
    "    contributors=[\n",
    "        {\"title\": \"Chris Mutel\", \"path\": \"https://chris.mutel.org/\", \"role\": \"author\"},\n",
    "    ],\n",
    "    source_id=\"bw_interfaces_schemas-1\",\n",
    "    target_id=\"bw_interfaces_schemas-1\",\n",
    "    mapping_source={\n",
    "        \"expression language\": \"JSONPath\",\n",
    "        \"labels\": {\"unit\": \"Node.unit\"}\n",
    "    },\n",
    "    mapping_target={\n",
    "        \"expression language\": \"JSONPath\",\n",
    "        \"labels\": {\"unit\": \"Node.unit\"}\n",
    "    },\n",
    "    homepage=\"https://github.com/brightway-lca/bw_interface_schemas\",\n",
    "    graph_context=[\"nodes\", \"edges\"],\n",
    ")"
   ]
  },
  {
   "cell_type": "code",
   "execution_count": 4,
   "id": "1c0406a6-bcc2-49f4-854d-b650f6e19bbc",
   "metadata": {},
   "outputs": [],
   "source": [
    "dp.add_data(\"replace\", [{\"source\": {\"unit\": k}, \"target\": {\"unit\": v}} for k, v in bi.units.UNITS_NORMALIZATION.items()])"
   ]
  },
  {
   "cell_type": "code",
   "execution_count": 5,
   "id": "5bae7c46-f727-49c6-8d52-6f0182b9c21b",
   "metadata": {},
   "outputs": [
    {
     "data": {
      "text/plain": [
       "PosixPath('/Users/cmutel/Code/randonneur_data/randonneur_data/data/generic-brightway-units-normalization.json')"
      ]
     },
     "execution_count": 5,
     "metadata": {},
     "output_type": "execute_result"
    }
   ],
   "source": [
    "registry.add_file(dp.to_json(Path(\"generic-brightway-units-normalization.json\")), replace=True)"
   ]
  },
  {
   "cell_type": "code",
   "execution_count": 8,
   "id": "37f3b2b1-13e0-49a4-a50f-6b4d09c4c816",
   "metadata": {},
   "outputs": [],
   "source": [
    "dp = Datapackage(\n",
    "    name=\"generic-brightway-unit-conversions\",\n",
    "    description=\"Standard unit conversions used in most Brightway projects\",\n",
    "    contributors=[\n",
    "        {\"title\": \"Chris Mutel\", \"path\": \"https://chris.mutel.org/\", \"role\": \"author\"},\n",
    "    ],\n",
    "    source_id=\"bw_interfaces_schemas-1\",\n",
    "    target_id=\"bw_interfaces_schemas-1\",\n",
    "    mapping_source={\n",
    "        \"expression language\": \"JSONPath\",\n",
    "        \"labels\": {\"unit\": \"Node.unit\"}\n",
    "    },\n",
    "    mapping_target={\n",
    "        \"expression language\": \"JSONPath\",\n",
    "        \"labels\": {\"unit\": \"Node.unit\"}\n",
    "    },\n",
    "    homepage=\"https://github.com/brightway-lca/bw_interface_schemas\",\n",
    "    graph_context=[\"nodes\", \"edges\"],\n",
    ")"
   ]
  },
  {
   "cell_type": "code",
   "execution_count": 9,
   "id": "3a6efa51-2f30-4c90-9a65-1bd47791d649",
   "metadata": {},
   "outputs": [],
   "source": [
    "dp.add_data(\n",
    "    \"replace\", \n",
    "    [{\"source\": {\"unit\": a}, \"target\": {\"unit\": b, \"allocation\": c}} for a,b,c in bi.units.DEFAULT_UNITS_CONVERSION if a not in bi.units._USED_IN_ECOINVENT]\n",
    ")"
   ]
  },
  {
   "cell_type": "code",
   "execution_count": 10,
   "id": "6207be17-4964-43d5-9e37-348c91d752ac",
   "metadata": {},
   "outputs": [
    {
     "data": {
      "text/plain": [
       "PosixPath('/Users/cmutel/Code/randonneur_data/randonneur_data/data/generic-brightway-unit-conversions.json')"
      ]
     },
     "execution_count": 10,
     "metadata": {},
     "output_type": "execute_result"
    }
   ],
   "source": [
    "registry.add_file(dp.to_json(Path(\"generic-brightway-unit-conversions.json\")), replace=True)"
   ]
  },
  {
   "cell_type": "code",
   "execution_count": null,
   "id": "1437cd27-e717-4f9a-8fe2-9abe927e10fb",
   "metadata": {},
   "outputs": [],
   "source": []
  }
 ],
 "metadata": {
  "kernelspec": {
   "display_name": "Python 3 (ipykernel)",
   "language": "python",
   "name": "python3"
  },
  "language_info": {
   "codemirror_mode": {
    "name": "ipython",
    "version": 3
   },
   "file_extension": ".py",
   "mimetype": "text/x-python",
   "name": "python",
   "nbconvert_exporter": "python",
   "pygments_lexer": "ipython3",
   "version": "3.10.14"
  }
 },
 "nbformat": 4,
 "nbformat_minor": 5
}
