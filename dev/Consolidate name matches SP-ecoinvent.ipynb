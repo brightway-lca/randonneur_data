{
 "cells": [
  {
   "cell_type": "code",
   "execution_count": 14,
   "id": "39d64b51-d61f-40de-abda-fa0d2e05541d",
   "metadata": {},
   "outputs": [],
   "source": [
    "import pandas as pd\n",
    "import json\n",
    "from pathlib import Path\n",
    "import bw2io as bi\n",
    "from randonneur import Datapackage, MappingConstants\n",
    "import randonneur_data as rd"
   ]
  },
  {
   "cell_type": "code",
   "execution_count": 19,
   "id": "b8719615-80fb-46f7-9b50-acca48642622",
   "metadata": {},
   "outputs": [],
   "source": [
    "registry = rd.Registry()"
   ]
  },
  {
   "cell_type": "markdown",
   "id": "646a2483-6198-4fb0-b508-9a83c06c0fc9",
   "metadata": {},
   "source": [
    "# 3.8"
   ]
  },
  {
   "cell_type": "code",
   "execution_count": 2,
   "id": "f1478f68-8511-4d0f-9f1a-2bbf0896ee03",
   "metadata": {},
   "outputs": [],
   "source": [
    "def naked(d):\n",
    "    return {\n",
    "        k.strip() if isinstance(k, str) else k: v.strip() if isinstance(v, str) else v\n",
    "        for k, v in d.items()\n",
    "    }"
   ]
  },
  {
   "cell_type": "code",
   "execution_count": 3,
   "id": "df06c072-d682-4b3f-a8ed-4aabf6e61830",
   "metadata": {},
   "outputs": [],
   "source": [
    "filepath = \"/Users/cmutel/Code/cauldron/flowmapper/flowmapper/data/manual_name_match_simapro_ecoinvent_3.8.json\""
   ]
  },
  {
   "cell_type": "code",
   "execution_count": 4,
   "id": "ea2ec2ca-8ef0-400f-9729-4f1ac7f21287",
   "metadata": {},
   "outputs": [],
   "source": [
    "first = naked(dict(json.load(open(filepath))))\n",
    "first = {k: v for k, v in first.items() if k != v}"
   ]
  },
  {
   "cell_type": "code",
   "execution_count": 5,
   "id": "31f2e1d5-bce9-4019-a89f-97848e6a03ec",
   "metadata": {},
   "outputs": [],
   "source": [
    "second = naked({\n",
    "    o['Elementary Name v2.2']: o['Elementary Flow Name v3']\n",
    "    for o in pd.read_excel(\"/Users/cmutel/Code/bw2/io/bw2io/data/lci/ecoinvent elementary flows 2-3.xlsx\").to_dict(orient=\"records\")\n",
    "    if isinstance(o['Elementary Name v2.2'], str) \n",
    "    and isinstance(o['Elementary Flow Name v3'], str)\n",
    "    and o['Elementary Name v2.2'] != o['Elementary Flow Name v3']\n",
    "})"
   ]
  },
  {
   "cell_type": "code",
   "execution_count": 6,
   "id": "0f6b5f5a-6a84-4999-9d92-e4498cbeb000",
   "metadata": {},
   "outputs": [
    {
     "name": "stdout",
     "output_type": "stream",
     "text": [
      "Occupation, dump site, benthos Occupation, seabed, unspecified Occupation, seabed, drilling and mining\n",
      "Occupation, industrial area, benthos Occupation, seabed, unspecified Occupation, industrial area\n",
      "Occupation, permanent crop, fruit, intensive Occupation, permanent crop, irrigated Occupation, permanent crop, irrigated, intensive\n",
      "Occupation, traffic area, road embankment Occupation, traffic area, road network Occupation, traffic area, rail/road embankment\n",
      "Occupation, water bodies, artificial Occupation, river, artificial Occupation, lake, artificial\n",
      "Transformation, from industrial area, benthos Transformation, from seabed, unspecified Transformation, from industrial area\n",
      "Transformation, from tropical rain forest Transformation, from forest, extensive Transformation, from forest, primary (non-use)\n",
      "Transformation, to dump site, benthos Transformation, to seabed, unspecified Transformation, to seabed, drilling and mining\n",
      "Transformation, to industrial area, benthos Transformation, to seabed, unspecified Transformation, to industrial area\n",
      "Transformation, to permanent crop, fruit, intensive Transformation, to permanent crop, irrigated Transformation, to permanent crop, irrigated, intensive\n",
      "Transformation, to traffic area, road embankment Transformation, to traffic area, road network Transformation, to traffic area, rail/road embankment\n",
      "Transformation, to water bodies, artificial Transformation, to river, artificial Transformation, to lake, artificial\n"
     ]
    }
   ],
   "source": [
    "for key, value in second.items():\n",
    "    if key in first and first[key] != value:\n",
    "        print(key, first[key], value)"
   ]
  },
  {
   "cell_type": "code",
   "execution_count": 7,
   "id": "7f207b41-a758-440d-b895-d3f3ca21a9d3",
   "metadata": {},
   "outputs": [],
   "source": [
    "first.update(second)"
   ]
  },
  {
   "cell_type": "code",
   "execution_count": 8,
   "id": "5a799b7e-0a38-40b7-9233-8ff3cd82c70e",
   "metadata": {},
   "outputs": [
    {
     "name": "stderr",
     "output_type": "stream",
     "text": [
      "/Users/cmutel/virtualenvs/bw25_dev/lib/python3.10/site-packages/openpyxl/worksheet/_reader.py:329: UserWarning: Unknown extension is not supported and will be removed\n",
      "  warn(msg)\n"
     ]
    }
   ],
   "source": [
    "third = naked({\n",
    "    o['SimaPro']: o['Ecoinvent 3']\n",
    "    for o in pd.read_excel(\"/Users/cmutel/Code/bw2/io/bw2io/data/lci/SimaPro - ecoinvent - biosphere.xlsx\").to_dict(orient=\"records\")\n",
    "    if isinstance(o['SimaPro'], str) \n",
    "    and isinstance(o['Ecoinvent 3'], str)\n",
    "    and o['SimaPro'] != o['Ecoinvent 3']\n",
    "})"
   ]
  },
  {
   "cell_type": "code",
   "execution_count": 9,
   "id": "ea457573-e65d-45e7-ac30-45479aafba11",
   "metadata": {},
   "outputs": [],
   "source": [
    "del third['Copper, Cu 0.38%, Au 9.7E-4%, Ag 9.7E-4%, Zn 0.63%, Pb 0.014%, in ore']\n",
    "del first['Copper, Cu 3.2E+0%, Pt 2.5E-4%, Pd 7.3E-4%, Rh 2.0E-5%, Ni 2.3E+0% in ore']\n",
    "del third['Transformation, to water bodies, artificial']\n",
    "del first['Copper, Cu 5.2E-2%, Pt 4.8E-4%, Pd 2.0E-4%, Rh 2.4E-5%, Ni 3.7E-2% in ore']\n",
    "del third['Occupation, arable']\n",
    "del third['Occupation, water bodies, artificial']\n",
    "del first['Transformation, to urban/industrial fallow']"
   ]
  },
  {
   "cell_type": "code",
   "execution_count": 10,
   "id": "52acec11-070c-4c73-8ff3-34083585cca9",
   "metadata": {},
   "outputs": [],
   "source": [
    "for key, value in third.items():\n",
    "    if key in first and first[key] != value:\n",
    "        print(key)\n",
    "        print(\"\\t\", first[key])\n",
    "        print(\"\\t\", value)"
   ]
  },
  {
   "cell_type": "code",
   "execution_count": 11,
   "id": "f53d1b16-e088-43ce-a6d0-6374a5bd560f",
   "metadata": {},
   "outputs": [],
   "source": [
    "first.update(third)"
   ]
  },
  {
   "cell_type": "code",
   "execution_count": 16,
   "id": "3858dcf0-d4e3-4fe0-8314-d35eb14910ce",
   "metadata": {},
   "outputs": [],
   "source": [
    "dp = Datapackage(\n",
    "    name=\"SimaPro-9-ecoinvent-3.8-biosphere-manual-matches\",\n",
    "    description=\"Manual matches of SimaPro or older ecoinvent flows to recent ecoinvent flow list\",\n",
    "    contributors=[\n",
    "        {\"title\": \"Chris Mutel\", \"path\": \"https://chris.mutel.org/\", \"role\": \"author\"},\n",
    "    ],\n",
    "    source_id=\"SimaPro-9\",\n",
    "    target_id=\"ecoinvent-3.8-biosphere\",\n",
    "    mapping_source=MappingConstants.SIMAPRO_CSV,\n",
    "    mapping_target=MappingConstants.ECOSPOLD2_BIO,\n",
    "    graph_context=[\"edges\"],\n",
    ")"
   ]
  },
  {
   "cell_type": "code",
   "execution_count": 17,
   "id": "6048ad09-c949-41e2-9506-3c1b4bdc0d34",
   "metadata": {},
   "outputs": [],
   "source": [
    "dp.add_data(\n",
    "    \"replace\", \n",
    "    [{\"source\": {\"name\": a}, \"target\": {\"name\": b}} for a, b in first.items()]\n",
    ")"
   ]
  },
  {
   "cell_type": "code",
   "execution_count": 20,
   "id": "9f38d4b9-97bb-4a3d-a35d-1c57277345f1",
   "metadata": {},
   "outputs": [
    {
     "data": {
      "text/plain": [
       "PosixPath('/Users/cmutel/Code/randonneur_data/randonneur_data/data/simapro-9-ecoinvent-3.8-biosphere-manual-matches.json')"
      ]
     },
     "execution_count": 20,
     "metadata": {},
     "output_type": "execute_result"
    }
   ],
   "source": [
    "registry.add_file(\n",
    "    dp.to_json(\n",
    "        Path(\"simapro-9-ecoinvent-3.8-biosphere-manual-matches.json\")\n",
    "    ), \n",
    "    replace=True\n",
    ")"
   ]
  },
  {
   "cell_type": "markdown",
   "id": "edc4e79f-7f8c-449b-924b-a5f5ac3b00d4",
   "metadata": {},
   "source": [
    "# 3.9"
   ]
  },
  {
   "cell_type": "code",
   "execution_count": 21,
   "id": "61a7d328-b6ff-4a37-8114-c7be03228186",
   "metadata": {},
   "outputs": [],
   "source": [
    "filepath = \"/Users/cmutel/Code/cauldron/flowmapper/flowmapper/data/manual_name_match_simapro_ecoinvent_3.9.json\""
   ]
  },
  {
   "cell_type": "code",
   "execution_count": 22,
   "id": "1e966c60-243f-4f2f-ab3c-7e26ed21ac76",
   "metadata": {},
   "outputs": [],
   "source": [
    "first = naked(dict(json.load(open(filepath))))\n",
    "first = {k: v for k, v in first.items() if k != v}"
   ]
  },
  {
   "cell_type": "code",
   "execution_count": 23,
   "id": "5b242a13-5b62-4115-bf66-804acf612b3c",
   "metadata": {},
   "outputs": [],
   "source": [
    "second = naked({\n",
    "    o['Elementary Name v2.2']: o['Elementary Flow Name v3']\n",
    "    for o in pd.read_excel(\"/Users/cmutel/Code/bw2/io/bw2io/data/lci/ecoinvent elementary flows 2-3.xlsx\").to_dict(orient=\"records\")\n",
    "    if isinstance(o['Elementary Name v2.2'], str) \n",
    "    and isinstance(o['Elementary Flow Name v3'], str)\n",
    "    and o['Elementary Name v2.2'] != o['Elementary Flow Name v3']\n",
    "})"
   ]
  },
  {
   "cell_type": "code",
   "execution_count": 24,
   "id": "5f4fed0b-4b9d-4e62-982f-09f08b0b248a",
   "metadata": {},
   "outputs": [
    {
     "name": "stdout",
     "output_type": "stream",
     "text": [
      "Occupation, dump site, benthos Occupation, seabed, unspecified Occupation, seabed, drilling and mining\n",
      "Occupation, industrial area, benthos Occupation, seabed, unspecified Occupation, industrial area\n",
      "Occupation, permanent crop, fruit, intensive Occupation, permanent crop, irrigated Occupation, permanent crop, irrigated, intensive\n",
      "Occupation, traffic area, road embankment Occupation, traffic area, road network Occupation, traffic area, rail/road embankment\n",
      "Occupation, water bodies, artificial Occupation, river, artificial Occupation, lake, artificial\n",
      "Transformation, from industrial area, benthos Transformation, from seabed, unspecified Transformation, from industrial area\n",
      "Transformation, from tropical rain forest Transformation, from forest, extensive Transformation, from forest, primary (non-use)\n",
      "Transformation, to dump site, benthos Transformation, to seabed, unspecified Transformation, to seabed, drilling and mining\n",
      "Transformation, to industrial area, benthos Transformation, to seabed, unspecified Transformation, to industrial area\n",
      "Transformation, to permanent crop, fruit, intensive Transformation, to permanent crop, irrigated Transformation, to permanent crop, irrigated, intensive\n",
      "Transformation, to traffic area, road embankment Transformation, to traffic area, road network Transformation, to traffic area, rail/road embankment\n",
      "Transformation, to water bodies, artificial Transformation, to river, artificial Transformation, to lake, artificial\n"
     ]
    }
   ],
   "source": [
    "for key, value in second.items():\n",
    "    if key in first and first[key] != value:\n",
    "        print(key, first[key], value)"
   ]
  },
  {
   "cell_type": "code",
   "execution_count": 25,
   "id": "92d119fb-7f2c-4485-a2bc-ce65e3e1b91f",
   "metadata": {},
   "outputs": [],
   "source": [
    "first.update(second)"
   ]
  },
  {
   "cell_type": "code",
   "execution_count": 34,
   "id": "e92dcbc3-105f-4c1a-90be-76ca323490ef",
   "metadata": {},
   "outputs": [
    {
     "name": "stderr",
     "output_type": "stream",
     "text": [
      "/Users/cmutel/virtualenvs/bw25_dev/lib/python3.10/site-packages/openpyxl/worksheet/_reader.py:329: UserWarning: Unknown extension is not supported and will be removed\n",
      "  warn(msg)\n"
     ]
    }
   ],
   "source": [
    "third = naked({\n",
    "    o['SimaPro']: o['Ecoinvent 3']\n",
    "    for o in pd.read_excel(\"/Users/cmutel/Code/bw2/io/bw2io/data/lci/SimaPro - ecoinvent - biosphere.xlsx\").to_dict(orient=\"records\")\n",
    "    if isinstance(o['SimaPro'], str) \n",
    "    and isinstance(o['Ecoinvent 3'], str)\n",
    "    and o['SimaPro'] != o['Ecoinvent 3']\n",
    "})"
   ]
  },
  {
   "cell_type": "code",
   "execution_count": 35,
   "id": "5c5a0f93-cf60-4880-8cce-179c893795f4",
   "metadata": {},
   "outputs": [],
   "source": [
    "del third['Coal, hard']\n",
    "del third['Copper, Cu 0.38%, Au 9.7E-4%, Ag 9.7E-4%, Zn 0.63%, Pb 0.014%, in ore']\n",
    "del third['Gold, Au 9.7E-4%, Ag 9.7E-4%, Zn 0.63%, Cu 0.38%, Pb 0.014%, in ore']\n",
    "del third['Lead, Pb 0.014%, Au 9.7E-4%, Ag 9.7E-4%, Zn 0.63%, Cu 0.38%, in ore']\n",
    "del third['Occupation, arable']\n",
    "del third['Occupation, water bodies, artificial']\n",
    "del third['Palladium, Pd 2.0E-4%, Pt 4.8E-4%, Rh 2.4E-5%, Ni 3.7E-2%, Cu 5.2E-2% in ore']\n",
    "del third['Palladium, Pd 7.3E-4%, Pt 2.5E-4%, Rh 2.0E-5%, Ni 2.3E+0%, Cu 3.2E+0% in ore']\n",
    "del third['Platinum, Pt 2.5E-4%, Pd 7.3E-4%, Rh 2.0E-5%, Ni 2.3E+0%, Cu 3.2E+0% in ore']\n",
    "del third['Platinum, Pt 4.8E-4%, Pd 2.0E-4%, Rh 2.4E-5%, Ni 3.7E-2%, Cu 5.2E-2% in ore']\n",
    "del third['Rhodium, Rh 2.0E-5%, Pt 2.5E-4%, Pd 7.3E-4%, Ni 2.3E+0%, Cu 3.2E+0% in ore']\n",
    "del third['Rhodium, Rh 2.4E-5%, Pt 4.8E-4%, Pd 2.0E-4%, Ni 3.7E-2%, Cu 5.2E-2% in ore']\n",
    "del third['Silver, Ag 9.7E-4%, Au 9.7E-4%, Zn 0.63%, Cu 0.38%, Pb 0.014%, in ore']\n",
    "del third['Sodium sulfate']\n",
    "del third['Transformation, to water bodies, artificial']\n",
    "del third['Zinc, Zn 0.63%, Au 9.7E-4%, Ag 9.7E-4%, Cu 0.38%, Pb 0.014%, in ore']"
   ]
  },
  {
   "cell_type": "code",
   "execution_count": 36,
   "id": "cae8ace1-2031-4b6f-a7e5-bd28dd90e996",
   "metadata": {},
   "outputs": [
    {
     "name": "stdout",
     "output_type": "stream",
     "text": [
      "Copper, Cu 3.2E+0%, Pt 2.5E-4%, Pd 7.3E-4%, Rh 2.0E-5%, Ni 2.3E+0% in ore\n",
      "\t Copper, Cu 0.38%, in mixed ore\n",
      "\t Cu, Cu 3.2E+0%, Pt 2.5E-4%, Pd 7.3E-4%, Rh 2.0E-5%, Ni 2.3E+0% in ore, in ground\n",
      "Copper, Cu 5.2E-2%, Pt 4.8E-4%, Pd 2.0E-4%, Rh 2.4E-5%, Ni 3.7E-2% in ore\n",
      "\t Copper, 0.52% in sulfide, Cu 0.27% and Mo 8.2E-3% in crude ore\n",
      "\t Cu, Cu 5.2E-2%, Pt 4.8E-4%, Pd 2.0E-4%, Rh 2.4E-5%, Ni 3.7E-2% in ore, in ground\n",
      "Nickel, Ni 3.7E-2%, Pt 4.8E-4%, Pd 2.0E-4%, Rh 2.4E-5%, Cu 5.2E-2% in ore\n",
      "\t Nickel, Ni 2.5E+0%, in mixed ore\n",
      "\t Ni, Ni 3.7E-2%, Pt 4.8E-4%, Pd 2.0E-4%, Rh 2.4E-5%, Cu 5.2E-2% in ore, in ground\n",
      "Transformation, to urban/industrial fallow\n",
      "\t Transformation, to industrial area\n",
      "\t Transformation, to urban/industrial fallow (non-use)\n"
     ]
    }
   ],
   "source": [
    "for key, value in third.items():\n",
    "    if key in first and first[key] != value:\n",
    "        print(key)\n",
    "        print(\"\\t\", first[key])\n",
    "        print(\"\\t\", value)"
   ]
  },
  {
   "cell_type": "code",
   "execution_count": 37,
   "id": "853fb476-587e-4aca-b4e0-634a82477849",
   "metadata": {},
   "outputs": [],
   "source": [
    "first.update(third)"
   ]
  },
  {
   "cell_type": "code",
   "execution_count": 38,
   "id": "205c166a-e38c-472e-a827-f3fd08b8e12a",
   "metadata": {},
   "outputs": [],
   "source": [
    "dp = Datapackage(\n",
    "    name=\"SimaPro-9-ecoinvent-3.9-biosphere-manual-matches\",\n",
    "    description=\"Manual matches of SimaPro or older ecoinvent flows to recent ecoinvent flow list\",\n",
    "    contributors=[\n",
    "        {\"title\": \"Chris Mutel\", \"path\": \"https://chris.mutel.org/\", \"role\": \"author\"},\n",
    "    ],\n",
    "    source_id=\"SimaPro-9\",\n",
    "    target_id=\"ecoinvent-3.9-biosphere\",\n",
    "    mapping_source=MappingConstants.SIMAPRO_CSV,\n",
    "    mapping_target=MappingConstants.ECOSPOLD2_BIO,\n",
    "    graph_context=[\"edges\"],\n",
    ")"
   ]
  },
  {
   "cell_type": "code",
   "execution_count": 39,
   "id": "e5d8c3d4-5df8-419e-b726-de4cf037033b",
   "metadata": {},
   "outputs": [],
   "source": [
    "dp.add_data(\n",
    "    \"replace\", \n",
    "    [{\"source\": {\"name\": a}, \"target\": {\"name\": b}} for a, b in first.items()]\n",
    ")"
   ]
  },
  {
   "cell_type": "code",
   "execution_count": 40,
   "id": "4b3afd9d-a5e0-4860-8741-66b297e537d2",
   "metadata": {},
   "outputs": [
    {
     "data": {
      "text/plain": [
       "PosixPath('/Users/cmutel/Code/randonneur_data/randonneur_data/data/simapro-9-ecoinvent-3.9-biosphere-manual-matches.json')"
      ]
     },
     "execution_count": 40,
     "metadata": {},
     "output_type": "execute_result"
    }
   ],
   "source": [
    "registry.add_file(\n",
    "    dp.to_json(\n",
    "        Path(\"simapro-9-ecoinvent-3.9-biosphere-manual-matches.json\")\n",
    "    ), \n",
    "    replace=True\n",
    ")"
   ]
  },
  {
   "cell_type": "code",
   "execution_count": null,
   "id": "ba00a5d9-bc47-4111-8b6b-0ca9d9155251",
   "metadata": {},
   "outputs": [],
   "source": []
  }
 ],
 "metadata": {
  "kernelspec": {
   "display_name": "Python 3 (ipykernel)",
   "language": "python",
   "name": "python3"
  },
  "language_info": {
   "codemirror_mode": {
    "name": "ipython",
    "version": 3
   },
   "file_extension": ".py",
   "mimetype": "text/x-python",
   "name": "python",
   "nbconvert_exporter": "python",
   "pygments_lexer": "ipython3",
   "version": "3.10.14"
  }
 },
 "nbformat": 4,
 "nbformat_minor": 5
}
