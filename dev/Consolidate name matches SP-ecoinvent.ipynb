{
 "cells": [
  {
   "cell_type": "code",
   "execution_count": 1,
   "id": "39d64b51-d61f-40de-abda-fa0d2e05541d",
   "metadata": {},
   "outputs": [],
   "source": [
    "import pandas as pd\n",
    "import json\n",
    "from pathlib import Path\n",
    "import bw2io as bi\n",
    "from randonneur import Datapackage, MappingConstants\n",
    "import randonneur_data as rd"
   ]
  },
  {
   "cell_type": "code",
   "execution_count": 2,
   "id": "b8719615-80fb-46f7-9b50-acca48642622",
   "metadata": {},
   "outputs": [],
   "source": [
    "registry = rd.Registry()"
   ]
  },
  {
   "cell_type": "markdown",
   "id": "646a2483-6198-4fb0-b508-9a83c06c0fc9",
   "metadata": {},
   "source": [
    "# 3.8"
   ]
  },
  {
   "cell_type": "code",
   "execution_count": 3,
   "id": "f1478f68-8511-4d0f-9f1a-2bbf0896ee03",
   "metadata": {},
   "outputs": [],
   "source": [
    "def naked(d):\n",
    "    return {\n",
    "        k.strip() if isinstance(k, str) else k: v.strip() if isinstance(v, str) else v\n",
    "        for k, v in d.items()\n",
    "    }"
   ]
  },
  {
   "cell_type": "code",
   "execution_count": 4,
   "id": "df06c072-d682-4b3f-a8ed-4aabf6e61830",
   "metadata": {},
   "outputs": [],
   "source": [
    "filepath = \"/Users/cmutel/Code/cauldron/flowmapper/flowmapper/data/manual_name_match_simapro_ecoinvent_3.8.json\""
   ]
  },
  {
   "cell_type": "code",
   "execution_count": 5,
   "id": "ea2ec2ca-8ef0-400f-9729-4f1ac7f21287",
   "metadata": {},
   "outputs": [],
   "source": [
    "first = naked(dict(json.load(open(filepath))))\n",
    "first = {k: v for k, v in first.items() if k != v}"
   ]
  },
  {
   "cell_type": "code",
   "execution_count": 6,
   "id": "31f2e1d5-bce9-4019-a89f-97848e6a03ec",
   "metadata": {},
   "outputs": [],
   "source": [
    "second = naked({\n",
    "    o['Elementary Name v2.2']: o['Elementary Flow Name v3']\n",
    "    for o in pd.read_excel(\"ecoinvent elementary flows 2-3.xlsx\").to_dict(orient=\"records\")\n",
    "    if isinstance(o['Elementary Name v2.2'], str) \n",
    "    and isinstance(o['Elementary Flow Name v3'], str)\n",
    "    and o['Elementary Name v2.2'] != o['Elementary Flow Name v3']\n",
    "})"
   ]
  },
  {
   "cell_type": "code",
   "execution_count": 7,
   "id": "0f6b5f5a-6a84-4999-9d92-e4498cbeb000",
   "metadata": {},
   "outputs": [],
   "source": [
    "for key, value in second.items():\n",
    "    if key in first and first[key] != value:\n",
    "        print(key, first[key], value)"
   ]
  },
  {
   "cell_type": "code",
   "execution_count": 8,
   "id": "7f207b41-a758-440d-b895-d3f3ca21a9d3",
   "metadata": {},
   "outputs": [],
   "source": [
    "first.update(second)"
   ]
  },
  {
   "cell_type": "code",
   "execution_count": 9,
   "id": "5a799b7e-0a38-40b7-9233-8ff3cd82c70e",
   "metadata": {},
   "outputs": [
    {
     "name": "stderr",
     "output_type": "stream",
     "text": [
      "/Users/cmutel/virtualenvs/bw25_dev/lib/python3.10/site-packages/openpyxl/worksheet/_reader.py:329: UserWarning: Unknown extension is not supported and will be removed\n",
      "  warn(msg)\n"
     ]
    }
   ],
   "source": [
    "third = naked({\n",
    "    o['SimaPro']: o['Ecoinvent 3']\n",
    "    for o in pd.read_excel(\"SimaPro - ecoinvent - biosphere.xlsx\").to_dict(orient=\"records\")\n",
    "    if isinstance(o['SimaPro'], str) \n",
    "    and isinstance(o['Ecoinvent 3'], str)\n",
    "    and o['SimaPro'] != o['Ecoinvent 3']\n",
    "})"
   ]
  },
  {
   "cell_type": "code",
   "execution_count": 10,
   "id": "ea457573-e65d-45e7-ac30-45479aafba11",
   "metadata": {},
   "outputs": [],
   "source": [
    "del third['Copper, Cu 0.38%, Au 9.7E-4%, Ag 9.7E-4%, Zn 0.63%, Pb 0.014%, in ore']\n",
    "del first['Copper, Cu 3.2E+0%, Pt 2.5E-4%, Pd 7.3E-4%, Rh 2.0E-5%, Ni 2.3E+0% in ore']\n",
    "del third['Transformation, to water bodies, artificial']\n",
    "del first['Copper, Cu 5.2E-2%, Pt 4.8E-4%, Pd 2.0E-4%, Rh 2.4E-5%, Ni 3.7E-2% in ore']\n",
    "del third['Occupation, arable']\n",
    "del third['Occupation, water bodies, artificial']\n",
    "del first['Transformation, to urban/industrial fallow']"
   ]
  },
  {
   "cell_type": "code",
   "execution_count": 11,
   "id": "52acec11-070c-4c73-8ff3-34083585cca9",
   "metadata": {},
   "outputs": [],
   "source": [
    "for key, value in third.items():\n",
    "    if key in first and first[key] != value:\n",
    "        print(key)\n",
    "        print(\"\\t\", first[key])\n",
    "        print(\"\\t\", value)"
   ]
  },
  {
   "cell_type": "code",
   "execution_count": 12,
   "id": "f53d1b16-e088-43ce-a6d0-6374a5bd560f",
   "metadata": {},
   "outputs": [],
   "source": [
    "first.update(third)"
   ]
  },
  {
   "cell_type": "code",
   "execution_count": 13,
   "id": "3858dcf0-d4e3-4fe0-8314-d35eb14910ce",
   "metadata": {},
   "outputs": [],
   "source": [
    "dp = Datapackage(\n",
    "    name=\"SimaPro-9-ecoinvent-3.8-biosphere-manual-matches\",\n",
    "    description=\"Manual matches of SimaPro or older ecoinvent flows to recent ecoinvent flow list\",\n",
    "    contributors=[\n",
    "        {\"title\": \"Chris Mutel\", \"path\": \"https://chris.mutel.org/\", \"role\": \"author\"},\n",
    "    ],\n",
    "    version=\"2.0\",\n",
    "    source_id=\"SimaPro-9\",\n",
    "    target_id=\"ecoinvent-3.8-biosphere\",\n",
    "    mapping_source=MappingConstants.SIMAPRO_CSV,\n",
    "    mapping_target=MappingConstants.ECOSPOLD2_BIO,\n",
    "    graph_context=[\"edges\"],\n",
    ")"
   ]
  },
  {
   "cell_type": "code",
   "execution_count": 14,
   "id": "6048ad09-c949-41e2-9506-3c1b4bdc0d34",
   "metadata": {},
   "outputs": [],
   "source": [
    "dp.add_data(\n",
    "    \"replace\", \n",
    "    [{\"source\": {\"name\": a}, \"target\": {\"name\": b}} for a, b in first.items()]\n",
    ")"
   ]
  },
  {
   "cell_type": "code",
   "execution_count": 15,
   "id": "9f38d4b9-97bb-4a3d-a35d-1c57277345f1",
   "metadata": {},
   "outputs": [
    {
     "data": {
      "text/plain": [
       "PosixPath('/Users/cmutel/Code/randonneur_data/randonneur_data/data/simapro-9-ecoinvent-3.8-biosphere-manual-matches.json')"
      ]
     },
     "execution_count": 15,
     "metadata": {},
     "output_type": "execute_result"
    }
   ],
   "source": [
    "registry.add_file(\n",
    "    dp.to_json(\n",
    "        Path(\"simapro-9-ecoinvent-3.8-biosphere-manual-matches.json\")\n",
    "    ), \n",
    "    replace=True\n",
    ")"
   ]
  },
  {
   "cell_type": "markdown",
   "id": "edc4e79f-7f8c-449b-924b-a5f5ac3b00d4",
   "metadata": {},
   "source": [
    "# 3.9"
   ]
  },
  {
   "cell_type": "code",
   "execution_count": 16,
   "id": "61a7d328-b6ff-4a37-8114-c7be03228186",
   "metadata": {},
   "outputs": [],
   "source": [
    "filepath = \"/Users/cmutel/Code/cauldron/flowmapper/flowmapper/data/manual_name_match_simapro_ecoinvent_3.9.json\""
   ]
  },
  {
   "cell_type": "code",
   "execution_count": 17,
   "id": "1e966c60-243f-4f2f-ab3c-7e26ed21ac76",
   "metadata": {},
   "outputs": [
    {
     "ename": "JSONDecodeError",
     "evalue": "Expecting ',' delimiter: line 270 column 3 (char 7113)",
     "output_type": "error",
     "traceback": [
      "\u001b[0;31m---------------------------------------------------------------------------\u001b[0m",
      "\u001b[0;31mJSONDecodeError\u001b[0m                           Traceback (most recent call last)",
      "Cell \u001b[0;32mIn[17], line 1\u001b[0m\n\u001b[0;32m----> 1\u001b[0m first \u001b[38;5;241m=\u001b[39m naked(\u001b[38;5;28mdict\u001b[39m(\u001b[43mjson\u001b[49m\u001b[38;5;241;43m.\u001b[39;49m\u001b[43mload\u001b[49m\u001b[43m(\u001b[49m\u001b[38;5;28;43mopen\u001b[39;49m\u001b[43m(\u001b[49m\u001b[43mfilepath\u001b[49m\u001b[43m)\u001b[49m\u001b[43m)\u001b[49m))\n\u001b[1;32m      2\u001b[0m first \u001b[38;5;241m=\u001b[39m {k: v \u001b[38;5;28;01mfor\u001b[39;00m k, v \u001b[38;5;129;01min\u001b[39;00m first\u001b[38;5;241m.\u001b[39mitems() \u001b[38;5;28;01mif\u001b[39;00m k \u001b[38;5;241m!=\u001b[39m v}\n",
      "File \u001b[0;32m/opt/homebrew/Cellar/python@3.10/3.10.14_1/Frameworks/Python.framework/Versions/3.10/lib/python3.10/json/__init__.py:293\u001b[0m, in \u001b[0;36mload\u001b[0;34m(fp, cls, object_hook, parse_float, parse_int, parse_constant, object_pairs_hook, **kw)\u001b[0m\n\u001b[1;32m    274\u001b[0m \u001b[38;5;28;01mdef\u001b[39;00m \u001b[38;5;21mload\u001b[39m(fp, \u001b[38;5;241m*\u001b[39m, \u001b[38;5;28mcls\u001b[39m\u001b[38;5;241m=\u001b[39m\u001b[38;5;28;01mNone\u001b[39;00m, object_hook\u001b[38;5;241m=\u001b[39m\u001b[38;5;28;01mNone\u001b[39;00m, parse_float\u001b[38;5;241m=\u001b[39m\u001b[38;5;28;01mNone\u001b[39;00m,\n\u001b[1;32m    275\u001b[0m         parse_int\u001b[38;5;241m=\u001b[39m\u001b[38;5;28;01mNone\u001b[39;00m, parse_constant\u001b[38;5;241m=\u001b[39m\u001b[38;5;28;01mNone\u001b[39;00m, object_pairs_hook\u001b[38;5;241m=\u001b[39m\u001b[38;5;28;01mNone\u001b[39;00m, \u001b[38;5;241m*\u001b[39m\u001b[38;5;241m*\u001b[39mkw):\n\u001b[1;32m    276\u001b[0m \u001b[38;5;250m    \u001b[39m\u001b[38;5;124;03m\"\"\"Deserialize ``fp`` (a ``.read()``-supporting file-like object containing\u001b[39;00m\n\u001b[1;32m    277\u001b[0m \u001b[38;5;124;03m    a JSON document) to a Python object.\u001b[39;00m\n\u001b[1;32m    278\u001b[0m \n\u001b[0;32m   (...)\u001b[0m\n\u001b[1;32m    291\u001b[0m \u001b[38;5;124;03m    kwarg; otherwise ``JSONDecoder`` is used.\u001b[39;00m\n\u001b[1;32m    292\u001b[0m \u001b[38;5;124;03m    \"\"\"\u001b[39;00m\n\u001b[0;32m--> 293\u001b[0m     \u001b[38;5;28;01mreturn\u001b[39;00m \u001b[43mloads\u001b[49m\u001b[43m(\u001b[49m\u001b[43mfp\u001b[49m\u001b[38;5;241;43m.\u001b[39;49m\u001b[43mread\u001b[49m\u001b[43m(\u001b[49m\u001b[43m)\u001b[49m\u001b[43m,\u001b[49m\n\u001b[1;32m    294\u001b[0m \u001b[43m        \u001b[49m\u001b[38;5;28;43mcls\u001b[39;49m\u001b[38;5;241;43m=\u001b[39;49m\u001b[38;5;28;43mcls\u001b[39;49m\u001b[43m,\u001b[49m\u001b[43m \u001b[49m\u001b[43mobject_hook\u001b[49m\u001b[38;5;241;43m=\u001b[39;49m\u001b[43mobject_hook\u001b[49m\u001b[43m,\u001b[49m\n\u001b[1;32m    295\u001b[0m \u001b[43m        \u001b[49m\u001b[43mparse_float\u001b[49m\u001b[38;5;241;43m=\u001b[39;49m\u001b[43mparse_float\u001b[49m\u001b[43m,\u001b[49m\u001b[43m \u001b[49m\u001b[43mparse_int\u001b[49m\u001b[38;5;241;43m=\u001b[39;49m\u001b[43mparse_int\u001b[49m\u001b[43m,\u001b[49m\n\u001b[1;32m    296\u001b[0m \u001b[43m        \u001b[49m\u001b[43mparse_constant\u001b[49m\u001b[38;5;241;43m=\u001b[39;49m\u001b[43mparse_constant\u001b[49m\u001b[43m,\u001b[49m\u001b[43m \u001b[49m\u001b[43mobject_pairs_hook\u001b[49m\u001b[38;5;241;43m=\u001b[39;49m\u001b[43mobject_pairs_hook\u001b[49m\u001b[43m,\u001b[49m\u001b[43m \u001b[49m\u001b[38;5;241;43m*\u001b[39;49m\u001b[38;5;241;43m*\u001b[39;49m\u001b[43mkw\u001b[49m\u001b[43m)\u001b[49m\n",
      "File \u001b[0;32m/opt/homebrew/Cellar/python@3.10/3.10.14_1/Frameworks/Python.framework/Versions/3.10/lib/python3.10/json/__init__.py:346\u001b[0m, in \u001b[0;36mloads\u001b[0;34m(s, cls, object_hook, parse_float, parse_int, parse_constant, object_pairs_hook, **kw)\u001b[0m\n\u001b[1;32m    341\u001b[0m     s \u001b[38;5;241m=\u001b[39m s\u001b[38;5;241m.\u001b[39mdecode(detect_encoding(s), \u001b[38;5;124m'\u001b[39m\u001b[38;5;124msurrogatepass\u001b[39m\u001b[38;5;124m'\u001b[39m)\n\u001b[1;32m    343\u001b[0m \u001b[38;5;28;01mif\u001b[39;00m (\u001b[38;5;28mcls\u001b[39m \u001b[38;5;129;01mis\u001b[39;00m \u001b[38;5;28;01mNone\u001b[39;00m \u001b[38;5;129;01mand\u001b[39;00m object_hook \u001b[38;5;129;01mis\u001b[39;00m \u001b[38;5;28;01mNone\u001b[39;00m \u001b[38;5;129;01mand\u001b[39;00m\n\u001b[1;32m    344\u001b[0m         parse_int \u001b[38;5;129;01mis\u001b[39;00m \u001b[38;5;28;01mNone\u001b[39;00m \u001b[38;5;129;01mand\u001b[39;00m parse_float \u001b[38;5;129;01mis\u001b[39;00m \u001b[38;5;28;01mNone\u001b[39;00m \u001b[38;5;129;01mand\u001b[39;00m\n\u001b[1;32m    345\u001b[0m         parse_constant \u001b[38;5;129;01mis\u001b[39;00m \u001b[38;5;28;01mNone\u001b[39;00m \u001b[38;5;129;01mand\u001b[39;00m object_pairs_hook \u001b[38;5;129;01mis\u001b[39;00m \u001b[38;5;28;01mNone\u001b[39;00m \u001b[38;5;129;01mand\u001b[39;00m \u001b[38;5;129;01mnot\u001b[39;00m kw):\n\u001b[0;32m--> 346\u001b[0m     \u001b[38;5;28;01mreturn\u001b[39;00m \u001b[43m_default_decoder\u001b[49m\u001b[38;5;241;43m.\u001b[39;49m\u001b[43mdecode\u001b[49m\u001b[43m(\u001b[49m\u001b[43ms\u001b[49m\u001b[43m)\u001b[49m\n\u001b[1;32m    347\u001b[0m \u001b[38;5;28;01mif\u001b[39;00m \u001b[38;5;28mcls\u001b[39m \u001b[38;5;129;01mis\u001b[39;00m \u001b[38;5;28;01mNone\u001b[39;00m:\n\u001b[1;32m    348\u001b[0m     \u001b[38;5;28mcls\u001b[39m \u001b[38;5;241m=\u001b[39m JSONDecoder\n",
      "File \u001b[0;32m/opt/homebrew/Cellar/python@3.10/3.10.14_1/Frameworks/Python.framework/Versions/3.10/lib/python3.10/json/decoder.py:337\u001b[0m, in \u001b[0;36mJSONDecoder.decode\u001b[0;34m(self, s, _w)\u001b[0m\n\u001b[1;32m    332\u001b[0m \u001b[38;5;28;01mdef\u001b[39;00m \u001b[38;5;21mdecode\u001b[39m(\u001b[38;5;28mself\u001b[39m, s, _w\u001b[38;5;241m=\u001b[39mWHITESPACE\u001b[38;5;241m.\u001b[39mmatch):\n\u001b[1;32m    333\u001b[0m \u001b[38;5;250m    \u001b[39m\u001b[38;5;124;03m\"\"\"Return the Python representation of ``s`` (a ``str`` instance\u001b[39;00m\n\u001b[1;32m    334\u001b[0m \u001b[38;5;124;03m    containing a JSON document).\u001b[39;00m\n\u001b[1;32m    335\u001b[0m \n\u001b[1;32m    336\u001b[0m \u001b[38;5;124;03m    \"\"\"\u001b[39;00m\n\u001b[0;32m--> 337\u001b[0m     obj, end \u001b[38;5;241m=\u001b[39m \u001b[38;5;28;43mself\u001b[39;49m\u001b[38;5;241;43m.\u001b[39;49m\u001b[43mraw_decode\u001b[49m\u001b[43m(\u001b[49m\u001b[43ms\u001b[49m\u001b[43m,\u001b[49m\u001b[43m \u001b[49m\u001b[43midx\u001b[49m\u001b[38;5;241;43m=\u001b[39;49m\u001b[43m_w\u001b[49m\u001b[43m(\u001b[49m\u001b[43ms\u001b[49m\u001b[43m,\u001b[49m\u001b[43m \u001b[49m\u001b[38;5;241;43m0\u001b[39;49m\u001b[43m)\u001b[49m\u001b[38;5;241;43m.\u001b[39;49m\u001b[43mend\u001b[49m\u001b[43m(\u001b[49m\u001b[43m)\u001b[49m\u001b[43m)\u001b[49m\n\u001b[1;32m    338\u001b[0m     end \u001b[38;5;241m=\u001b[39m _w(s, end)\u001b[38;5;241m.\u001b[39mend()\n\u001b[1;32m    339\u001b[0m     \u001b[38;5;28;01mif\u001b[39;00m end \u001b[38;5;241m!=\u001b[39m \u001b[38;5;28mlen\u001b[39m(s):\n",
      "File \u001b[0;32m/opt/homebrew/Cellar/python@3.10/3.10.14_1/Frameworks/Python.framework/Versions/3.10/lib/python3.10/json/decoder.py:353\u001b[0m, in \u001b[0;36mJSONDecoder.raw_decode\u001b[0;34m(self, s, idx)\u001b[0m\n\u001b[1;32m    344\u001b[0m \u001b[38;5;250m\u001b[39m\u001b[38;5;124;03m\"\"\"Decode a JSON document from ``s`` (a ``str`` beginning with\u001b[39;00m\n\u001b[1;32m    345\u001b[0m \u001b[38;5;124;03ma JSON document) and return a 2-tuple of the Python\u001b[39;00m\n\u001b[1;32m    346\u001b[0m \u001b[38;5;124;03mrepresentation and the index in ``s`` where the document ended.\u001b[39;00m\n\u001b[0;32m   (...)\u001b[0m\n\u001b[1;32m    350\u001b[0m \n\u001b[1;32m    351\u001b[0m \u001b[38;5;124;03m\"\"\"\u001b[39;00m\n\u001b[1;32m    352\u001b[0m \u001b[38;5;28;01mtry\u001b[39;00m:\n\u001b[0;32m--> 353\u001b[0m     obj, end \u001b[38;5;241m=\u001b[39m \u001b[38;5;28;43mself\u001b[39;49m\u001b[38;5;241;43m.\u001b[39;49m\u001b[43mscan_once\u001b[49m\u001b[43m(\u001b[49m\u001b[43ms\u001b[49m\u001b[43m,\u001b[49m\u001b[43m \u001b[49m\u001b[43midx\u001b[49m\u001b[43m)\u001b[49m\n\u001b[1;32m    354\u001b[0m \u001b[38;5;28;01mexcept\u001b[39;00m \u001b[38;5;167;01mStopIteration\u001b[39;00m \u001b[38;5;28;01mas\u001b[39;00m err:\n\u001b[1;32m    355\u001b[0m     \u001b[38;5;28;01mraise\u001b[39;00m JSONDecodeError(\u001b[38;5;124m\"\u001b[39m\u001b[38;5;124mExpecting value\u001b[39m\u001b[38;5;124m\"\u001b[39m, s, err\u001b[38;5;241m.\u001b[39mvalue) \u001b[38;5;28;01mfrom\u001b[39;00m \u001b[38;5;28;01mNone\u001b[39;00m\n",
      "\u001b[0;31mJSONDecodeError\u001b[0m: Expecting ',' delimiter: line 270 column 3 (char 7113)"
     ]
    }
   ],
   "source": [
    "first = naked(dict(json.load(open(filepath))))\n",
    "first = {k: v for k, v in first.items() if k != v}"
   ]
  },
  {
   "cell_type": "code",
   "execution_count": null,
   "id": "5b242a13-5b62-4115-bf66-804acf612b3c",
   "metadata": {},
   "outputs": [],
   "source": [
    "second = naked({\n",
    "    o['Elementary Name v2.2']: o['Elementary Flow Name v3']\n",
    "    for o in pd.read_excel(\"ecoinvent elementary flows 2-3.xlsx\").to_dict(orient=\"records\")\n",
    "    if isinstance(o['Elementary Name v2.2'], str) \n",
    "    and isinstance(o['Elementary Flow Name v3'], str)\n",
    "    and o['Elementary Name v2.2'] != o['Elementary Flow Name v3']\n",
    "})"
   ]
  },
  {
   "cell_type": "code",
   "execution_count": null,
   "id": "5f4fed0b-4b9d-4e62-982f-09f08b0b248a",
   "metadata": {},
   "outputs": [],
   "source": [
    "for key, value in second.items():\n",
    "    if key in first and first[key] != value:\n",
    "        print(key, first[key], value)"
   ]
  },
  {
   "cell_type": "code",
   "execution_count": null,
   "id": "92d119fb-7f2c-4485-a2bc-ce65e3e1b91f",
   "metadata": {},
   "outputs": [],
   "source": [
    "first.update(second)"
   ]
  },
  {
   "cell_type": "code",
   "execution_count": null,
   "id": "e92dcbc3-105f-4c1a-90be-76ca323490ef",
   "metadata": {},
   "outputs": [],
   "source": [
    "third = naked({\n",
    "    o['SimaPro']: o['Ecoinvent 3']\n",
    "    for o in pd.read_excel(\"SimaPro - ecoinvent - biosphere.xlsx\").to_dict(orient=\"records\")\n",
    "    if isinstance(o['SimaPro'], str) \n",
    "    and isinstance(o['Ecoinvent 3'], str)\n",
    "    and o['SimaPro'] != o['Ecoinvent 3']\n",
    "})"
   ]
  },
  {
   "cell_type": "code",
   "execution_count": null,
   "id": "5c5a0f93-cf60-4880-8cce-179c893795f4",
   "metadata": {},
   "outputs": [],
   "source": [
    "del third['Coal, hard']\n",
    "del third['Copper, Cu 0.38%, Au 9.7E-4%, Ag 9.7E-4%, Zn 0.63%, Pb 0.014%, in ore']\n",
    "del third['Gold, Au 9.7E-4%, Ag 9.7E-4%, Zn 0.63%, Cu 0.38%, Pb 0.014%, in ore']\n",
    "del third['Lead, Pb 0.014%, Au 9.7E-4%, Ag 9.7E-4%, Zn 0.63%, Cu 0.38%, in ore']\n",
    "del third['Occupation, arable']\n",
    "del third['Occupation, water bodies, artificial']\n",
    "del third['Palladium, Pd 2.0E-4%, Pt 4.8E-4%, Rh 2.4E-5%, Ni 3.7E-2%, Cu 5.2E-2% in ore']\n",
    "del third['Palladium, Pd 7.3E-4%, Pt 2.5E-4%, Rh 2.0E-5%, Ni 2.3E+0%, Cu 3.2E+0% in ore']\n",
    "del third['Platinum, Pt 2.5E-4%, Pd 7.3E-4%, Rh 2.0E-5%, Ni 2.3E+0%, Cu 3.2E+0% in ore']\n",
    "del third['Platinum, Pt 4.8E-4%, Pd 2.0E-4%, Rh 2.4E-5%, Ni 3.7E-2%, Cu 5.2E-2% in ore']\n",
    "del third['Rhodium, Rh 2.0E-5%, Pt 2.5E-4%, Pd 7.3E-4%, Ni 2.3E+0%, Cu 3.2E+0% in ore']\n",
    "del third['Rhodium, Rh 2.4E-5%, Pt 4.8E-4%, Pd 2.0E-4%, Ni 3.7E-2%, Cu 5.2E-2% in ore']\n",
    "del third['Silver, Ag 9.7E-4%, Au 9.7E-4%, Zn 0.63%, Cu 0.38%, Pb 0.014%, in ore']\n",
    "del third['Sodium sulfate']\n",
    "del third['Transformation, to water bodies, artificial']\n",
    "del third['Zinc, Zn 0.63%, Au 9.7E-4%, Ag 9.7E-4%, Cu 0.38%, Pb 0.014%, in ore']"
   ]
  },
  {
   "cell_type": "code",
   "execution_count": null,
   "id": "cae8ace1-2031-4b6f-a7e5-bd28dd90e996",
   "metadata": {},
   "outputs": [],
   "source": [
    "for key, value in third.items():\n",
    "    if key in first and first[key] != value:\n",
    "        print(key)\n",
    "        print(\"\\t\", first[key])\n",
    "        print(\"\\t\", value)"
   ]
  },
  {
   "cell_type": "code",
   "execution_count": null,
   "id": "853fb476-587e-4aca-b4e0-634a82477849",
   "metadata": {},
   "outputs": [],
   "source": [
    "first.update(third)"
   ]
  },
  {
   "cell_type": "code",
   "execution_count": null,
   "id": "205c166a-e38c-472e-a827-f3fd08b8e12a",
   "metadata": {},
   "outputs": [],
   "source": [
    "dp = Datapackage(\n",
    "    name=\"SimaPro-9-ecoinvent-3.9-biosphere-manual-matches\",\n",
    "    description=\"Manual matches of SimaPro or older ecoinvent flows to recent ecoinvent flow list\",\n",
    "    contributors=[\n",
    "        {\"title\": \"Chris Mutel\", \"path\": \"https://chris.mutel.org/\", \"role\": \"author\"},\n",
    "    ],\n",
    "    source_id=\"SimaPro-9\",\n",
    "    version=\"2.0\",\n",
    "    target_id=\"ecoinvent-3.9-biosphere\",\n",
    "    mapping_source=MappingConstants.SIMAPRO_CSV,\n",
    "    mapping_target=MappingConstants.ECOSPOLD2_BIO,\n",
    "    graph_context=[\"edges\"],\n",
    ")"
   ]
  },
  {
   "cell_type": "code",
   "execution_count": null,
   "id": "e5d8c3d4-5df8-419e-b726-de4cf037033b",
   "metadata": {},
   "outputs": [],
   "source": [
    "dp.add_data(\n",
    "    \"replace\", \n",
    "    [{\"source\": {\"name\": a}, \"target\": {\"name\": b}} for a, b in first.items()]\n",
    ")"
   ]
  },
  {
   "cell_type": "code",
   "execution_count": null,
   "id": "4b3afd9d-a5e0-4860-8741-66b297e537d2",
   "metadata": {},
   "outputs": [],
   "source": [
    "registry.add_file(\n",
    "    dp.to_json(\n",
    "        Path(\"simapro-9-ecoinvent-3.9-biosphere-manual-matches.json\")\n",
    "    ), \n",
    "    replace=True\n",
    ")"
   ]
  },
  {
   "cell_type": "code",
   "execution_count": null,
   "id": "ba00a5d9-bc47-4111-8b6b-0ca9d9155251",
   "metadata": {},
   "outputs": [],
   "source": []
  }
 ],
 "metadata": {
  "kernelspec": {
   "display_name": "Python 3 (ipykernel)",
   "language": "python",
   "name": "python3"
  },
  "language_info": {
   "codemirror_mode": {
    "name": "ipython",
    "version": 3
   },
   "file_extension": ".py",
   "mimetype": "text/x-python",
   "name": "python",
   "nbconvert_exporter": "python",
   "pygments_lexer": "ipython3",
   "version": "3.10.14"
  }
 },
 "nbformat": 4,
 "nbformat_minor": 5
}
