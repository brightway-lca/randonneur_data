{
 "cells": [
  {
   "cell_type": "code",
   "execution_count": 1,
   "id": "9561d4b0-9a35-4560-ba93-c93b2e6fd8b9",
   "metadata": {},
   "outputs": [],
   "source": [
    "import randonneur\n",
    "from pathlib import Path\n",
    "import flowmapper\n",
    "from flowmapper.main import load_standard_transformations, read_migration_files, prepare_transformations, Flow, Flowmap\n",
    "import json"
   ]
  },
  {
   "cell_type": "code",
   "execution_count": 2,
   "id": "9f76dde7-67ae-47d2-8680-8effee116952",
   "metadata": {},
   "outputs": [],
   "source": [
    "source = Path(\"/Users/cmutel/Projects/IKEA SimaPro CSV import/simapro-biosphere-2024.json\")\n",
    "target = Path(\"/Users/cmutel/Code/cauldron/flowmapper-ci/data/ecoinvent-3.9-biosphere.json\")\n",
    "output_dir = Path(\"/Users/cmutel/Code/cauldron/flowmapper-ci/mappings\")\n",
    "transformations = [Path(\"/Users/cmutel/Code/cauldron/flowmapper-ci/transformations/sp-formatted-3.9.json\")]"
   ]
  },
  {
   "cell_type": "code",
   "execution_count": 3,
   "id": "6f59385f-fd9f-4734-8c0c-8ca8560dca07",
   "metadata": {},
   "outputs": [],
   "source": [
    "source=source\n",
    "target=target\n",
    "mapping_source=randonneur.MappingConstants.SIMAPRO_CSV\n",
    "mapping_target=randonneur.MappingConstants.ECOSPOLD2_BIO_FLOWMAPPER\n",
    "source_id=\"SimaPro-9\"\n",
    "target_id=\"ecoinvent-3.9-biosphere\"\n",
    "output_dir=output_dir\n",
    "format=flowmapper.OutputFormat.randonneur\n",
    "transformations=transformations\n",
    "contributors=[{\n",
    "    \"title\": \"Chris Mutel\",\n",
    "    \"path\": \"https://chris.mutel.org/\",\n",
    "    \"role\": \"author\"\n",
    "}]"
   ]
  },
  {
   "cell_type": "code",
   "execution_count": 4,
   "id": "7edc2e95-09da-4fc4-8525-79937074745f",
   "metadata": {},
   "outputs": [],
   "source": [
    "default_transformations = True\n",
    "\n",
    "loaded_transformations = []\n",
    "if default_transformations:\n",
    "    loaded_transformations.extend(load_standard_transformations())\n",
    "if transformations:\n",
    "    loaded_transformations.extend(read_migration_files(*transformations))\n",
    "\n",
    "prepared_transformations = prepare_transformations(loaded_transformations)"
   ]
  },
  {
   "cell_type": "code",
   "execution_count": 5,
   "id": "c7329ec4-707d-419e-a7e5-f47e0e4fd44b",
   "metadata": {},
   "outputs": [
    {
     "name": "stdout",
     "output_type": "stream",
     "text": [
      "7113 source flows...\n",
      "4718 target flows...\n"
     ]
    },
    {
     "name": "stderr",
     "output_type": "stream",
     "text": [
      "100%|███████████████████████████████████████| 7113/7113 [04:45<00:00, 24.90it/s]"
     ]
    },
    {
     "name": "stdout",
     "output_type": "stream",
     "text": [
      "5440 mappings (76.48% of total).\n",
      "Mappings cardinalities: {'1:1': 1922, 'N:1': 3518}\n"
     ]
    },
    {
     "name": "stderr",
     "output_type": "stream",
     "text": [
      "\n"
     ]
    }
   ],
   "source": [
    "source_flows = [\n",
    "    Flow(flow, prepared_transformations) for flow in json.load(open(source))\n",
    "]\n",
    "source_flows = [flow for flow in source_flows if not flow.missing]\n",
    "target_flows = [\n",
    "    Flow(flow, prepared_transformations) for flow in json.load(open(target))\n",
    "]\n",
    "\n",
    "flowmap = Flowmap(source_flows, target_flows)\n",
    "flowmap.statistics()"
   ]
  },
  {
   "cell_type": "code",
   "execution_count": 6,
   "id": "ad7c727c-3130-4847-93ca-31c8a0289f7d",
   "metadata": {},
   "outputs": [
    {
     "data": {
      "text/plain": [
       "<randonneur.datapackage.Datapackage at 0x15f960580>"
      ]
     },
     "execution_count": 6,
     "metadata": {},
     "output_type": "execute_result"
    }
   ],
   "source": [
    "stem = f\"{source.stem}-{target.stem}\"\n",
    "flowmap.to_randonneur(\n",
    "    source_id=source_id,\n",
    "    target_id=target_id,\n",
    "    contributors=contributors,\n",
    "    mapping_source=mapping_source,\n",
    "    mapping_target=mapping_target,\n",
    "    path=output_dir / f\"{stem}.json\"\n",
    ")"
   ]
  },
  {
   "cell_type": "code",
   "execution_count": 7,
   "id": "637fe757-3bd6-4cbe-a222-839c5522ac3a",
   "metadata": {},
   "outputs": [
    {
     "data": {
      "text/plain": [
       "PosixPath('/Users/cmutel/Code/cauldron/flowmapper-ci/mappings/simapro-biosphere-2024-ecoinvent-3.9-biosphere.json')"
      ]
     },
     "execution_count": 7,
     "metadata": {},
     "output_type": "execute_result"
    }
   ],
   "source": [
    "output_dir / f\"{stem}.json\""
   ]
  },
  {
   "cell_type": "code",
   "execution_count": null,
   "id": "f807c0c6-2766-45fe-b076-2f615e0a84a3",
   "metadata": {},
   "outputs": [],
   "source": []
  }
 ],
 "metadata": {
  "kernelspec": {
   "display_name": "Python 3 (ipykernel)",
   "language": "python",
   "name": "python3"
  },
  "language_info": {
   "codemirror_mode": {
    "name": "ipython",
    "version": 3
   },
   "file_extension": ".py",
   "mimetype": "text/x-python",
   "name": "python",
   "nbconvert_exporter": "python",
   "pygments_lexer": "ipython3",
   "version": "3.10.14"
  }
 },
 "nbformat": 4,
 "nbformat_minor": 5
}
