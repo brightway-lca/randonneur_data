{
 "cells": [
  {
   "cell_type": "code",
   "execution_count": 1,
   "id": "8f582405-43c0-4a33-9ebe-ea9ca33b951b",
   "metadata": {},
   "outputs": [],
   "source": [
    "from flowmapper.utils import places\n",
    "import randonneur_data as rd\n",
    "import randonneur as rn\n",
    "from pathlib import Path\n",
    "import bw2data as bd"
   ]
  },
  {
   "cell_type": "code",
   "execution_count": 2,
   "id": "f7b608c1-29f9-4828-8d5d-d678431fcaa9",
   "metadata": {},
   "outputs": [],
   "source": [
    "bd.projects.set_current(\"ecoinvent-multiversion-cutoff-base\")"
   ]
  },
  {
   "cell_type": "code",
   "execution_count": 3,
   "id": "0bdb70ae-4355-4f4f-9d14-1aa00a0b23d0",
   "metadata": {},
   "outputs": [],
   "source": [
    "mapping = {(obj['name'], tuple(obj['categories']), obj['unit']): obj['code'] for obj in bd.Database(\"ecoinvent-3.10-biosphere\")}"
   ]
  },
  {
   "cell_type": "code",
   "execution_count": 4,
   "id": "03decf1f-3557-44e8-b74e-0df983950524",
   "metadata": {},
   "outputs": [],
   "source": [
    "registry = rd.Registry()"
   ]
  },
  {
   "cell_type": "code",
   "execution_count": 5,
   "id": "720c9748-5a13-4f37-a33b-92c19649261f",
   "metadata": {},
   "outputs": [],
   "source": [
    "def categories(o):\n",
    "    if o[1] == \"(unspecified)\":\n",
    "        return [o[0]]\n",
    "    return o"
   ]
  },
  {
   "cell_type": "code",
   "execution_count": 6,
   "id": "4d802591-6b1c-472a-b7db-6bda7f300e3e",
   "metadata": {},
   "outputs": [],
   "source": [
    "data = [\n",
    "    {\n",
    "        \"source\": {\"name\": f\"Water/m3, {place}\", \"unit\": \"m3\", \"context\": context_pair['source']['context']},\n",
    "        \"target\": {\n",
    "            \"name\": 'Water', \n",
    "            \"context\": context_pair['target']['context'], \n",
    "            'identifier': mapping[('Water', tuple(categories(context_pair['target']['context'])), 'cubic meter')]\n",
    "        },\n",
    "        \"location\": place,\n",
    "        \"comment\": \"Manual matching of all 'Water/m3, <place>' patterns\"\n",
    "    }\n",
    "    for place in places\n",
    "    for context_pair in registry.get_file('simapro-9-ecoinvent-3-context')['replace']\n",
    "    if context_pair['target']['context'][0] in ('air', 'water')\n",
    "    and ('Water', tuple(categories(context_pair['target']['context'])), 'cubic meter') in mapping\n",
    "] + [\n",
    "    {\n",
    "        \"source\": {\"name\": f\"Water/m3, {place}\", \"unit\": \"m3\", \"context\": context_pair['source']['context']},\n",
    "        \"target\": {\n",
    "            \"name\": \"Water, unspecified natural origin\", \n",
    "            \"context\": context_pair['target']['context'], \n",
    "            \"identifier\": mapping[('Water, unspecified natural origin', tuple(categories(context_pair['target']['context'])), 'cubic meter')]\n",
    "        },\n",
    "        \"location\": place,\n",
    "        \"comment\": \"Manual matching of all 'Water/m3, <place>' patterns\"\n",
    "    }\n",
    "    for place in places\n",
    "    for context_pair in registry.get_file('simapro-9-ecoinvent-3-context')['replace']\n",
    "    if context_pair['target']['context'][0] == 'natural resource'\n",
    "    and ('Water, unspecified natural origin', tuple(categories(context_pair['target']['context'])), 'cubic meter') in mapping\n",
    "] + [\n",
    "    {\n",
    "        \"source\": {\"name\": f\"Water/m3, {place}\", \"unit\": \"m3\", \"context\": context_pair['source']['context']},\n",
    "        \"target\": {\n",
    "            \"name\": \"Water, unspecified natural origin\", \n",
    "            \"context\": ('natural resource', 'in water'), \n",
    "            \"identifier\": mapping[('Water, unspecified natural origin', ('natural resource', 'in water'), 'cubic meter')]\n",
    "        },\n",
    "        \"location\": place,\n",
    "        \"comment\": \"Manual matching of all 'Water/m3, <place>' patterns\"\n",
    "    }\n",
    "    for place in places\n",
    "    for context_pair in registry.get_file('simapro-9-ecoinvent-3-context')['replace']\n",
    "    if context_pair['target']['context'][0] == 'natural resource'\n",
    "    and (len(context_pair['source']['context']) == 1 or (context_pair['source']['context'][1] == '(unspecified)'))\n",
    "]"
   ]
  },
  {
   "cell_type": "code",
   "execution_count": 7,
   "id": "d63f176f-d21f-40ef-9234-965c18554a19",
   "metadata": {},
   "outputs": [
    {
     "name": "stdout",
     "output_type": "stream",
     "text": [
      "['air', 'indoor']\n",
      "['air', 'indoor']\n",
      "['air', 'indoor']\n",
      "['natural resource', '(unspecified)']\n",
      "['natural resource', '(unspecified)']\n",
      "['natural resource', '(unspecified)']\n",
      "['natural resource', 'biotic']\n",
      "['natural resource', 'biotic']\n",
      "['natural resource', 'biotic']\n",
      "['natural resource', 'in air']\n",
      "['natural resource', 'in air']\n",
      "['natural resource', 'in air']\n",
      "['natural resource', 'land']\n",
      "['natural resource', 'land']\n",
      "['natural resource', 'land']\n",
      "['natural resource', '(unspecified)']\n",
      "['natural resource', '(unspecified)']\n",
      "['natural resource', '(unspecified)']\n",
      "['natural resource', '(unspecified)']\n",
      "['natural resource', '(unspecified)']\n",
      "['natural resource', '(unspecified)']\n",
      "['natural resource', '(unspecified)']\n",
      "['natural resource', '(unspecified)']\n",
      "['natural resource', '(unspecified)']\n"
     ]
    }
   ],
   "source": [
    "for context_pair in registry.get_file('simapro-9-ecoinvent-3-context')['replace']:\n",
    "    if ('Water', tuple(categories(context_pair['target']['context'])), 'cubic meter') not in mapping and context_pair['target']['context'][0] in ('air', 'water'):\n",
    "        print(context_pair['target']['context'])\n",
    "for context_pair in registry.get_file('simapro-9-ecoinvent-3-context')['replace']:\n",
    "    if ('Water, unspecified natural origin', tuple(categories(context_pair['target']['context'])), 'cubic meter') not in mapping and context_pair['target']['context'][0] == 'natural resource':\n",
    "        print(context_pair['target']['context'])        "
   ]
  },
  {
   "cell_type": "code",
   "execution_count": 8,
   "id": "e6500407-2ad8-430a-b107-735d2ff36e6a",
   "metadata": {},
   "outputs": [
    {
     "data": {
      "text/plain": [
       "PosixPath('/Users/cmutel/Code/randonneur_data/randonneur_data/data/simapro-9-ecoinvent-3-water-slash-m3.xz')"
      ]
     },
     "execution_count": 8,
     "metadata": {},
     "output_type": "execute_result"
    }
   ],
   "source": [
    "dp = rn.Datapackage(\n",
    "    name=\"simapro-9-ecoinvent-3-water-slash-m3\",\n",
    "    description=\"Specific mapping to handle regionalized 'Water/m3, <place>' pattern for all possible locations\",\n",
    "    contributors=[\n",
    "        {\"title\": \"Chris Mutel\", \"path\": \"https://chris.mutel.org/\", \"role\": \"author\"},\n",
    "    ],\n",
    "    mapping_source=rn.MappingConstants.SIMAPRO_CSV | {\"as-tuple\": [\"context\"]},\n",
    "    mapping_target=rn.MappingConstants.ECOSPOLD2_BIO_FLOWMAPPER | {\"as-tuple\": [\"context\"]},\n",
    "    version=\"1.0.0\",\n",
    "    source_id=\"SimaPro-9\",\n",
    "    target_id=\"ecoinvent-3-biosphere\"\n",
    ")\n",
    "dp.add_data(\"replace\", data)\n",
    "registry.add_file(dp.to_json(Path(\"simapro-9-ecoinvent-3-water-slash-m3.json\")), replace=True)"
   ]
  },
  {
   "cell_type": "code",
   "execution_count": null,
   "id": "6ad4f2d3-51ed-49e5-b900-7c3d4a6223fe",
   "metadata": {},
   "outputs": [],
   "source": []
  }
 ],
 "metadata": {
  "kernelspec": {
   "display_name": "Python 3 (ipykernel)",
   "language": "python",
   "name": "python3"
  },
  "language_info": {
   "codemirror_mode": {
    "name": "ipython",
    "version": 3
   },
   "file_extension": ".py",
   "mimetype": "text/x-python",
   "name": "python",
   "nbconvert_exporter": "python",
   "pygments_lexer": "ipython3",
   "version": "3.10.14"
  }
 },
 "nbformat": 4,
 "nbformat_minor": 5
}
