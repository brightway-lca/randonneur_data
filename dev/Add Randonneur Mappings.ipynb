{
 "cells": [
  {
   "cell_type": "code",
   "execution_count": 1,
   "id": "135021c1-8715-4c28-8de2-141d43a78c0f",
   "metadata": {},
   "outputs": [],
   "source": [
    "from pathlib import Path"
   ]
  },
  {
   "cell_type": "code",
   "execution_count": 2,
   "id": "0d1b8960-6b96-42da-8016-d92eae327fe4",
   "metadata": {},
   "outputs": [],
   "source": [
    "fp = Path(\"/Users/cmutel/Code/cauldron/flowmapper-ci/mappings/simapro-biosphere-2024-ecoinvent-3.9-biosphere.json\")"
   ]
  },
  {
   "cell_type": "code",
   "execution_count": 3,
   "id": "884f15bd-3dfa-428a-a000-8ef8052778ba",
   "metadata": {},
   "outputs": [],
   "source": [
    "import randonneur_data as rd"
   ]
  },
  {
   "cell_type": "code",
   "execution_count": 4,
   "id": "4117d1e4-7617-4779-b63f-38c112a99d6c",
   "metadata": {},
   "outputs": [
    {
     "data": {
      "text/plain": [
       "PosixPath('/Users/cmutel/Code/randonneur_data/randonneur_data/data/simapro-biosphere-2024-ecoinvent-3.9-biosphere.xz')"
      ]
     },
     "execution_count": 4,
     "metadata": {},
     "output_type": "execute_result"
    }
   ],
   "source": [
    "rd.Registry().add_file(fp)"
   ]
  },
  {
   "cell_type": "code",
   "execution_count": 2,
   "id": "481926a0-87e2-499b-91da-95ae4d44a9a0",
   "metadata": {},
   "outputs": [
    {
     "name": "stdout",
     "output_type": "stream",
     "text": [
      "`randonneur_data` with 17 files:\n",
      "\tecoinvent-2.2-biosphere-context-ecoinvent-3.0-biosphere-context\n",
      "\t\tDescription: Convert context (category and subcategory) labels from ecoinvent 2 to 3 standards\n",
      "\t\tSource: ecoinvent-2.2-biosphere\n",
      "\t\tTarget: ecoinvent-3.0-biosphere\n",
      "\t\tGraph objects to be modified: ['nodes', 'edges']\n",
      "\t\tAuthors: Chris Mutel (author)\n",
      "\t\tVersion: 1.0.0\n",
      "\t\tLicenses: ['CC BY 4.0']\n",
      "\tecoinvent-2.2-biosphere-ecoinvent-3.0-biosphere\n",
      "\t\tDescription: Convert biosphere flow names from ecoinvent 2 to 3\n",
      "\t\tSource: ecoinvent-2.2-biosphere\n",
      "\t\tTarget: ecoinvent-3.0-biosphere\n",
      "\t\tGraph objects to be modified: ['nodes', 'edges']\n",
      "\t\tAuthors: Chris Mutel (author)\n",
      "\t\tVersion: 1.0.0\n",
      "\t\tLicenses: ['CC BY 4.0']\n",
      "\tecoinvent-3.7.1-cutoff-ecoinvent-3.8-cutoff\n",
      "\t\tDescription: Data migration file from ecoinvent-3.7.1-cutoff to ecoinvent-3.8-cutoff generated with `ecoinvent_migrate` version 0.2.0\n",
      "\t\tSource: ecoinvent-3.7.1-cutoff\n",
      "\t\tTarget: ecoinvent-3.8-cutoff\n",
      "\t\tGraph objects to be modified: ['edges']\n",
      "\t\tAuthors: ecoinvent association (author), Chris Mutel (wrangler)\n",
      "\t\tVersion: 2.0.0\n",
      "\t\tLicenses: ['CC BY 4.0']\n",
      "\tecoinvent-3.8-biosphere-ecoinvent-3.9-biosphere\n",
      "\t\tDescription: Data migration file from ecoinvent-3.8-biosphere to ecoinvent-3.9-biosphere generated with `ecoinvent_migrate` version 0.2.0\n",
      "\t\tSource: ecoinvent-3.8-biosphere\n",
      "\t\tTarget: ecoinvent-3.9-biosphere\n",
      "\t\tGraph objects to be modified: ['edges']\n",
      "\t\tAuthors: ecoinvent association (author), Chris Mutel (wrangler)\n",
      "\t\tVersion: 2.0.0\n",
      "\t\tLicenses: ['CC BY 4.0']\n",
      "\tecoinvent-3.8-cutoff-ecoinvent-3.9-cutoff\n",
      "\t\tDescription: Data migration file from ecoinvent-3.8-cutoff to ecoinvent-3.9-cutoff generated with `ecoinvent_migrate` version 0.2.0\n",
      "\t\tSource: ecoinvent-3.8-cutoff\n",
      "\t\tTarget: ecoinvent-3.9-cutoff\n",
      "\t\tGraph objects to be modified: ['edges']\n",
      "\t\tAuthors: ecoinvent association (author), Chris Mutel (wrangler)\n",
      "\t\tVersion: 2.0.0\n",
      "\t\tLicenses: ['CC BY 4.0']\n",
      "\tecoinvent-3.9.1-biosphere-ecoinvent-3.10-biosphere\n",
      "\t\tDescription: Data migration file from ecoinvent-3.9.1-biosphere to ecoinvent-3.10-biosphere generated with `ecoinvent_migrate` version 0.2.0\n",
      "\t\tSource: ecoinvent-3.9.1-biosphere\n",
      "\t\tTarget: ecoinvent-3.10-biosphere\n",
      "\t\tGraph objects to be modified: ['edges']\n",
      "\t\tAuthors: ecoinvent association (author), Chris Mutel (wrangler)\n",
      "\t\tVersion: 2.0.0\n",
      "\t\tLicenses: ['CC BY 4.0']\n",
      "\tecoinvent-3.9.1-cutoff-ecoinvent-3.10-cutoff\n",
      "\t\tDescription: Data migration file from ecoinvent-3.9.1-cutoff to ecoinvent-3.10-cutoff generated with `ecoinvent_migrate` version 0.3\n",
      "\t\tSource: ecoinvent-3.9.1-cutoff\n",
      "\t\tTarget: ecoinvent-3.10-cutoff\n",
      "\t\tGraph objects to be modified: ['edges']\n",
      "\t\tAuthors: ecoinvent association (author), Chris Mutel (wrangler)\n",
      "\t\tVersion: 2.0.0\n",
      "\t\tLicenses: ['CC BY 4.0']\n",
      "\tgeneric-brightway-unit-conversions\n",
      "\t\tDescription: Standard unit conversions used in most Brightway projects\n",
      "\t\tSource: bw_interfaces_schemas-1\n",
      "\t\tTarget: bw_interfaces_schemas-1\n",
      "\t\tGraph objects to be modified: ['nodes', 'edges']\n",
      "\t\tAuthors: Chris Mutel (author)\n",
      "\t\tVersion: 1.0.0\n",
      "\t\tLicenses: ['CC BY 4.0']\n",
      "\tgeneric-brightway-units-normalization\n",
      "\t\tDescription: Standard units normalization used in most Brightway projects\n",
      "\t\tSource: bw_interfaces_schemas-1\n",
      "\t\tTarget: bw_interfaces_schemas-1\n",
      "\t\tGraph objects to be modified: ['nodes', 'edges']\n",
      "\t\tAuthors: Chris Mutel (author)\n",
      "\t\tVersion: 1.0.0\n",
      "\t\tLicenses: ['CC BY 4.0']\n",
      "\tsimapro-9-ecoinvent-3-context\n",
      "\t\tDescription: Context mapping from SimaPro 9 to ecoinvent 3\n",
      "\t\tSource: SimaPro-9\n",
      "\t\tTarget: SimaPro-9-ecoinvent-3-context\n",
      "\t\tGraph objects to be modified: ['edges']\n",
      "\t\tAuthors: Chris Mutel (author)\n",
      "\t\tVersion: 2.0.0\n",
      "\t\tLicenses: ['CC BY 4.0']\n",
      "\tSimaPro-9-ecoinvent-3.9-biosphere\n",
      "\t\tDescription: Flowmapper 0.1.1 elementary flow correspondence from SimaPro-9 to ecoinvent-3.9-biosphere\n",
      "\t\tSource: SimaPro-9\n",
      "\t\tTarget: ecoinvent-3.9-biosphere\n",
      "\t\tGraph objects to be modified: ['edges']\n",
      "\t\tAuthors: Chris Mutel (author)\n",
      "\t\tVersion: 1.0.0\n",
      "\t\tLicenses: ['CC BY 4.0']\n",
      "\tsimapro-ecoinvent-3.10-cutoff\n",
      "\t\tDescription: Data migration file from SimaPro 9 to ecoinvent-3.10-cutoff generated by PRé and provided via request at https://support.simapro.com/s/contactsupport\n",
      "\t\tSource: SimaPro-9\n",
      "\t\tTarget: ecoinvent-3.10-cutoff\n",
      "\t\tGraph objects to be modified: ['edges']\n",
      "\t\tAuthors: PRé (author), Chris Mutel (wrangler)\n",
      "\t\tVersion: 2.1.0\n",
      "\t\tLicenses: ['CC BY 4.0']\n",
      "\tsimapro-ecoinvent-3.5-apos\n",
      "\t\tDescription: Data migration file from SimaPro 9 to ecoinvent-3.5-apos generated by PRé and provided via request at https://support.simapro.com/s/contactsupport\n",
      "\t\tSource: SimaPro-9\n",
      "\t\tTarget: ecoinvent-3.5-{a}\n",
      "\t\tGraph objects to be modified: ['edges']\n",
      "\t\tAuthors: PRé (author), Chris Mutel (wrangler)\n",
      "\t\tVersion: 1.0.0\n",
      "\t\tLicenses: ['CC BY 4.0']\n",
      "\tsimapro-ecoinvent-3.5-consequential\n",
      "\t\tDescription: Data migration file from SimaPro 9 to ecoinvent-3.5-consequential generated by PRé and provided via request at https://support.simapro.com/s/contactsupport\n",
      "\t\tSource: SimaPro-9\n",
      "\t\tTarget: ecoinvent-3.5-{a}\n",
      "\t\tGraph objects to be modified: ['edges']\n",
      "\t\tAuthors: PRé (author), Chris Mutel (wrangler)\n",
      "\t\tVersion: 1.0.0\n",
      "\t\tLicenses: ['CC BY 4.0']\n",
      "\tsimapro-ecoinvent-3.5-cutoff\n",
      "\t\tDescription: Data migration file from SimaPro 9 to ecoinvent-3.5-cutoff generated by PRé and provided via request at https://support.simapro.com/s/contactsupport\n",
      "\t\tSource: SimaPro-9\n",
      "\t\tTarget: ecoinvent-3.5-{a}\n",
      "\t\tGraph objects to be modified: ['edges']\n",
      "\t\tAuthors: PRé (author), Chris Mutel (wrangler)\n",
      "\t\tVersion: 1.0.0\n",
      "\t\tLicenses: ['CC BY 4.0']\n",
      "\tsimapro-ecoinvent-3.8-cutoff\n",
      "\t\tDescription: Data migration file from SimaPro 9 to ecoinvent-3.8-cutoff generated by PRé and provided via request at https://support.simapro.com/s/contactsupport\n",
      "\t\tSource: SimaPro-9\n",
      "\t\tTarget: ecoinvent-3.8-cutoff\n",
      "\t\tGraph objects to be modified: ['edges']\n",
      "\t\tAuthors: PRé (author), Chris Mutel (wrangler)\n",
      "\t\tVersion: 2.1.0\n",
      "\t\tLicenses: ['CC BY 4.0']\n",
      "\tsimapro-ecoinvent-3.9.1-cutoff\n",
      "\t\tDescription: Data migration file from SimaPro 9 to ecoinvent-3.9.1-cutoff generated by PRé and provided via request at https://support.simapro.com/s/contactsupport\n",
      "\t\tSource: SimaPro-9\n",
      "\t\tTarget: ecoinvent-3.9.1-cutoff\n",
      "\t\tGraph objects to be modified: ['edges']\n",
      "\t\tAuthors: PRé (author), Chris Mutel (wrangler)\n",
      "\t\tVersion: 2.1.0\n",
      "\t\tLicenses: ['CC BY 4.0']\n",
      "\n"
     ]
    }
   ],
   "source": [
    "print(rd.Registry())"
   ]
  },
  {
   "cell_type": "code",
   "execution_count": null,
   "id": "f70954bd-dab9-4100-a57e-41f2793efefb",
   "metadata": {},
   "outputs": [],
   "source": []
  }
 ],
 "metadata": {
  "kernelspec": {
   "display_name": "Python 3 (ipykernel)",
   "language": "python",
   "name": "python3"
  },
  "language_info": {
   "codemirror_mode": {
    "name": "ipython",
    "version": 3
   },
   "file_extension": ".py",
   "mimetype": "text/x-python",
   "name": "python",
   "nbconvert_exporter": "python",
   "pygments_lexer": "ipython3",
   "version": "3.10.14"
  }
 },
 "nbformat": 4,
 "nbformat_minor": 5
}
