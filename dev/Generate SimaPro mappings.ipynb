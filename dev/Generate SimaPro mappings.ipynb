{
 "cells": [
  {
   "cell_type": "code",
   "execution_count": 1,
   "id": "03251142-6347-4c3b-9dab-ca61b3b8a552",
   "metadata": {},
   "outputs": [],
   "source": [
    "import bw2data as bd\n",
    "import ecoinvent_migrate as em\n",
    "import randonneur as rd\n",
    "from pathlib import Path\n",
    "import randonneur_data as rdata"
   ]
  },
  {
   "cell_type": "code",
   "execution_count": 4,
   "id": "3065cefd-ec8a-4d69-bc76-b45973abeba7",
   "metadata": {},
   "outputs": [],
   "source": [
    "registry = rdata.Registry()"
   ]
  },
  {
   "cell_type": "code",
   "execution_count": 10,
   "id": "8b1cda58-092e-4897-b1bd-821ce19649f3",
   "metadata": {},
   "outputs": [],
   "source": [
    "def write_for_technosphere_versions(source_version, target_version):\n",
    "    fp = em.generate_technosphere_mapping(\n",
    "        source_version=source_version,\n",
    "        target_version=target_version,\n",
    "        output_directory=Path.cwd(),\n",
    "        write_file=True,\n",
    "    )  \n",
    "    if not fp:\n",
    "        return\n",
    "    return registry.add_file(fp, replace=True)"
   ]
  },
  {
   "cell_type": "code",
   "execution_count": 6,
   "id": "c4ddb840-6de0-4018-96eb-09213f2541e4",
   "metadata": {
    "collapsed": true,
    "jupyter": {
     "outputs_hidden": true
    }
   },
   "outputs": [
    {
     "name": "stderr",
     "output_type": "stream",
     "text": [
      "\u001b[32m2024-07-23 09:11:52.355\u001b[0m | \u001b[1mINFO    \u001b[0m | \u001b[36mecoinvent_migrate.utils\u001b[0m:\u001b[36mconfigure_logs\u001b[0m:\u001b[36m19\u001b[0m - \u001b[1mWriting logs to /Users/cmutel/Library/Logs/ecoinvent_migrate/2024-07-23T09-11-52\u001b[0m\n",
      "\u001b[32m2024-07-23 09:11:53.401\u001b[0m | \u001b[1mINFO    \u001b[0m | \u001b[36mecoinvent_migrate.main\u001b[0m:\u001b[36mget_change_report_context\u001b[0m:\u001b[36m58\u001b[0m - \u001b[1mVersions available for this license: ['3.10', '3.9.1', '3.9', '3.8', '3.7.1', '3.7', '3.6', '3.5', '3.4', '3.3', '3.2', '3.1', '3.01', '2']\u001b[0m\n",
      "\u001b[32m2024-07-23 09:11:54.048\u001b[0m | \u001b[1mINFO    \u001b[0m | \u001b[36mecoinvent_migrate.main\u001b[0m:\u001b[36mget_change_report_context\u001b[0m:\u001b[36m71\u001b[0m - \u001b[1mUsing change report annex file Change Report Annex v3.7.1 - v3.8.xlsx\u001b[0m\n",
      "\u001b[32m2024-07-23 09:11:58.176\u001b[0m | \u001b[1mINFO    \u001b[0m | \u001b[36mecoinvent_migrate.data_io\u001b[0m:\u001b[36mget_brightway_databases\u001b[0m:\u001b[36m100\u001b[0m - \u001b[1mLoading source database ecoinvent-3.7.1-cutoff to cache data attributes\u001b[0m\n",
      "\u001b[32m2024-07-23 09:11:58.861\u001b[0m | \u001b[1mINFO    \u001b[0m | \u001b[36mecoinvent_migrate.data_io\u001b[0m:\u001b[36mget_brightway_databases\u001b[0m:\u001b[36m105\u001b[0m - \u001b[1mLoading target database ecoinvent-3.8-cutoff to cache data attributes\u001b[0m\n",
      "\u001b[32m2024-07-23 09:11:59.815\u001b[0m | \u001b[33m\u001b[1mWARNING \u001b[0m | \u001b[36mecoinvent_migrate.wrangling\u001b[0m:\u001b[36mresolve_glo_row_rer_roe\u001b[0m:\u001b[36m219\u001b[0m - \u001b[33m\u001b[1mTarget process given in change report but missing in ecoinvent-3.8-cutoff lookup: {'name': 'heavy mineral sand quarry operation and titania slag production', 'location': 'GLO', 'reference product': 'titania slag, 85% titanium dioxide', 'unit': 'kg'}\u001b[0m\n",
      "\u001b[32m2024-07-23 09:11:59.821\u001b[0m | \u001b[33m\u001b[1mWARNING \u001b[0m | \u001b[36mecoinvent_migrate.wrangling\u001b[0m:\u001b[36mresolve_glo_row_rer_roe\u001b[0m:\u001b[36m219\u001b[0m - \u001b[33m\u001b[1mTarget process given in change report but missing in ecoinvent-3.8-cutoff lookup: {'name': 'iron ore mine operation and beneficiation', 'location': 'GLO', 'reference product': 'iron ore concentrate', 'unit': 'kg'}\u001b[0m\n",
      "\u001b[32m2024-07-23 09:11:59.910\u001b[0m | \u001b[33m\u001b[1mWARNING \u001b[0m | \u001b[36mecoinvent_migrate.wrangling\u001b[0m:\u001b[36mresolve_glo_row_rer_roe\u001b[0m:\u001b[36m219\u001b[0m - \u001b[33m\u001b[1mTarget process given in change report but missing in ecoinvent-3.8-cutoff lookup: {'name': 'rutile production, synthetic, 95% titanium dioxide, Becher process', 'location': 'GLO', 'reference product': 'rutile, 95% titanium dioxide', 'unit': 'kg'}\u001b[0m\n",
      "\u001b[32m2024-07-23 09:11:59.911\u001b[0m | \u001b[33m\u001b[1mWARNING \u001b[0m | \u001b[36mecoinvent_migrate.wrangling\u001b[0m:\u001b[36mresolve_glo_row_rer_roe\u001b[0m:\u001b[36m219\u001b[0m - \u001b[33m\u001b[1mTarget process given in change report but missing in ecoinvent-3.8-cutoff lookup: {'name': 'rutile production, synthetic, 95% titanium dioxide, Benelite process', 'location': 'GLO', 'reference product': 'rutile, 95% titanium dioxide', 'unit': 'kg'}\u001b[0m\n",
      "\u001b[32m2024-07-23 09:12:00.012\u001b[0m | \u001b[33m\u001b[1mWARNING \u001b[0m | \u001b[36mecoinvent_migrate.wrangling\u001b[0m:\u001b[36mdisaggregated\u001b[0m:\u001b[36m257\u001b[0m - \u001b[33m\u001b[1mChange report annex dataset missing from database.\n",
      "    This is likely a publication error which you can't fix.\n",
      "    Removing the following from migrations:\n",
      "    {'name': 'market for electricity, high voltage', 'location': 'GLO', 'reference product': 'electricity, high voltage', 'unit': 'kWh'}\u001b[0m\n",
      "\u001b[32m2024-07-23 09:12:00.014\u001b[0m | \u001b[33m\u001b[1mWARNING \u001b[0m | \u001b[36mecoinvent_migrate.wrangling\u001b[0m:\u001b[36mdisaggregated\u001b[0m:\u001b[36m257\u001b[0m - \u001b[33m\u001b[1mChange report annex dataset missing from database.\n",
      "    This is likely a publication error which you can't fix.\n",
      "    Removing the following from migrations:\n",
      "    {'name': 'market for electricity, low voltage', 'location': 'GLO', 'reference product': 'electricity, low voltage', 'unit': 'kWh'}\u001b[0m\n",
      "\u001b[32m2024-07-23 09:12:00.016\u001b[0m | \u001b[33m\u001b[1mWARNING \u001b[0m | \u001b[36mecoinvent_migrate.wrangling\u001b[0m:\u001b[36mdisaggregated\u001b[0m:\u001b[36m257\u001b[0m - \u001b[33m\u001b[1mChange report annex dataset missing from database.\n",
      "    This is likely a publication error which you can't fix.\n",
      "    Removing the following from migrations:\n",
      "    {'name': 'market for electricity, medium voltage', 'location': 'GLO', 'reference product': 'electricity, medium voltage', 'unit': 'kWh'}\u001b[0m\n",
      "\u001b[32m2024-07-23 09:12:00.026\u001b[0m | \u001b[33m\u001b[1mWARNING \u001b[0m | \u001b[36mecoinvent_migrate.wrangling\u001b[0m:\u001b[36mdisaggregated\u001b[0m:\u001b[36m257\u001b[0m - \u001b[33m\u001b[1mChange report annex dataset missing from database.\n",
      "    This is likely a publication error which you can't fix.\n",
      "    Removing the following from migrations:\n",
      "    {'name': 'market for transport, freight, lorry 16-32 metric ton, EURO1', 'location': 'GLO', 'reference product': 'transport, freight, lorry 16-32 metric ton, EURO1', 'unit': 'metric ton*km'}\u001b[0m\n",
      "\u001b[32m2024-07-23 09:12:00.027\u001b[0m | \u001b[33m\u001b[1mWARNING \u001b[0m | \u001b[36mecoinvent_migrate.wrangling\u001b[0m:\u001b[36mdisaggregated\u001b[0m:\u001b[36m257\u001b[0m - \u001b[33m\u001b[1mChange report annex dataset missing from database.\n",
      "    This is likely a publication error which you can't fix.\n",
      "    Removing the following from migrations:\n",
      "    {'name': 'market for transport, freight, lorry 16-32 metric ton, EURO2', 'location': 'GLO', 'reference product': 'transport, freight, lorry 16-32 metric ton, EURO2', 'unit': 'metric ton*km'}\u001b[0m\n",
      "\u001b[32m2024-07-23 09:12:00.033\u001b[0m | \u001b[33m\u001b[1mWARNING \u001b[0m | \u001b[36mecoinvent_migrate.wrangling\u001b[0m:\u001b[36mdisaggregated\u001b[0m:\u001b[36m257\u001b[0m - \u001b[33m\u001b[1mChange report annex dataset missing from database.\n",
      "    This is likely a publication error which you can't fix.\n",
      "    Removing the following from migrations:\n",
      "    {'name': 'market for transport, freight, lorry 16-32 metric ton, unregulated', 'location': 'GLO', 'reference product': 'transport, freight, lorry 16-32 metric ton, unregulated', 'unit': 'metric ton*km'}\u001b[0m\n",
      "\u001b[32m2024-07-23 09:12:00.034\u001b[0m | \u001b[33m\u001b[1mWARNING \u001b[0m | \u001b[36mecoinvent_migrate.wrangling\u001b[0m:\u001b[36mdisaggregated\u001b[0m:\u001b[36m257\u001b[0m - \u001b[33m\u001b[1mChange report annex dataset missing from database.\n",
      "    This is likely a publication error which you can't fix.\n",
      "    Removing the following from migrations:\n",
      "    {'name': 'market for transport, freight, lorry 3.5-7.5 metric ton, EURO1', 'location': 'GLO', 'reference product': 'transport, freight, lorry 3.5-7.5 metric ton, EURO1', 'unit': 'metric ton*km'}\u001b[0m\n",
      "\u001b[32m2024-07-23 09:12:00.036\u001b[0m | \u001b[33m\u001b[1mWARNING \u001b[0m | \u001b[36mecoinvent_migrate.wrangling\u001b[0m:\u001b[36mdisaggregated\u001b[0m:\u001b[36m257\u001b[0m - \u001b[33m\u001b[1mChange report annex dataset missing from database.\n",
      "    This is likely a publication error which you can't fix.\n",
      "    Removing the following from migrations:\n",
      "    {'name': 'market for transport, freight, lorry 3.5-7.5 metric ton, EURO2', 'location': 'GLO', 'reference product': 'transport, freight, lorry 3.5-7.5 metric ton, EURO2', 'unit': 'metric ton*km'}\u001b[0m\n",
      "\u001b[32m2024-07-23 09:12:00.042\u001b[0m | \u001b[33m\u001b[1mWARNING \u001b[0m | \u001b[36mecoinvent_migrate.wrangling\u001b[0m:\u001b[36mdisaggregated\u001b[0m:\u001b[36m257\u001b[0m - \u001b[33m\u001b[1mChange report annex dataset missing from database.\n",
      "    This is likely a publication error which you can't fix.\n",
      "    Removing the following from migrations:\n",
      "    {'name': 'market for transport, freight, lorry 3.5-7.5 metric ton, unregulated', 'location': 'GLO', 'reference product': 'transport, freight, lorry 3.5-7.5 metric ton, unregulated', 'unit': 'metric ton*km'}\u001b[0m\n",
      "\u001b[32m2024-07-23 09:12:00.043\u001b[0m | \u001b[33m\u001b[1mWARNING \u001b[0m | \u001b[36mecoinvent_migrate.wrangling\u001b[0m:\u001b[36mdisaggregated\u001b[0m:\u001b[36m257\u001b[0m - \u001b[33m\u001b[1mChange report annex dataset missing from database.\n",
      "    This is likely a publication error which you can't fix.\n",
      "    Removing the following from migrations:\n",
      "    {'name': 'market for transport, freight, lorry 7.5-16 metric ton, EURO1', 'location': 'GLO', 'reference product': 'transport, freight, lorry 7.5-16 metric ton, EURO1', 'unit': 'metric ton*km'}\u001b[0m\n",
      "\u001b[32m2024-07-23 09:12:00.045\u001b[0m | \u001b[33m\u001b[1mWARNING \u001b[0m | \u001b[36mecoinvent_migrate.wrangling\u001b[0m:\u001b[36mdisaggregated\u001b[0m:\u001b[36m257\u001b[0m - \u001b[33m\u001b[1mChange report annex dataset missing from database.\n",
      "    This is likely a publication error which you can't fix.\n",
      "    Removing the following from migrations:\n",
      "    {'name': 'market for transport, freight, lorry 7.5-16 metric ton, EURO2', 'location': 'GLO', 'reference product': 'transport, freight, lorry 7.5-16 metric ton, EURO2', 'unit': 'metric ton*km'}\u001b[0m\n",
      "\u001b[32m2024-07-23 09:12:00.051\u001b[0m | \u001b[33m\u001b[1mWARNING \u001b[0m | \u001b[36mecoinvent_migrate.wrangling\u001b[0m:\u001b[36mdisaggregated\u001b[0m:\u001b[36m257\u001b[0m - \u001b[33m\u001b[1mChange report annex dataset missing from database.\n",
      "    This is likely a publication error which you can't fix.\n",
      "    Removing the following from migrations:\n",
      "    {'name': 'market for transport, freight, lorry 7.5-16 metric ton, unregulated', 'location': 'GLO', 'reference product': 'transport, freight, lorry 7.5-16 metric ton, unregulated', 'unit': 'metric ton*km'}\u001b[0m\n",
      "\u001b[32m2024-07-23 09:12:00.052\u001b[0m | \u001b[33m\u001b[1mWARNING \u001b[0m | \u001b[36mecoinvent_migrate.wrangling\u001b[0m:\u001b[36mdisaggregated\u001b[0m:\u001b[36m257\u001b[0m - \u001b[33m\u001b[1mChange report annex dataset missing from database.\n",
      "    This is likely a publication error which you can't fix.\n",
      "    Removing the following from migrations:\n",
      "    {'name': 'market for transport, freight, lorry >32 metric ton, EURO1', 'location': 'GLO', 'reference product': 'transport, freight, lorry >32 metric ton, EURO1', 'unit': 'metric ton*km'}\u001b[0m\n",
      "\u001b[32m2024-07-23 09:12:00.054\u001b[0m | \u001b[33m\u001b[1mWARNING \u001b[0m | \u001b[36mecoinvent_migrate.wrangling\u001b[0m:\u001b[36mdisaggregated\u001b[0m:\u001b[36m257\u001b[0m - \u001b[33m\u001b[1mChange report annex dataset missing from database.\n",
      "    This is likely a publication error which you can't fix.\n",
      "    Removing the following from migrations:\n",
      "    {'name': 'market for transport, freight, lorry >32 metric ton, EURO2', 'location': 'GLO', 'reference product': 'transport, freight, lorry >32 metric ton, EURO2', 'unit': 'metric ton*km'}\u001b[0m\n",
      "\u001b[32m2024-07-23 09:12:00.059\u001b[0m | \u001b[33m\u001b[1mWARNING \u001b[0m | \u001b[36mecoinvent_migrate.wrangling\u001b[0m:\u001b[36mdisaggregated\u001b[0m:\u001b[36m257\u001b[0m - \u001b[33m\u001b[1mChange report annex dataset missing from database.\n",
      "    This is likely a publication error which you can't fix.\n",
      "    Removing the following from migrations:\n",
      "    {'name': 'market for transport, freight, lorry >32 metric ton, unregulated', 'location': 'GLO', 'reference product': 'transport, freight, lorry >32 metric ton, unregulated', 'unit': 'metric ton*km'}\u001b[0m\n",
      "\u001b[32m2024-07-23 09:12:00.089\u001b[0m | \u001b[33m\u001b[1mWARNING \u001b[0m | \u001b[36mecoinvent_migrate.wrangling\u001b[0m:\u001b[36mdisaggregated\u001b[0m:\u001b[36m257\u001b[0m - \u001b[33m\u001b[1mChange report annex dataset missing from database.\n",
      "    This is likely a publication error which you can't fix.\n",
      "    Removing the following from migrations:\n",
      "    {'name': 'rutile production, synthetic, 95% titanium dioxide, Becher process', 'location': 'GLO', 'reference product': 'rutile, 95% titanium dioxide', 'unit': 'kg'}\u001b[0m\n",
      "\u001b[32m2024-07-23 09:12:00.090\u001b[0m | \u001b[33m\u001b[1mWARNING \u001b[0m | \u001b[36mecoinvent_migrate.wrangling\u001b[0m:\u001b[36mdisaggregated\u001b[0m:\u001b[36m257\u001b[0m - \u001b[33m\u001b[1mChange report annex dataset missing from database.\n",
      "    This is likely a publication error which you can't fix.\n",
      "    Removing the following from migrations:\n",
      "    {'name': 'rutile production, synthetic, 95% titanium dioxide, Benelite process', 'location': 'GLO', 'reference product': 'rutile, 95% titanium dioxide', 'unit': 'kg'}\u001b[0m\n",
      "\u001b[32m2024-07-23 09:12:00.121\u001b[0m | \u001b[33m\u001b[1mWARNING \u001b[0m | \u001b[36mecoinvent_migrate.wrangling\u001b[0m:\u001b[36mdisaggregated\u001b[0m:\u001b[36m257\u001b[0m - \u001b[33m\u001b[1mChange report annex dataset missing from database.\n",
      "    This is likely a publication error which you can't fix.\n",
      "    Removing the following from migrations:\n",
      "    {'name': 'transport, freight, lorry 16-32 metric ton, EURO1', 'location': 'GLO', 'reference product': 'transport, freight, lorry 16-32 metric ton, EURO1', 'unit': 'metric ton*km'}\u001b[0m\n",
      "\u001b[32m2024-07-23 09:12:00.122\u001b[0m | \u001b[33m\u001b[1mWARNING \u001b[0m | \u001b[36mecoinvent_migrate.wrangling\u001b[0m:\u001b[36mdisaggregated\u001b[0m:\u001b[36m257\u001b[0m - \u001b[33m\u001b[1mChange report annex dataset missing from database.\n",
      "    This is likely a publication error which you can't fix.\n",
      "    Removing the following from migrations:\n",
      "    {'name': 'transport, freight, lorry 16-32 metric ton, EURO2', 'location': 'GLO', 'reference product': 'transport, freight, lorry 16-32 metric ton, EURO2', 'unit': 'metric ton*km'}\u001b[0m\n",
      "\u001b[32m2024-07-23 09:12:00.129\u001b[0m | \u001b[33m\u001b[1mWARNING \u001b[0m | \u001b[36mecoinvent_migrate.wrangling\u001b[0m:\u001b[36mdisaggregated\u001b[0m:\u001b[36m257\u001b[0m - \u001b[33m\u001b[1mChange report annex dataset missing from database.\n",
      "    This is likely a publication error which you can't fix.\n",
      "    Removing the following from migrations:\n",
      "    {'name': 'transport, freight, lorry 16-32 metric ton, unregulated', 'location': 'GLO', 'reference product': 'transport, freight, lorry 16-32 metric ton, unregulated', 'unit': 'metric ton*km'}\u001b[0m\n",
      "\u001b[32m2024-07-23 09:12:00.130\u001b[0m | \u001b[33m\u001b[1mWARNING \u001b[0m | \u001b[36mecoinvent_migrate.wrangling\u001b[0m:\u001b[36mdisaggregated\u001b[0m:\u001b[36m257\u001b[0m - \u001b[33m\u001b[1mChange report annex dataset missing from database.\n",
      "    This is likely a publication error which you can't fix.\n",
      "    Removing the following from migrations:\n",
      "    {'name': 'transport, freight, lorry 3.5-7.5 metric ton, EURO1', 'location': 'GLO', 'reference product': 'transport, freight, lorry 3.5-7.5 metric ton, EURO1', 'unit': 'metric ton*km'}\u001b[0m\n",
      "\u001b[32m2024-07-23 09:12:00.132\u001b[0m | \u001b[33m\u001b[1mWARNING \u001b[0m | \u001b[36mecoinvent_migrate.wrangling\u001b[0m:\u001b[36mdisaggregated\u001b[0m:\u001b[36m257\u001b[0m - \u001b[33m\u001b[1mChange report annex dataset missing from database.\n",
      "    This is likely a publication error which you can't fix.\n",
      "    Removing the following from migrations:\n",
      "    {'name': 'transport, freight, lorry 3.5-7.5 metric ton, EURO2', 'location': 'GLO', 'reference product': 'transport, freight, lorry 3.5-7.5 metric ton, EURO2', 'unit': 'metric ton*km'}\u001b[0m\n",
      "\u001b[32m2024-07-23 09:12:00.138\u001b[0m | \u001b[33m\u001b[1mWARNING \u001b[0m | \u001b[36mecoinvent_migrate.wrangling\u001b[0m:\u001b[36mdisaggregated\u001b[0m:\u001b[36m257\u001b[0m - \u001b[33m\u001b[1mChange report annex dataset missing from database.\n",
      "    This is likely a publication error which you can't fix.\n",
      "    Removing the following from migrations:\n",
      "    {'name': 'transport, freight, lorry 3.5-7.5 metric ton, unregulated', 'location': 'GLO', 'reference product': 'transport, freight, lorry 3.5-7.5 metric ton, unregulated', 'unit': 'metric ton*km'}\u001b[0m\n",
      "\u001b[32m2024-07-23 09:12:00.140\u001b[0m | \u001b[33m\u001b[1mWARNING \u001b[0m | \u001b[36mecoinvent_migrate.wrangling\u001b[0m:\u001b[36mdisaggregated\u001b[0m:\u001b[36m257\u001b[0m - \u001b[33m\u001b[1mChange report annex dataset missing from database.\n",
      "    This is likely a publication error which you can't fix.\n",
      "    Removing the following from migrations:\n",
      "    {'name': 'transport, freight, lorry 7.5-16 metric ton, EURO1', 'location': 'GLO', 'reference product': 'transport, freight, lorry 7.5-16 metric ton, EURO1', 'unit': 'metric ton*km'}\u001b[0m\n",
      "\u001b[32m2024-07-23 09:12:00.141\u001b[0m | \u001b[33m\u001b[1mWARNING \u001b[0m | \u001b[36mecoinvent_migrate.wrangling\u001b[0m:\u001b[36mdisaggregated\u001b[0m:\u001b[36m257\u001b[0m - \u001b[33m\u001b[1mChange report annex dataset missing from database.\n",
      "    This is likely a publication error which you can't fix.\n",
      "    Removing the following from migrations:\n",
      "    {'name': 'transport, freight, lorry 7.5-16 metric ton, EURO2', 'location': 'GLO', 'reference product': 'transport, freight, lorry 7.5-16 metric ton, EURO2', 'unit': 'metric ton*km'}\u001b[0m\n",
      "\u001b[32m2024-07-23 09:12:00.148\u001b[0m | \u001b[33m\u001b[1mWARNING \u001b[0m | \u001b[36mecoinvent_migrate.wrangling\u001b[0m:\u001b[36mdisaggregated\u001b[0m:\u001b[36m257\u001b[0m - \u001b[33m\u001b[1mChange report annex dataset missing from database.\n",
      "    This is likely a publication error which you can't fix.\n",
      "    Removing the following from migrations:\n",
      "    {'name': 'transport, freight, lorry 7.5-16 metric ton, unregulated', 'location': 'GLO', 'reference product': 'transport, freight, lorry 7.5-16 metric ton, unregulated', 'unit': 'metric ton*km'}\u001b[0m\n",
      "\u001b[32m2024-07-23 09:12:00.150\u001b[0m | \u001b[33m\u001b[1mWARNING \u001b[0m | \u001b[36mecoinvent_migrate.wrangling\u001b[0m:\u001b[36mdisaggregated\u001b[0m:\u001b[36m257\u001b[0m - \u001b[33m\u001b[1mChange report annex dataset missing from database.\n",
      "    This is likely a publication error which you can't fix.\n",
      "    Removing the following from migrations:\n",
      "    {'name': 'transport, freight, lorry >32 metric ton, EURO1', 'location': 'GLO', 'reference product': 'transport, freight, lorry >32 metric ton, EURO1', 'unit': 'metric ton*km'}\u001b[0m\n",
      "\u001b[32m2024-07-23 09:12:00.151\u001b[0m | \u001b[33m\u001b[1mWARNING \u001b[0m | \u001b[36mecoinvent_migrate.wrangling\u001b[0m:\u001b[36mdisaggregated\u001b[0m:\u001b[36m257\u001b[0m - \u001b[33m\u001b[1mChange report annex dataset missing from database.\n",
      "    This is likely a publication error which you can't fix.\n",
      "    Removing the following from migrations:\n",
      "    {'name': 'transport, freight, lorry >32 metric ton, EURO2', 'location': 'GLO', 'reference product': 'transport, freight, lorry >32 metric ton, EURO2', 'unit': 'metric ton*km'}\u001b[0m\n",
      "\u001b[32m2024-07-23 09:12:00.157\u001b[0m | \u001b[33m\u001b[1mWARNING \u001b[0m | \u001b[36mecoinvent_migrate.wrangling\u001b[0m:\u001b[36mdisaggregated\u001b[0m:\u001b[36m257\u001b[0m - \u001b[33m\u001b[1mChange report annex dataset missing from database.\n",
      "    This is likely a publication error which you can't fix.\n",
      "    Removing the following from migrations:\n",
      "    {'name': 'transport, freight, lorry >32 metric ton, unregulated', 'location': 'GLO', 'reference product': 'transport, freight, lorry >32 metric ton, unregulated', 'unit': 'metric ton*km'}\u001b[0m\n",
      "\u001b[32m2024-07-23 09:12:00.159\u001b[0m | \u001b[33m\u001b[1mWARNING \u001b[0m | \u001b[36mecoinvent_migrate.wrangling\u001b[0m:\u001b[36mdisaggregated\u001b[0m:\u001b[36m257\u001b[0m - \u001b[33m\u001b[1mChange report annex dataset missing from database.\n",
      "    This is likely a publication error which you can't fix.\n",
      "    Removing the following from migrations:\n",
      "    {'name': 'transport, freight, lorry, all sizes, EURO1 to generic market for transport, freight, lorry, unspecified', 'location': 'GLO', 'reference product': 'transport, freight, lorry, unspecified', 'unit': 'metric ton*km'}\u001b[0m\n",
      "\u001b[32m2024-07-23 09:12:00.160\u001b[0m | \u001b[33m\u001b[1mWARNING \u001b[0m | \u001b[36mecoinvent_migrate.wrangling\u001b[0m:\u001b[36mdisaggregated\u001b[0m:\u001b[36m257\u001b[0m - \u001b[33m\u001b[1mChange report annex dataset missing from database.\n",
      "    This is likely a publication error which you can't fix.\n",
      "    Removing the following from migrations:\n",
      "    {'name': 'transport, freight, lorry, all sizes, EURO2 to generic market for transport, freight, lorry, unspecified', 'location': 'GLO', 'reference product': 'transport, freight, lorry, unspecified', 'unit': 'metric ton*km'}\u001b[0m\n",
      "\u001b[32m2024-07-23 09:12:00.166\u001b[0m | \u001b[33m\u001b[1mWARNING \u001b[0m | \u001b[36mecoinvent_migrate.wrangling\u001b[0m:\u001b[36mdisaggregated\u001b[0m:\u001b[36m257\u001b[0m - \u001b[33m\u001b[1mChange report annex dataset missing from database.\n",
      "    This is likely a publication error which you can't fix.\n",
      "    Removing the following from migrations:\n",
      "    {'name': 'transport, freight, lorry, all sizes, unregulated to generic market for transport, freight, lorry, unspecified', 'location': 'GLO', 'reference product': 'transport, freight, lorry, unspecified', 'unit': 'metric ton*km'}\u001b[0m\n",
      "\u001b[32m2024-07-23 09:12:00.169\u001b[0m | \u001b[1mINFO    \u001b[0m | \u001b[36mecoinvent_migrate.main\u001b[0m:\u001b[36mgenerate_technosphere_mapping\u001b[0m:\u001b[36m180\u001b[0m - \u001b[1mWriting output file /Users/cmutel/Code/randonneur_data/dev/ecoinvent-3.7.1-cutoff-ecoinvent-3.8-cutoff.json\u001b[0m\n"
     ]
    },
    {
     "data": {
      "text/plain": [
       "PosixPath('/Users/cmutel/Code/randonneur_data/randonneur_data/data/ecoinvent-3.7.1-cutoff-ecoinvent-3.8-cutoff.json')"
      ]
     },
     "execution_count": 6,
     "metadata": {},
     "output_type": "execute_result"
    }
   ],
   "source": [
    "write_for_technosphere_versions(\"3.7.1\", \"3.8\")"
   ]
  },
  {
   "cell_type": "code",
   "execution_count": 8,
   "id": "420f701e-a7f6-4996-bdee-3d51fe7b7181",
   "metadata": {},
   "outputs": [
    {
     "name": "stderr",
     "output_type": "stream",
     "text": [
      "\u001b[32m2024-07-23 09:12:45.580\u001b[0m | \u001b[1mINFO    \u001b[0m | \u001b[36mecoinvent_migrate.utils\u001b[0m:\u001b[36mconfigure_logs\u001b[0m:\u001b[36m19\u001b[0m - \u001b[1mWriting logs to /Users/cmutel/Library/Logs/ecoinvent_migrate/2024-07-23T09-12-45\u001b[0m\n",
      "\u001b[32m2024-07-23 09:12:46.444\u001b[0m | \u001b[1mINFO    \u001b[0m | \u001b[36mecoinvent_migrate.main\u001b[0m:\u001b[36mget_change_report_context\u001b[0m:\u001b[36m58\u001b[0m - \u001b[1mVersions available for this license: ['3.10', '3.9.1', '3.9', '3.8', '3.7.1', '3.7', '3.6', '3.5', '3.4', '3.3', '3.2', '3.1', '3.01', '2']\u001b[0m\n",
      "\u001b[32m2024-07-23 09:12:47.128\u001b[0m | \u001b[1mINFO    \u001b[0m | \u001b[36mecoinvent_migrate.main\u001b[0m:\u001b[36mget_change_report_context\u001b[0m:\u001b[36m71\u001b[0m - \u001b[1mUsing change report annex file Change Report Annex v3.8 - v3.9.xlsx\u001b[0m\n",
      "\u001b[32m2024-07-23 09:12:51.412\u001b[0m | \u001b[1mINFO    \u001b[0m | \u001b[36mecoinvent_migrate.data_io\u001b[0m:\u001b[36mget_brightway_databases\u001b[0m:\u001b[36m100\u001b[0m - \u001b[1mLoading source database ecoinvent-3.8-cutoff to cache data attributes\u001b[0m\n",
      "\u001b[32m2024-07-23 09:12:52.214\u001b[0m | \u001b[1mINFO    \u001b[0m | \u001b[36mecoinvent_migrate.data_io\u001b[0m:\u001b[36mget_brightway_databases\u001b[0m:\u001b[36m105\u001b[0m - \u001b[1mLoading target database ecoinvent-3.9-cutoff to cache data attributes\u001b[0m\n",
      "\u001b[32m2024-07-23 09:12:53.983\u001b[0m | \u001b[33m\u001b[1mWARNING \u001b[0m | \u001b[36mecoinvent_migrate.wrangling\u001b[0m:\u001b[36mresolve_glo_row_rer_roe\u001b[0m:\u001b[36m219\u001b[0m - \u001b[33m\u001b[1mTarget process given in change report but missing in ecoinvent-3.9-cutoff lookup: {'name': 'market group for natural gas, high pressure', 'location': 'CA', 'reference product': 'natural gas, high pressure', 'unit': 'm3'}\u001b[0m\n",
      "\u001b[32m2024-07-23 09:12:54.565\u001b[0m | \u001b[33m\u001b[1mWARNING \u001b[0m | \u001b[36mecoinvent_migrate.wrangling\u001b[0m:\u001b[36mdisaggregated\u001b[0m:\u001b[36m257\u001b[0m - \u001b[33m\u001b[1mChange report annex dataset missing from database.\n",
      "    This is likely a publication error which you can't fix.\n",
      "    Removing the following from migrations:\n",
      "    {'name': 'transport, pipeline, offshore, long distance, natural gas', 'location': 'GLO', 'reference product': 'transport, pipeline, offshore, long distance, natural gas', 'unit': 'metric ton*km'}\u001b[0m\n",
      "\u001b[32m2024-07-23 09:12:54.580\u001b[0m | \u001b[33m\u001b[1mWARNING \u001b[0m | \u001b[36mecoinvent_migrate.wrangling\u001b[0m:\u001b[36mdisaggregated\u001b[0m:\u001b[36m257\u001b[0m - \u001b[33m\u001b[1mChange report annex dataset missing from database.\n",
      "    This is likely a publication error which you can't fix.\n",
      "    Removing the following from migrations:\n",
      "    {'name': 'transport, pipeline, onshore, long distance, natural gas', 'location': 'GLO', 'reference product': 'transport, pipeline, onshore, long distance, natural gas', 'unit': 'metric ton*km'}\u001b[0m\n",
      "\u001b[32m2024-07-23 09:12:54.594\u001b[0m | \u001b[33m\u001b[1mWARNING \u001b[0m | \u001b[36mecoinvent_migrate.wrangling\u001b[0m:\u001b[36mdisaggregated\u001b[0m:\u001b[36m257\u001b[0m - \u001b[33m\u001b[1mChange report annex dataset missing from database.\n",
      "    This is likely a publication error which you can't fix.\n",
      "    Removing the following from migrations:\n",
      "    {'name': 'treatment of bagasse, from sugarcane, in heat and power co-generation unit, 6400kW thermal', 'location': 'GLO', 'reference product': 'bagasse, from sugarcane', 'unit': 'kg'}\u001b[0m\n",
      "\u001b[32m2024-07-23 09:12:54.595\u001b[0m | \u001b[33m\u001b[1mWARNING \u001b[0m | \u001b[36mecoinvent_migrate.wrangling\u001b[0m:\u001b[36mdisaggregated\u001b[0m:\u001b[36m257\u001b[0m - \u001b[33m\u001b[1mChange report annex dataset missing from database.\n",
      "    This is likely a publication error which you can't fix.\n",
      "    Removing the following from migrations:\n",
      "    {'name': 'treatment of bagasse, from sugarcane, in heat and power co-generation unit, 6400kW thermal', 'location': 'IN-Eastern grid', 'reference product': 'bagasse, from sugarcane', 'unit': 'kg'}\u001b[0m\n",
      "\u001b[32m2024-07-23 09:12:54.595\u001b[0m | \u001b[33m\u001b[1mWARNING \u001b[0m | \u001b[36mecoinvent_migrate.wrangling\u001b[0m:\u001b[36mdisaggregated\u001b[0m:\u001b[36m257\u001b[0m - \u001b[33m\u001b[1mChange report annex dataset missing from database.\n",
      "    This is likely a publication error which you can't fix.\n",
      "    Removing the following from migrations:\n",
      "    {'name': 'treatment of bagasse, from sugarcane, in heat and power co-generation unit, 6400kW thermal', 'location': 'IN-North-eastern grid', 'reference product': 'bagasse, from sugarcane', 'unit': 'kg'}\u001b[0m\n",
      "\u001b[32m2024-07-23 09:12:54.596\u001b[0m | \u001b[33m\u001b[1mWARNING \u001b[0m | \u001b[36mecoinvent_migrate.wrangling\u001b[0m:\u001b[36mdisaggregated\u001b[0m:\u001b[36m257\u001b[0m - \u001b[33m\u001b[1mChange report annex dataset missing from database.\n",
      "    This is likely a publication error which you can't fix.\n",
      "    Removing the following from migrations:\n",
      "    {'name': 'treatment of bagasse, from sugarcane, in heat and power co-generation unit, 6400kW thermal', 'location': 'IN-Northern grid', 'reference product': 'bagasse, from sugarcane', 'unit': 'kg'}\u001b[0m\n",
      "\u001b[32m2024-07-23 09:12:54.596\u001b[0m | \u001b[33m\u001b[1mWARNING \u001b[0m | \u001b[36mecoinvent_migrate.wrangling\u001b[0m:\u001b[36mdisaggregated\u001b[0m:\u001b[36m257\u001b[0m - \u001b[33m\u001b[1mChange report annex dataset missing from database.\n",
      "    This is likely a publication error which you can't fix.\n",
      "    Removing the following from migrations:\n",
      "    {'name': 'treatment of bagasse, from sugarcane, in heat and power co-generation unit, 6400kW thermal', 'location': 'IN-Southern grid', 'reference product': 'bagasse, from sugarcane', 'unit': 'kg'}\u001b[0m\n",
      "\u001b[32m2024-07-23 09:12:54.596\u001b[0m | \u001b[33m\u001b[1mWARNING \u001b[0m | \u001b[36mecoinvent_migrate.wrangling\u001b[0m:\u001b[36mdisaggregated\u001b[0m:\u001b[36m257\u001b[0m - \u001b[33m\u001b[1mChange report annex dataset missing from database.\n",
      "    This is likely a publication error which you can't fix.\n",
      "    Removing the following from migrations:\n",
      "    {'name': 'treatment of bagasse, from sugarcane, in heat and power co-generation unit, 6400kW thermal', 'location': 'IN-Western grid', 'reference product': 'bagasse, from sugarcane', 'unit': 'kg'}\u001b[0m\n",
      "\u001b[32m2024-07-23 09:12:54.597\u001b[0m | \u001b[33m\u001b[1mWARNING \u001b[0m | \u001b[36mecoinvent_migrate.wrangling\u001b[0m:\u001b[36mdisaggregated\u001b[0m:\u001b[36m268\u001b[0m - \u001b[33m\u001b[1mTotal production from 6 targets is zero for source {'name': 'treatment of bagasse, from sugarcane, in heat and power co-generation unit, 6400kW thermal', 'location': 'GLO', 'reference product': 'bagasse, from sugarcane', 'unit': 'kg'}; using equal allocation factors\u001b[0m\n",
      "\u001b[32m2024-07-23 09:12:54.601\u001b[0m | \u001b[1mINFO    \u001b[0m | \u001b[36mecoinvent_migrate.main\u001b[0m:\u001b[36mgenerate_technosphere_mapping\u001b[0m:\u001b[36m180\u001b[0m - \u001b[1mWriting output file /Users/cmutel/Code/randonneur_data/dev/ecoinvent-3.8-cutoff-ecoinvent-3.9-cutoff.json\u001b[0m\n"
     ]
    },
    {
     "data": {
      "text/plain": [
       "PosixPath('/Users/cmutel/Code/randonneur_data/randonneur_data/data/ecoinvent-3.8-cutoff-ecoinvent-3.9-cutoff.xz')"
      ]
     },
     "execution_count": 8,
     "metadata": {},
     "output_type": "execute_result"
    }
   ],
   "source": [
    "write_for_technosphere_versions(\"3.8\", \"3.9\")"
   ]
  },
  {
   "cell_type": "code",
   "execution_count": 11,
   "id": "9dc87388-10f4-42b9-abb7-b6a1e6f3b5b1",
   "metadata": {},
   "outputs": [
    {
     "name": "stderr",
     "output_type": "stream",
     "text": [
      "\u001b[32m2024-07-23 09:15:50.785\u001b[0m | \u001b[1mINFO    \u001b[0m | \u001b[36mecoinvent_migrate.utils\u001b[0m:\u001b[36mconfigure_logs\u001b[0m:\u001b[36m19\u001b[0m - \u001b[1mWriting logs to /Users/cmutel/Library/Logs/ecoinvent_migrate/2024-07-23T09-15-50\u001b[0m\n",
      "\u001b[32m2024-07-23 09:15:51.715\u001b[0m | \u001b[1mINFO    \u001b[0m | \u001b[36mecoinvent_migrate.main\u001b[0m:\u001b[36mget_change_report_context\u001b[0m:\u001b[36m58\u001b[0m - \u001b[1mVersions available for this license: ['3.10', '3.9.1', '3.9', '3.8', '3.7.1', '3.7', '3.6', '3.5', '3.4', '3.3', '3.2', '3.1', '3.01', '2']\u001b[0m\n",
      "\u001b[32m2024-07-23 09:15:52.379\u001b[0m | \u001b[1mINFO    \u001b[0m | \u001b[36mecoinvent_migrate.main\u001b[0m:\u001b[36mget_change_report_context\u001b[0m:\u001b[36m71\u001b[0m - \u001b[1mUsing change report annex file Change Report Annex v3.9 - v3.9.1.xlsx\u001b[0m\n",
      "\u001b[32m2024-07-23 09:15:52.426\u001b[0m | \u001b[1mINFO    \u001b[0m | \u001b[36mecoinvent_migrate.data_io\u001b[0m:\u001b[36mget_brightway_databases\u001b[0m:\u001b[36m100\u001b[0m - \u001b[1mLoading source database ecoinvent-3.9-cutoff to cache data attributes\u001b[0m\n",
      "\u001b[32m2024-07-23 09:15:53.082\u001b[0m | \u001b[1mINFO    \u001b[0m | \u001b[36mecoinvent_migrate.data_io\u001b[0m:\u001b[36mget_brightway_databases\u001b[0m:\u001b[36m105\u001b[0m - \u001b[1mLoading target database ecoinvent-3.9.1-cutoff to cache data attributes\u001b[0m\n",
      "\u001b[32m2024-07-23 09:15:53.979\u001b[0m | \u001b[1mINFO    \u001b[0m | \u001b[36mecoinvent_migrate.main\u001b[0m:\u001b[36mgenerate_technosphere_mapping\u001b[0m:\u001b[36m149\u001b[0m - \u001b[1mIt seems like there are no technosphere changes for this release. Doing nothing.\u001b[0m\n"
     ]
    }
   ],
   "source": [
    "write_for_technosphere_versions(\"3.9\", \"3.9.1\")"
   ]
  },
  {
   "cell_type": "code",
   "execution_count": 12,
   "id": "bd46dfac-1b1d-41d7-b089-ff83e4af7fbb",
   "metadata": {},
   "outputs": [
    {
     "name": "stderr",
     "output_type": "stream",
     "text": [
      "\u001b[32m2024-07-23 09:16:09.549\u001b[0m | \u001b[1mINFO    \u001b[0m | \u001b[36mecoinvent_migrate.utils\u001b[0m:\u001b[36mconfigure_logs\u001b[0m:\u001b[36m19\u001b[0m - \u001b[1mWriting logs to /Users/cmutel/Library/Logs/ecoinvent_migrate/2024-07-23T09-16-09\u001b[0m\n",
      "\u001b[32m2024-07-23 09:16:10.456\u001b[0m | \u001b[1mINFO    \u001b[0m | \u001b[36mecoinvent_migrate.main\u001b[0m:\u001b[36mget_change_report_context\u001b[0m:\u001b[36m58\u001b[0m - \u001b[1mVersions available for this license: ['3.10', '3.9.1', '3.9', '3.8', '3.7.1', '3.7', '3.6', '3.5', '3.4', '3.3', '3.2', '3.1', '3.01', '2']\u001b[0m\n",
      "\u001b[32m2024-07-23 09:16:11.103\u001b[0m | \u001b[1mINFO    \u001b[0m | \u001b[36mecoinvent_migrate.main\u001b[0m:\u001b[36mget_change_report_context\u001b[0m:\u001b[36m71\u001b[0m - \u001b[1mUsing change report annex file Change Report Annex v3.9.1 - v3.10.xlsx\u001b[0m\n",
      "\u001b[32m2024-07-23 09:16:15.775\u001b[0m | \u001b[1mINFO    \u001b[0m | \u001b[36mecoinvent_migrate.data_io\u001b[0m:\u001b[36mget_brightway_databases\u001b[0m:\u001b[36m100\u001b[0m - \u001b[1mLoading source database ecoinvent-3.9.1-cutoff to cache data attributes\u001b[0m\n",
      "\u001b[32m2024-07-23 09:16:16.596\u001b[0m | \u001b[1mINFO    \u001b[0m | \u001b[36mecoinvent_migrate.data_io\u001b[0m:\u001b[36mget_brightway_databases\u001b[0m:\u001b[36m105\u001b[0m - \u001b[1mLoading target database ecoinvent-3.10-cutoff to cache data attributes\u001b[0m\n",
      "\u001b[32m2024-07-23 09:16:19.495\u001b[0m | \u001b[1mINFO    \u001b[0m | \u001b[36mecoinvent_migrate.main\u001b[0m:\u001b[36mgenerate_technosphere_mapping\u001b[0m:\u001b[36m180\u001b[0m - \u001b[1mWriting output file /Users/cmutel/Code/randonneur_data/dev/ecoinvent-3.9.1-cutoff-ecoinvent-3.10-cutoff.json\u001b[0m\n"
     ]
    },
    {
     "data": {
      "text/plain": [
       "PosixPath('/Users/cmutel/Code/randonneur_data/randonneur_data/data/ecoinvent-3.9.1-cutoff-ecoinvent-3.10-cutoff.xz')"
      ]
     },
     "execution_count": 12,
     "metadata": {},
     "output_type": "execute_result"
    }
   ],
   "source": [
    "write_for_technosphere_versions(\"3.9.1\", \"3.10\")"
   ]
  },
  {
   "cell_type": "code",
   "execution_count": 16,
   "id": "9afb0067-7343-46b4-beed-1fe7491281d9",
   "metadata": {},
   "outputs": [],
   "source": [
    "base_path = Path('/Users/cmutel/Projects/SimaPro - ecoinvent mapping/')"
   ]
  },
  {
   "cell_type": "code",
   "execution_count": 18,
   "id": "8c30c0c9-9296-4527-aa74-c81fa0c9e12f",
   "metadata": {},
   "outputs": [
    {
     "data": {
      "text/plain": [
       "PosixPath('/Users/cmutel/Code/randonneur_data/randonneur_data/data/simapro-ecoinvent-3.10-cutoff.xz')"
      ]
     },
     "execution_count": 18,
     "metadata": {},
     "output_type": "execute_result"
    }
   ],
   "source": [
    "write_for_version(\n",
    "    version=\"3.10\", \n",
    "    base_path=base_path, \n",
    "    filename=\"ecoinvent 3.10 Cut-off - SimaPro mapping.xlsx\", \n",
    "    sheet_name=\"Mapping_Results_2024-04-25\", \n",
    "    combined='Activity_UUID_Product_UUID',\n",
    ")"
   ]
  },
  {
   "cell_type": "code",
   "execution_count": 19,
   "id": "dbd86fa4-6142-461f-aa90-0aa650a44e0d",
   "metadata": {},
   "outputs": [
    {
     "data": {
      "text/plain": [
       "PosixPath('/Users/cmutel/Code/randonneur_data/randonneur_data/data/simapro-ecoinvent-3.8-cutoff.xz')"
      ]
     },
     "execution_count": 19,
     "metadata": {},
     "output_type": "execute_result"
    }
   ],
   "source": [
    "write_for_version(\n",
    "    version=\"3.8\", \n",
    "    base_path=base_path, \n",
    "    filename='ecoinvent cut-off 3.8 - SimaPro mapping file.xlsx', \n",
    "    sheet_name=\"ecoinventCut-off38-SimaPro\", \n",
    "    combined='Activity UUID & Product UUID'\n",
    ")"
   ]
  },
  {
   "cell_type": "code",
   "execution_count": 20,
   "id": "08b41875-d606-4320-961d-15ce1bd94124",
   "metadata": {},
   "outputs": [
    {
     "data": {
      "text/plain": [
       "PosixPath('/Users/cmutel/Code/randonneur_data/randonneur_data/data/simapro-ecoinvent-3.9.1-cutoff.xz')"
      ]
     },
     "execution_count": 20,
     "metadata": {},
     "output_type": "execute_result"
    }
   ],
   "source": [
    "write_for_version(\n",
    "    version=\"3.9.1\", \n",
    "    base_path=base_path, \n",
    "    filename='Ecoinvent_391_SimaPro_Mapping_Results_2023-10-03.xlsx', \n",
    "    sheet_name=\"Mapping_Results_2023-10-03\", \n",
    "    combined='Activity_UUID_Product_UUID'\n",
    ")"
   ]
  },
  {
   "cell_type": "code",
   "execution_count": 23,
   "id": "66d21bb6-14f5-41d2-9e80-f9fd8256fe0d",
   "metadata": {},
   "outputs": [
    {
     "data": {
      "text/plain": [
       "`randonneur_data` registry with 3 files:\n",
       "\tsimapro-ecoinvent-3.10-cutoff\n",
       "\tsimapro-ecoinvent-3.8-cutoff\n",
       "\tsimapro-ecoinvent-3.9.1-cutoff"
      ]
     },
     "execution_count": 23,
     "metadata": {},
     "output_type": "execute_result"
    }
   ],
   "source": [
    "registry"
   ]
  }
 ],
 "metadata": {
  "kernelspec": {
   "display_name": "Python 3 (ipykernel)",
   "language": "python",
   "name": "python3"
  },
  "language_info": {
   "codemirror_mode": {
    "name": "ipython",
    "version": 3
   },
   "file_extension": ".py",
   "mimetype": "text/x-python",
   "name": "python",
   "nbconvert_exporter": "python",
   "pygments_lexer": "ipython3",
   "version": "3.10.14"
  }
 },
 "nbformat": 4,
 "nbformat_minor": 5
}
