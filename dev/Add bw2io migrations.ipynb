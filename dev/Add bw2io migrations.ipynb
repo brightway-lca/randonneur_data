{
 "cells": [
  {
   "cell_type": "code",
   "execution_count": 1,
   "id": "21f1adf2-4f23-446b-a71e-7c729db74f44",
   "metadata": {},
   "outputs": [],
   "source": [
    "import bw2io as bi\n",
    "from randonneur import Datapackage, MappingConstants\n",
    "import randonneur_data as rd\n",
    "from pathlib import Path"
   ]
  },
  {
   "cell_type": "code",
   "execution_count": 2,
   "id": "78f66f42-14f3-4927-81f1-033850cb8eae",
   "metadata": {},
   "outputs": [],
   "source": [
    "registry = rd.Registry()"
   ]
  },
  {
   "cell_type": "markdown",
   "id": "07245e19-861f-48ed-9d65-04532618a252",
   "metadata": {},
   "source": [
    "# Biosphere contexts ecoinvent 2 - 3"
   ]
  },
  {
   "cell_type": "code",
   "execution_count": 4,
   "id": "9f993e3e-216f-49ab-859e-c25eacdf51c8",
   "metadata": {},
   "outputs": [],
   "source": [
    "dp = Datapackage(\n",
    "    name=\"ecoinvent-2.2-biosphere-context-ecoinvent-3.0-biosphere-context\",\n",
    "    description=\"Convert context (category and subcategory) labels from ecoinvent 2 to 3 standards\",\n",
    "    contributors=[\n",
    "        {\"title\": \"Chris Mutel\", \"path\": \"https://chris.mutel.org/\", \"role\": \"author\"},\n",
    "    ],\n",
    "    source_id=\"ecoinvent-2.2-biosphere\",\n",
    "    target_id=\"ecoinvent-3.0-biosphere\",\n",
    "    mapping_source=MappingConstants.ECOSPOLD1_BIO,\n",
    "    mapping_target=MappingConstants.ECOSPOLD2_BIO,\n",
    "    graph_context=[\"nodes\", \"edges\"],\n",
    ")"
   ]
  },
  {
   "cell_type": "code",
   "execution_count": 6,
   "id": "50b13050-6f78-44e3-baca-45c80239749b",
   "metadata": {},
   "outputs": [],
   "source": [
    "dp.add_data(\"replace\", [{\"source\": {\"context\": k}, \"target\": {\"context\": v}} for k, v in bi.compatibility.ECOSPOLD_2_3_BIOSPHERE.items()])"
   ]
  },
  {
   "cell_type": "code",
   "execution_count": 7,
   "id": "c5b1ac36-3cbd-4e4f-b58d-ca4b24d53291",
   "metadata": {},
   "outputs": [
    {
     "data": {
      "text/plain": [
       "PosixPath('/Users/cmutel/Code/randonneur_data/randonneur_data/data/ecoinvent-2.2-biosphere-context-ecoinvent-3.0-biosphere-context.json')"
      ]
     },
     "execution_count": 7,
     "metadata": {},
     "output_type": "execute_result"
    }
   ],
   "source": [
    "registry.add_file(dp.to_json(Path(\"ecoinvent-2.2-biosphere-context-ecoinvent-3.0-biosphere-context.json\")), replace=True)"
   ]
  },
  {
   "cell_type": "markdown",
   "id": "6fd15c97-e927-419d-805f-643519c36e64",
   "metadata": {},
   "source": [
    "# Biosphere flow names 2 - 3"
   ]
  },
  {
   "cell_type": "code",
   "execution_count": 14,
   "id": "83849913-1533-4637-815d-85a418bb32ab",
   "metadata": {},
   "outputs": [],
   "source": [
    "dp = Datapackage(\n",
    "    name=\"ecoinvent-2.2-biosphere-ecoinvent-3.0-biosphere\",\n",
    "    description=\"Convert biosphere flow names from ecoinvent 2 to 3\",\n",
    "    contributors=[\n",
    "        {\"title\": \"Chris Mutel\", \"path\": \"https://chris.mutel.org/\", \"role\": \"author\"},\n",
    "    ],\n",
    "    source_id=\"ecoinvent-2.2-biosphere\",\n",
    "    target_id=\"ecoinvent-3.0-biosphere\",\n",
    "    mapping_source=MappingConstants.ECOSPOLD1_BIO,\n",
    "    mapping_target=MappingConstants.ECOSPOLD2_BIO,\n",
    "    graph_context=[\"nodes\", \"edges\"],\n",
    ")"
   ]
  },
  {
   "cell_type": "code",
   "execution_count": 15,
   "id": "5ea5f4c0-6e88-4ee4-9d43-b433d02f5c23",
   "metadata": {},
   "outputs": [],
   "source": [
    "dp.add_data(\"replace\", [\n",
    "    {\"source\": {\"name\": elem[0][0]}, \"target\": {\"name\": elem[1]['name']}} \n",
    "    for elem in bi.data.get_biosphere_2_3_name_migration_data()['data']\n",
    "    if 'name' in elem[1]\n",
    "])"
   ]
  },
  {
   "cell_type": "code",
   "execution_count": 16,
   "id": "f8b470c4-ef58-403a-9474-5151332fd7eb",
   "metadata": {},
   "outputs": [
    {
     "data": {
      "text/plain": [
       "PosixPath('/Users/cmutel/Code/randonneur_data/randonneur_data/data/ecoinvent-2.2-biosphere-ecoinvent-3.0-biosphere.json')"
      ]
     },
     "execution_count": 16,
     "metadata": {},
     "output_type": "execute_result"
    }
   ],
   "source": [
    "registry.add_file(dp.to_json(Path(\"ecoinvent-2.2-biosphere-ecoinvent-3.0-biosphere.json\")), replace=True)"
   ]
  },
  {
   "cell_type": "markdown",
   "id": "db1ab0d3-ac8c-4754-8072-800a350da2a5",
   "metadata": {},
   "source": [
    "# Simapro - ecoinvent 3.5 all system models"
   ]
  },
  {
   "cell_type": "code",
   "execution_count": 24,
   "id": "5c46b3ec-2d14-4901-83f3-4d4ab6954806",
   "metadata": {},
   "outputs": [],
   "source": [
    "models = [\n",
    "    ('apos', 'Allocation at the point of substitution'),\n",
    "    ('cutoff', 'Allocation, cut-off by classification'),\n",
    "    ('consequential', 'Substitution, Consequential, Long-Term'),\n",
    "]\n",
    "\n",
    "sp_data = bi.data.get_simapro_ecoinvent_3_migration_data(\"3.5\")['data']\n",
    "\n",
    "for a, b in models:\n",
    "    dp = Datapackage(\n",
    "        name=f\"simapro-ecoinvent-3.5-{a}\",\n",
    "        description=f\"Data migration file from SimaPro 9 to ecoinvent-3.5-{a} generated by PRé and provided via request at https://support.simapro.com/s/contactsupport\",\n",
    "        contributors=[\n",
    "            {\"title\": \"PRé\", \"path\": \"https://pre-sustainability.com/\", \"role\": \"author\"},\n",
    "            {\"title\": \"Chris Mutel\", \"path\": \"https://chris.mutel.org/\", \"role\": \"wrangler\"},\n",
    "        ],\n",
    "        source_id=\"SimaPro-9\",\n",
    "        target_id=\"ecoinvent-3.5-{a}\",\n",
    "        mapping_source=MappingConstants.SIMAPRO_CSV,\n",
    "        mapping_target=MappingConstants.ECOSPOLD2,\n",
    "        graph_context=[\"edges\"],\n",
    "    )\n",
    "\n",
    "    data = [\n",
    "        {\n",
    "            'source': {\n",
    "                'name': first[0],\n",
    "            },\n",
    "            'target': {\n",
    "                'name': second['name'],\n",
    "                'location': second['location'],\n",
    "                'reference product': second['reference product'],\n",
    "            }\n",
    "        } \n",
    "        for first, second in sp_data\n",
    "        if second['system model'] == b\n",
    "    ]\n",
    "    dp.add_data(\"replace\", data)\n",
    "    registry.add_file(dp.to_json(Path(f\"simapro-ecoinvent-3.5-{a}.json\")), replace=True)"
   ]
  },
  {
   "cell_type": "code",
   "execution_count": 21,
   "id": "11a366f3-d1d6-4e06-91da-528bc1eb3032",
   "metadata": {},
   "outputs": [
    {
     "data": {
      "text/plain": [
       "[(('[sulfonyl]urea-compound {RER}| production | APOS, U',),\n",
       "  {'location': 'RER',\n",
       "   'name': '[sulfonyl]urea-compound production',\n",
       "   'reference product': '[sulfonyl]urea-compound',\n",
       "   'system model': 'Allocation at the point of substitution',\n",
       "   'simapro name': '[sulfonyl]urea-compound {RER}| production | APOS, U'}),\n",
       " (('[sulfonyl]urea-compound {RoW}| production | APOS, U',),\n",
       "  {'location': 'RoW',\n",
       "   'name': '[sulfonyl]urea-compound production',\n",
       "   'reference product': '[sulfonyl]urea-compound',\n",
       "   'system model': 'Allocation at the point of substitution',\n",
       "   'simapro name': '[sulfonyl]urea-compound {RoW}| production | APOS, U'}),\n",
       " (('[sulfonyl]urea-compound {RER}| production | Conseq, U',),\n",
       "  {'location': 'RER',\n",
       "   'name': '[sulfonyl]urea-compound production',\n",
       "   'reference product': '[sulfonyl]urea-compound',\n",
       "   'system model': 'Substitution, Consequential, Long-Term',\n",
       "   'simapro name': '[sulfonyl]urea-compound {RER}| production | Conseq, U'}),\n",
       " (('[sulfonyl]urea-compound {RoW}| production | Conseq, U',),\n",
       "  {'location': 'RoW',\n",
       "   'name': '[sulfonyl]urea-compound production',\n",
       "   'reference product': '[sulfonyl]urea-compound',\n",
       "   'system model': 'Substitution, Consequential, Long-Term',\n",
       "   'simapro name': '[sulfonyl]urea-compound {RoW}| production | Conseq, U'}),\n",
       " (('[sulfonyl]urea-compound {RER}| production | Cut-off, U',),\n",
       "  {'location': 'RER',\n",
       "   'name': '[sulfonyl]urea-compound production',\n",
       "   'reference product': '[sulfonyl]urea-compound',\n",
       "   'system model': 'Allocation, cut-off by classification',\n",
       "   'simapro name': '[sulfonyl]urea-compound {RER}| production | Cut-off, U'})]"
      ]
     },
     "execution_count": 21,
     "metadata": {},
     "output_type": "execute_result"
    }
   ],
   "source": [
    "list(bi.data.get_simapro_ecoinvent_3_migration_data(\"3.5\")['data'])[:5]"
   ]
  },
  {
   "cell_type": "code",
   "execution_count": null,
   "id": "d43ac0a3-de64-4323-a16f-72b5e3888c6c",
   "metadata": {},
   "outputs": [],
   "source": []
  }
 ],
 "metadata": {
  "kernelspec": {
   "display_name": "Python 3 (ipykernel)",
   "language": "python",
   "name": "python3"
  },
  "language_info": {
   "codemirror_mode": {
    "name": "ipython",
    "version": 3
   },
   "file_extension": ".py",
   "mimetype": "text/x-python",
   "name": "python",
   "nbconvert_exporter": "python",
   "pygments_lexer": "ipython3",
   "version": "3.10.14"
  }
 },
 "nbformat": 4,
 "nbformat_minor": 5
}
