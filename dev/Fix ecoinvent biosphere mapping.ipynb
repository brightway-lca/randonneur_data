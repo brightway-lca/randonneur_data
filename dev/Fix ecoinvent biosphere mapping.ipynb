{
 "cells": [
  {
   "cell_type": "code",
   "execution_count": 1,
   "id": "cafc4057-c176-47ea-8ec8-4539d8ce8fbf",
   "metadata": {},
   "outputs": [],
   "source": [
    "import ecoinvent_interface as ei\n",
    "import ecoinvent_migrate as em\n",
    "import bw2data as bd\n",
    "from pathlib import Path\n",
    "import xmltodict\n",
    "import pandas as pd\n",
    "import itertools\n",
    "from pycasreg.validation import validate_cas"
   ]
  },
  {
   "cell_type": "code",
   "execution_count": 2,
   "id": "a0a291f5-e58c-4af5-9092-de360d4cfa2a",
   "metadata": {},
   "outputs": [],
   "source": [
    "cs = ei.CachedStorage()"
   ]
  },
  {
   "cell_type": "code",
   "execution_count": 3,
   "id": "538d55db-4627-463c-ad14-f6e1db072c20",
   "metadata": {},
   "outputs": [
    {
     "name": "stderr",
     "output_type": "stream",
     "text": [
      "\u001b[32m2024-09-05 21:22:45.895\u001b[0m | \u001b[1mINFO    \u001b[0m | \u001b[36mecoinvent_migrate.main\u001b[0m:\u001b[36mget_change_report_context\u001b[0m:\u001b[36m61\u001b[0m - \u001b[1mVersions available for this license: ['3.10', '3.9.1', '3.9', '3.8', '3.7.1', '3.7', '3.6', '3.5', '3.4', '3.3', '3.2', '3.1', '3.01', '2']\u001b[0m\n",
      "\u001b[32m2024-09-05 21:22:46.432\u001b[0m | \u001b[1mINFO    \u001b[0m | \u001b[36mecoinvent_migrate.main\u001b[0m:\u001b[36mget_change_report_context\u001b[0m:\u001b[36m74\u001b[0m - \u001b[1mUsing change report annex file Change Report Annex v3.8 - v3.9.xlsx\u001b[0m\n"
     ]
    }
   ],
   "source": [
    "source_version = \"3.8\"\n",
    "target_version = \"3.9\"\n",
    "project_name: str = \"ecoinvent-migration\"\n",
    "\n",
    "source_db_name = f\"ecoinvent-{source_version}-biosphere\"\n",
    "target_db_name = f\"ecoinvent-{target_version}-biosphere\"\n",
    "\n",
    "excel_filepath = em.main.get_change_report_context(\n",
    "    source_version=source_version,\n",
    "    target_version=target_version,\n",
    "    project_name=project_name,\n",
    ")\n",
    "\n",
    "sheet_names = pd.ExcelFile(excel_filepath).sheet_names\n",
    "candidates = [name for name in sheet_names if name.lower() == \"ee deletions\"]\n",
    "\n",
    "data = pd.read_excel(io=excel_filepath, sheet_name=candidates[0]).to_dict(orient=\"records\")\n",
    "data = em.main.source_target_biosphere_pair(\n",
    "    data=data,\n",
    "    source_version=source_version,\n",
    "    target_version=target_version,\n",
    "    keep_deletions=True,\n",
    ")"
   ]
  },
  {
   "cell_type": "code",
   "execution_count": 4,
   "id": "8f3a5ba9-22eb-42f4-b22d-bd5beed625b4",
   "metadata": {},
   "outputs": [
    {
     "data": {
      "text/plain": [
       "{'05f6e226-0593-46f5-a788-01fa306e66ad',\n",
       " '09cf7c11-0269-4fc1-a5f3-47121a7882d3',\n",
       " '288c4e8a-d371-4bc1-b45b-c4b0cefd400e',\n",
       " '3fa03c96-b976-4f0f-8089-220968515ee1',\n",
       " '43b2649e-26f8-400d-bc0a-a0667e850915',\n",
       " '4412a76b-eb71-4fd3-afc9-6871a58cae5f',\n",
       " '5188df39-2bb8-4826-b469-fa9f86bacc09',\n",
       " '66a6dad0-e450-4206-88e1-f823a04f8b1d',\n",
       " '6abf9e1a-c33e-49ae-aeae-ab84cee7d2ab',\n",
       " '7346ba9f-476c-4343-9f37-d1bb174eed6d',\n",
       " '831f48fc-ca00-4534-9ede-730190b3bee0',\n",
       " '9547aff9-e1fc-5fad-a674-9b9a9fdb1c9c',\n",
       " '9c2a7dc9-8b1f-46ba-bc16-0d761a4f6016',\n",
       " 'a07b8a8c-8cab-4656-a82f-310e8069e323',\n",
       " 'b53d3744-3629-4219-be20-980865e54031',\n",
       " 'b8c794de-ac20-47f6-ae87-84d91e95da93',\n",
       " 'c4e01cfb-2f50-52d5-8177-1518ad8b7bea',\n",
       " 'c5c25aa6-d630-40bd-bed7-4e718c877ef4',\n",
       " 'c941d6d0-a56c-4e6c-95de-ac685635218d',\n",
       " 'd07867e3-66a8-4454-babd-78dc7f9a21f8',\n",
       " 'e030108f-2125-4bcb-a73b-ad72130fcca3',\n",
       " 'e3043a7f-5347-4c7b-89ee-93f11b2f6d9b',\n",
       " 'ec420d84-577b-402e-bd90-f8a4b2310135',\n",
       " 'f3e5bff4-5bdf-55d7-8dd9-3cac7b09e57f',\n",
       " 'f9c73aca-3d5c-4072-81dd-b8e0643530a6'}"
      ]
     },
     "execution_count": 4,
     "metadata": {},
     "output_type": "execute_result"
    }
   ],
   "source": [
    "affected_uuids = {o['source']['uuid'] for o in itertools.chain(data['replace'], data['delete'])}\n",
    "affected_uuids"
   ]
  },
  {
   "cell_type": "code",
   "execution_count": 5,
   "id": "c5cc6acc-87a3-45e1-b233-a29f0dc7e26b",
   "metadata": {},
   "outputs": [],
   "source": [
    "CAS_SUBSTITUTES = {\n",
    "    # Flipped digits (34 should be 43)\n",
    "    # But 7727-43-7 is barium sulfate, not barite\n",
    "    # See https://commonchemistry.cas.org/detail?cas_rn=7727-43-7\n",
    "    # and https://commonchemistry.cas.org/detail?cas_rn=13462-86-7\n",
    "    '007727-34-7': '13462-86-7',\n",
    "    # Transcription error\n",
    "    '000439-94-3': '7439-94-3',\n",
    "}"
   ]
  },
  {
   "cell_type": "code",
   "execution_count": 6,
   "id": "1a74f620-4678-4247-994d-b35638cc96ff",
   "metadata": {},
   "outputs": [],
   "source": [
    "def fix_cas(cas: str | None) -> str:\n",
    "    if not cas:\n",
    "        return None\n",
    "    cas = CAS_SUBSTITUTES.get(cas, cas)\n",
    "    return validate_cas(CAS_SUBSTITUTES.get(cas, cas))"
   ]
  },
  {
   "cell_type": "code",
   "execution_count": 7,
   "id": "5eef752d-a155-49f6-b9f7-17375abf0dd3",
   "metadata": {},
   "outputs": [],
   "source": [
    "def format(ecospold: dict) -> dict:\n",
    "    return {\n",
    "        obj['@id']: {\n",
    "            'name': obj['name']['#text'],\n",
    "            'CAS number': fix_cas(obj.get('@casNumber')) if obj.get('@casNumber') else None,\n",
    "            'formula': obj.get('@formula'),\n",
    "            'unit': obj['unitName']['#text'],\n",
    "        }\n",
    "        for obj in ecospold['validElementaryExchanges']['elementaryExchange']\n",
    "    }"
   ]
  },
  {
   "cell_type": "code",
   "execution_count": 8,
   "id": "aba73c96-e282-4190-a664-4e1cdf4045c4",
   "metadata": {},
   "outputs": [],
   "source": [
    "source_ee = format(xmltodict.parse(open(\n",
    "    Path(cs.catalogue[ei.ReleaseType.ecospold.filename(version=\"3.8\", system_model_abbr=\"cutoff\")]['path']) / \"MasterData\" / \"ElementaryExchanges.xml\",\n",
    "    \"rb\"\n",
    ")))\n",
    "target_ee = format(xmltodict.parse(open(\n",
    "    Path(cs.catalogue[ei.ReleaseType.ecospold.filename(version=\"3.9\", system_model_abbr=\"cutoff\")]['path']) / \"MasterData\" / \"ElementaryExchanges.xml\",\n",
    "    \"rb\"\n",
    ")))"
   ]
  },
  {
   "cell_type": "code",
   "execution_count": 9,
   "id": "afc54840-51bd-41d4-85af-99e223b8855f",
   "metadata": {},
   "outputs": [
    {
     "name": "stdout",
     "output_type": "stream",
     "text": [
      "{'name': '2-Methyl pentane', 'CAS number': '0000107-83-5', 'formula': 'C6H14', 'unit': 'kg'} {'name': '2-Methylpentane'}\n",
      "{'name': 'Acrylate, ion', 'CAS number': '0000079-10-7', 'formula': 'C3H4O2', 'unit': 'kg'} {'name': 'Acrylate', 'CAS number': '0010344-93-1', 'formula': 'C3H3O2-'}\n",
      "{'name': 'Aluminium', 'CAS number': '0007429-90-5', 'formula': 'Al', 'unit': 'kg'} {'name': 'Aluminium III', 'CAS number': '0022537-23-1', 'formula': 'Al+3'}\n",
      "{'name': 'Aluminium, 24% in bauxite, 11% in crude ore, in ground', 'CAS number': '0001318-16-7', 'formula': None, 'unit': 'kg'} {'name': 'Aluminium, 24% in bauxite, 11% in crude ore', 'formula': 'Al'}\n",
      "{'name': 'Ammonium, ion', 'CAS number': '0014798-03-9', 'formula': 'H4N+', 'unit': 'kg'} {'name': 'Ammonium'}\n",
      "{'name': 'Anhydrite, in ground', 'CAS number': '0014798-04-0', 'formula': 'CaH2O4S', 'unit': 'kg'} {'name': 'Anhydrite'}\n",
      "{'name': 'Antimony', 'CAS number': '0007440-36-0', 'formula': 'Sb', 'unit': 'kg'} {'name': 'Antimony ion'}\n",
      "{'name': 'AOX, Adsorbable Organic Halogen as Cl', 'CAS number': None, 'formula': None, 'unit': 'kg'} {'name': 'AOX, Adsorbable Organic Halogen'}\n",
      "{'name': 'Arsenic', 'CAS number': '0007440-38-2', 'formula': 'As', 'unit': 'kg'} {'name': 'Arsenic ion'}\n",
      "{'name': 'Arsenic, ion', 'CAS number': '0017428-41-0', 'formula': 'As+5', 'unit': 'kg'} {'name': 'Arsenic ion'}\n",
      "{'name': 'Barite, 15% in crude ore, in ground', 'CAS number': '0013462-86-7', 'formula': None, 'unit': 'kg'} {'name': 'Barite, 15% in crude ore'}\n",
      "{'name': 'Barium', 'CAS number': '0007440-39-3', 'formula': 'Ba', 'unit': 'kg'} {'name': 'Barium II', 'CAS number': '0022541-12-4', 'formula': 'Ba+2'}\n",
      "{'name': 'Basalt, in ground', 'CAS number': '0012765-06-9', 'formula': 'CaMgO6Si2', 'unit': 'kg'} {'name': 'Basalt'}\n",
      "{'name': 'Benzene, dichloro', 'CAS number': '0000095-50-1', 'formula': 'C6H4Cl2', 'unit': 'kg'} {'name': '1,2-Dichlorobenzene'}\n",
      "{'name': 'Beryllium', 'CAS number': '0007440-41-7', 'formula': 'Be', 'unit': 'kg'} {'name': 'Beryllium II', 'CAS number': '0022537-20-8', 'formula': 'Be+2'}\n",
      "{'name': 'Borax, in ground', 'CAS number': '0001330-43-4', 'formula': 'B4Na2O7', 'unit': 'kg'} {'name': 'Borax'}\n",
      "{'name': 'Bromine', 'CAS number': '0007726-95-6', 'formula': 'Br2', 'unit': 'kg'} {'formula': 'Br'}\n",
      "{'name': 'Cadmium', 'CAS number': '0007440-43-9', 'formula': 'Cd', 'unit': 'kg'} {'name': 'Cadmium II', 'CAS number': '0022537-48-0', 'formula': 'Cd+2'}\n",
      "{'name': 'Cadmium, 0.30% in sulfide, Cd 0.18%, Pb, Zn, Ag, In, in ground', 'CAS number': '0007440-43-9', 'formula': 'Cd', 'unit': 'kg'} {'name': 'Cadmium, 0.30% in sulfide, Cd 0.18%, Pb, Zn, Ag, In'}\n"
     ]
    }
   ],
   "source": [
    "count = 0\n",
    "\n",
    "for key_source, value_source in source_ee.items():\n",
    "    if key_source not in target_ee and key_source not in affected_uuids:\n",
    "        data['delete'].append({\n",
    "            'source': {\n",
    "                'uuid': key_source,\n",
    "                'name': value_source['name']\n",
    "            },\n",
    "            'comment': 'Deleted flow not listed in change report'\n",
    "        })\n",
    "        continue\n",
    "    elif key_source not in target_ee:\n",
    "        # Included in change report\n",
    "        continue\n",
    "\n",
    "    diff = {key: value for key, value in target_ee[key_source].items() if value and value != value_source[key]}\n",
    "    if diff:\n",
    "        count += 1\n",
    "        if count < 20:\n",
    "            print(value_source, diff)\n",
    "        if 'update' not in data:\n",
    "            data['update'] = []\n",
    "        data['update'].append({\n",
    "            'source': {k: v for k, v in value_source.items() if v} | {\"uuid\": key_source},\n",
    "            'target': diff | {\"uuid\": key_source},\n",
    "            'comment': 'Change in attributes not listed in change report'\n",
    "        })"
   ]
  },
  {
   "cell_type": "code",
   "execution_count": null,
   "id": "aadf87d8-556c-4462-970e-9271a10e3ea4",
   "metadata": {},
   "outputs": [],
   "source": []
  },
  {
   "cell_type": "code",
   "execution_count": 8,
   "id": "c4bfd218-1515-4e64-897c-a669a337d971",
   "metadata": {},
   "outputs": [],
   "source": [
    "settings = ei.Settings()"
   ]
  },
  {
   "cell_type": "code",
   "execution_count": 9,
   "id": "32e7c17f-f087-4957-9813-4c7e5075b7e1",
   "metadata": {},
   "outputs": [
    {
     "data": {
      "text/plain": [
       "'ecoinvent 3.8_cutoff_ecoSpold02.7z'"
      ]
     },
     "execution_count": 9,
     "metadata": {},
     "output_type": "execute_result"
    }
   ],
   "source": [
    "ei.ReleaseType.ecospold.filename(version=\"3.8\", system_model_abbr=\"cutoff\")"
   ]
  },
  {
   "cell_type": "code",
   "execution_count": 10,
   "id": "e7adb4c7-525c-4c57-98e3-e3295f2ced3b",
   "metadata": {},
   "outputs": [],
   "source": [
    "er = ei.EcoinventRelease(settings)"
   ]
  },
  {
   "cell_type": "code",
   "execution_count": 11,
   "id": "1103d687-0127-4bb8-953e-bcfc2bf16e68",
   "metadata": {},
   "outputs": [
    {
     "data": {
      "text/plain": [
       "{'ecoinvent 3.8_cutoff_cumulative_lcia_xlsx.7z': {'uuid': '36a30e54-b405-4e0b-b22f-f4ee4267704d',\n",
       "  'size': 184779194,\n",
       "  'modified': datetime.datetime(2023, 4, 25, 0, 0)},\n",
       " 'ecoinvent 3.8_cutoff_cumulative_lci_xlsx.7z': {'uuid': '1520f048-2c3f-4413-bf91-dd698549db2a',\n",
       "  'size': 432278088,\n",
       "  'modified': datetime.datetime(2023, 4, 25, 0, 0)},\n",
       " 'ecoinvent 3.8_cutoff_ecoSpold02.7z': {'uuid': '945e4e60-1e45-4ede-b432-d4db4b1b333a',\n",
       "  'size': 63981644,\n",
       "  'modified': datetime.datetime(2023, 4, 25, 0, 0)},\n",
       " 'ecoinvent 3.8_cutoff_lcia_ecoSpold02.7z': {'uuid': '193c0d61-0d58-4911-97f8-ed8edd9ccfcb',\n",
       "  'size': 225879056,\n",
       "  'modified': datetime.datetime(2023, 4, 25, 0, 0)},\n",
       " 'ecoinvent 3.8_cutoff_lci_ecoSpold02.7z': {'uuid': 'e483b611-857b-419b-9187-2dd00e89b451',\n",
       "  'size': 1105433422,\n",
       "  'modified': datetime.datetime(2023, 4, 25, 0, 0)},\n",
       " 'universal_matrix_export_3.8_cut-off.7z': {'uuid': 'c66536fb-287e-40fc-8579-cb5438129307',\n",
       "  'size': 4720543,\n",
       "  'modified': datetime.datetime(2023, 4, 25, 0, 0)},\n",
       " 'ecoinvent 3.8_consequential_cumulative_lcia_xlsx.7z': {'uuid': 'f94a05b1-104b-487c-9c52-ca2bea0abec7',\n",
       "  'size': 170513410,\n",
       "  'modified': datetime.datetime(2023, 4, 25, 0, 0)},\n",
       " 'ecoinvent 3.8_consequential_cumulative_lci_xlsx.7z': {'uuid': '8d1bc8d2-5451-4872-a073-d963f9e725c2',\n",
       "  'size': 390658304,\n",
       "  'modified': datetime.datetime(2023, 4, 25, 0, 0)},\n",
       " 'ecoinvent 3.8_consequential_ecoSpold02.7z': {'uuid': '012ce34c-0eb9-44e7-8afa-de9e6124003e',\n",
       "  'size': 78833889,\n",
       "  'modified': datetime.datetime(2023, 4, 25, 0, 0)},\n",
       " 'ecoinvent 3.8_consequential_lcia_ecoSpold02.7z': {'uuid': 'c6818146-4f7b-433e-a217-925781c0b19e',\n",
       "  'size': 243269125,\n",
       "  'modified': datetime.datetime(2023, 4, 25, 0, 0)},\n",
       " 'ecoinvent 3.8_consequential_lci_ecoSpold02.7z': {'uuid': '178c92db-872c-4121-90e4-0d85d8521fee',\n",
       "  'size': 1032358056,\n",
       "  'modified': datetime.datetime(2023, 4, 25, 0, 0)},\n",
       " 'universal_matrix_export_3.8_consequential.7z': {'uuid': '9405d573-b0ab-409a-aa5f-741e3030b1b2',\n",
       "  'size': 3805266,\n",
       "  'modified': datetime.datetime(2023, 4, 25, 0, 0)},\n",
       " 'ecoinvent 3.8_EN15804_cumulative_lcia_xlsx.7z': {'uuid': '30aa28c3-5166-4c76-bd4e-3fad05819f37',\n",
       "  'size': 10569307,\n",
       "  'modified': datetime.datetime(2023, 4, 25, 0, 0)},\n",
       " 'ecoinvent 3.8_EN15804_cumulative_lci_xlsx.7z': {'uuid': 'ac2cd11a-7e39-4029-8a84-067525f6c0cd',\n",
       "  'size': 583891868,\n",
       "  'modified': datetime.datetime(2023, 4, 25, 0, 0)},\n",
       " 'ecoinvent 3.8_EN15804_ecoSpold02.7z': {'uuid': 'b83c3a85-f96a-4bb8-acab-b58cf82c019d',\n",
       "  'size': 88166341,\n",
       "  'modified': datetime.datetime(2023, 4, 25, 0, 0)},\n",
       " 'ecoinvent 3.8_EN15804_lcia_ecoSpold02.7z': {'uuid': '1dc985c3-31aa-4c93-b443-a090851421c3',\n",
       "  'size': 19964864,\n",
       "  'modified': datetime.datetime(2023, 4, 25, 0, 0)},\n",
       " 'ecoinvent 3.8_EN15804_lci_ecoSpold02.7z': {'uuid': 'a67bc34a-2327-47a5-bd4c-6f38befd9109',\n",
       "  'size': 1111974615,\n",
       "  'modified': datetime.datetime(2023, 4, 25, 0, 0)},\n",
       " 'universal_matrix_export_3.8_EN15804.7z': {'uuid': '7bcb90ee-f6ed-4abb-983f-fa862064f5b1',\n",
       "  'size': 5073056,\n",
       "  'modified': datetime.datetime(2023, 4, 25, 0, 0)},\n",
       " 'ecoinvent 3.8_apos_cumulative_lcia_xlsx.7z': {'uuid': 'd303fd1a-07ae-43a9-b931-edbf4b4f72eb',\n",
       "  'size': 190884707,\n",
       "  'modified': datetime.datetime(2023, 4, 25, 0, 0)},\n",
       " 'ecoinvent 3.8_apos_cumulative_lci_xlsx.7z': {'uuid': '727e9f62-a0d9-45c8-91fd-72d4131e5fe3',\n",
       "  'size': 465344756,\n",
       "  'modified': datetime.datetime(2023, 4, 25, 0, 0)},\n",
       " 'ecoinvent 3.8_apos_ecoSpold02.7z': {'uuid': '96aa99ab-9e3a-4149-906a-2ba0a49122bd',\n",
       "  'size': 120259293,\n",
       "  'modified': datetime.datetime(2023, 4, 25, 0, 0)},\n",
       " 'ecoinvent 3.8_apos_lcia_ecoSpold02.7z': {'uuid': 'b47402c4-4c4c-4f36-8433-f41d71a91cc5',\n",
       "  'size': 260803051,\n",
       "  'modified': datetime.datetime(2023, 4, 25, 0, 0)},\n",
       " 'ecoinvent 3.8_apos_lci_ecoSpold02.7z': {'uuid': 'c2147dee-3131-4b87-b3bf-6b6f32b9bdd1',\n",
       "  'size': 1304825234,\n",
       "  'modified': datetime.datetime(2023, 4, 25, 0, 0)},\n",
       " 'universal_matrix_export_3.8_apos.7z': {'uuid': '5543fa71-fbf3-4748-a83e-1772504e56a9',\n",
       "  'size': 8850598,\n",
       "  'modified': datetime.datetime(2023, 4, 25, 0, 0)}}"
      ]
     },
     "execution_count": 11,
     "metadata": {},
     "output_type": "execute_result"
    }
   ],
   "source": [
    "er._filename_dict(version=\"3.8\")"
   ]
  },
  {
   "cell_type": "code",
   "execution_count": null,
   "id": "97633aff-0044-4cd1-aaa5-e055b0e364df",
   "metadata": {},
   "outputs": [],
   "source": []
  }
 ],
 "metadata": {
  "kernelspec": {
   "display_name": "Python 3 (ipykernel)",
   "language": "python",
   "name": "python3"
  },
  "language_info": {
   "codemirror_mode": {
    "name": "ipython",
    "version": 3
   },
   "file_extension": ".py",
   "mimetype": "text/x-python",
   "name": "python",
   "nbconvert_exporter": "python",
   "pygments_lexer": "ipython3",
   "version": "3.10.14"
  }
 },
 "nbformat": 4,
 "nbformat_minor": 5
}
