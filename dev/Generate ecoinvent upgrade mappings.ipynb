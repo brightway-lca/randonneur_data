{
 "cells": [
  {
   "cell_type": "code",
   "execution_count": 1,
   "id": "03251142-6347-4c3b-9dab-ca61b3b8a552",
   "metadata": {},
   "outputs": [],
   "source": [
    "import bw2data as bd\n",
    "import ecoinvent_migrate as em\n",
    "import randonneur as rd\n",
    "from pathlib import Path\n",
    "import randonneur_data as rdata"
   ]
  },
  {
   "cell_type": "code",
   "execution_count": 2,
   "id": "3065cefd-ec8a-4d69-bc76-b45973abeba7",
   "metadata": {},
   "outputs": [],
   "source": [
    "registry = rdata.Registry()"
   ]
  },
  {
   "cell_type": "code",
   "execution_count": 3,
   "id": "8b1cda58-092e-4897-b1bd-821ce19649f3",
   "metadata": {},
   "outputs": [],
   "source": [
    "def write_for_technosphere_versions(source_version, target_version):\n",
    "    fp = em.generate_technosphere_mapping(\n",
    "        source_version=source_version,\n",
    "        target_version=target_version,\n",
    "        output_directory=Path.cwd(),\n",
    "        write_file=True,\n",
    "    )  \n",
    "    if not fp:\n",
    "        return\n",
    "    return registry.add_file(fp, replace=True)"
   ]
  },
  {
   "cell_type": "code",
   "execution_count": 3,
   "id": "cbf2ccb6-95cc-4cc2-b4f8-d325f490f569",
   "metadata": {},
   "outputs": [],
   "source": [
    "def write_for_biosphere_versions(source_version, target_version):\n",
    "    fp = em.generate_biosphere_mapping(\n",
    "        source_version=source_version,\n",
    "        target_version=target_version,\n",
    "        keep_deletions=True,\n",
    "        write_file = True,\n",
    "        output_directory=Path.cwd()\n",
    "    )\n",
    "    if not fp:\n",
    "        return\n",
    "    return registry.add_file(fp, replace=True)"
   ]
  },
  {
   "cell_type": "code",
   "execution_count": 4,
   "id": "c4ddb840-6de0-4018-96eb-09213f2541e4",
   "metadata": {
    "collapsed": true,
    "jupyter": {
     "outputs_hidden": true
    }
   },
   "outputs": [
    {
     "name": "stderr",
     "output_type": "stream",
     "text": [
      "\u001b[32m2024-07-24 13:21:54.401\u001b[0m | \u001b[1mINFO    \u001b[0m | \u001b[36mecoinvent_migrate.utils\u001b[0m:\u001b[36mconfigure_logs\u001b[0m:\u001b[36m19\u001b[0m - \u001b[1mWriting logs to /Users/cmutel/Library/Logs/ecoinvent_migrate/2024-07-24T13-21-54\u001b[0m\n",
      "\u001b[32m2024-07-24 13:21:55.633\u001b[0m | \u001b[1mINFO    \u001b[0m | \u001b[36mecoinvent_migrate.main\u001b[0m:\u001b[36mget_change_report_context\u001b[0m:\u001b[36m58\u001b[0m - \u001b[1mVersions available for this license: ['3.10', '3.9.1', '3.9', '3.8', '3.7.1', '3.7', '3.6', '3.5', '3.4', '3.3', '3.2', '3.1', '3.01', '2']\u001b[0m\n",
      "\u001b[32m2024-07-24 13:21:56.210\u001b[0m | \u001b[1mINFO    \u001b[0m | \u001b[36mecoinvent_migrate.main\u001b[0m:\u001b[36mget_change_report_context\u001b[0m:\u001b[36m71\u001b[0m - \u001b[1mUsing change report annex file Change Report Annex v3.7.1 - v3.8.xlsx\u001b[0m\n",
      "\u001b[32m2024-07-24 13:22:00.264\u001b[0m | \u001b[1mINFO    \u001b[0m | \u001b[36mecoinvent_migrate.data_io\u001b[0m:\u001b[36mget_brightway_databases\u001b[0m:\u001b[36m113\u001b[0m - \u001b[1mLoading source database ecoinvent-3.7.1-cutoff to cache data attributes\u001b[0m\n",
      "\u001b[32m2024-07-24 13:22:01.702\u001b[0m | \u001b[1mINFO    \u001b[0m | \u001b[36mecoinvent_migrate.data_io\u001b[0m:\u001b[36mget_brightway_databases\u001b[0m:\u001b[36m118\u001b[0m - \u001b[1mLoading target database ecoinvent-3.8-cutoff to cache data attributes\u001b[0m\n",
      "\u001b[32m2024-07-24 13:22:03.429\u001b[0m | \u001b[33m\u001b[1mWARNING \u001b[0m | \u001b[36mecoinvent_migrate.wrangling\u001b[0m:\u001b[36mresolve_glo_row_rer_roe\u001b[0m:\u001b[36m221\u001b[0m - \u001b[33m\u001b[1mTarget process given in change report but missing in ecoinvent-3.8-cutoff lookup: {'name': 'heavy mineral sand quarry operation and titania slag production', 'location': 'GLO', 'reference product': 'titania slag, 85% titanium dioxide', 'unit': 'kg'}\u001b[0m\n",
      "\u001b[32m2024-07-24 13:22:03.436\u001b[0m | \u001b[33m\u001b[1mWARNING \u001b[0m | \u001b[36mecoinvent_migrate.wrangling\u001b[0m:\u001b[36mresolve_glo_row_rer_roe\u001b[0m:\u001b[36m221\u001b[0m - \u001b[33m\u001b[1mTarget process given in change report but missing in ecoinvent-3.8-cutoff lookup: {'name': 'iron ore mine operation and beneficiation', 'location': 'GLO', 'reference product': 'iron ore concentrate', 'unit': 'kg'}\u001b[0m\n",
      "\u001b[32m2024-07-24 13:22:03.537\u001b[0m | \u001b[33m\u001b[1mWARNING \u001b[0m | \u001b[36mecoinvent_migrate.wrangling\u001b[0m:\u001b[36mresolve_glo_row_rer_roe\u001b[0m:\u001b[36m221\u001b[0m - \u001b[33m\u001b[1mTarget process given in change report but missing in ecoinvent-3.8-cutoff lookup: {'name': 'rutile production, synthetic, 95% titanium dioxide, Becher process', 'location': 'GLO', 'reference product': 'rutile, 95% titanium dioxide', 'unit': 'kg'}\u001b[0m\n",
      "\u001b[32m2024-07-24 13:22:03.537\u001b[0m | \u001b[33m\u001b[1mWARNING \u001b[0m | \u001b[36mecoinvent_migrate.wrangling\u001b[0m:\u001b[36mresolve_glo_row_rer_roe\u001b[0m:\u001b[36m221\u001b[0m - \u001b[33m\u001b[1mTarget process given in change report but missing in ecoinvent-3.8-cutoff lookup: {'name': 'rutile production, synthetic, 95% titanium dioxide, Benelite process', 'location': 'GLO', 'reference product': 'rutile, 95% titanium dioxide', 'unit': 'kg'}\u001b[0m\n",
      "\u001b[32m2024-07-24 13:22:03.644\u001b[0m | \u001b[33m\u001b[1mWARNING \u001b[0m | \u001b[36mecoinvent_migrate.wrangling\u001b[0m:\u001b[36mdisaggregated\u001b[0m:\u001b[36m259\u001b[0m - \u001b[33m\u001b[1mChange report annex dataset missing from database.\n",
      "    This is likely a publication error which you can't fix.\n",
      "    Removing the following from migrations:\n",
      "    {'name': 'market for electricity, high voltage', 'location': 'GLO', 'reference product': 'electricity, high voltage', 'unit': 'kWh'}\u001b[0m\n",
      "\u001b[32m2024-07-24 13:22:03.646\u001b[0m | \u001b[33m\u001b[1mWARNING \u001b[0m | \u001b[36mecoinvent_migrate.wrangling\u001b[0m:\u001b[36mdisaggregated\u001b[0m:\u001b[36m259\u001b[0m - \u001b[33m\u001b[1mChange report annex dataset missing from database.\n",
      "    This is likely a publication error which you can't fix.\n",
      "    Removing the following from migrations:\n",
      "    {'name': 'market for electricity, low voltage', 'location': 'GLO', 'reference product': 'electricity, low voltage', 'unit': 'kWh'}\u001b[0m\n",
      "\u001b[32m2024-07-24 13:22:03.648\u001b[0m | \u001b[33m\u001b[1mWARNING \u001b[0m | \u001b[36mecoinvent_migrate.wrangling\u001b[0m:\u001b[36mdisaggregated\u001b[0m:\u001b[36m259\u001b[0m - \u001b[33m\u001b[1mChange report annex dataset missing from database.\n",
      "    This is likely a publication error which you can't fix.\n",
      "    Removing the following from migrations:\n",
      "    {'name': 'market for electricity, medium voltage', 'location': 'GLO', 'reference product': 'electricity, medium voltage', 'unit': 'kWh'}\u001b[0m\n",
      "\u001b[32m2024-07-24 13:22:03.659\u001b[0m | \u001b[33m\u001b[1mWARNING \u001b[0m | \u001b[36mecoinvent_migrate.wrangling\u001b[0m:\u001b[36mdisaggregated\u001b[0m:\u001b[36m259\u001b[0m - \u001b[33m\u001b[1mChange report annex dataset missing from database.\n",
      "    This is likely a publication error which you can't fix.\n",
      "    Removing the following from migrations:\n",
      "    {'name': 'market for transport, freight, lorry 16-32 metric ton, EURO1', 'location': 'GLO', 'reference product': 'transport, freight, lorry 16-32 metric ton, EURO1', 'unit': 'metric ton*km'}\u001b[0m\n",
      "\u001b[32m2024-07-24 13:22:03.660\u001b[0m | \u001b[33m\u001b[1mWARNING \u001b[0m | \u001b[36mecoinvent_migrate.wrangling\u001b[0m:\u001b[36mdisaggregated\u001b[0m:\u001b[36m259\u001b[0m - \u001b[33m\u001b[1mChange report annex dataset missing from database.\n",
      "    This is likely a publication error which you can't fix.\n",
      "    Removing the following from migrations:\n",
      "    {'name': 'market for transport, freight, lorry 16-32 metric ton, EURO2', 'location': 'GLO', 'reference product': 'transport, freight, lorry 16-32 metric ton, EURO2', 'unit': 'metric ton*km'}\u001b[0m\n",
      "\u001b[32m2024-07-24 13:22:03.666\u001b[0m | \u001b[33m\u001b[1mWARNING \u001b[0m | \u001b[36mecoinvent_migrate.wrangling\u001b[0m:\u001b[36mdisaggregated\u001b[0m:\u001b[36m259\u001b[0m - \u001b[33m\u001b[1mChange report annex dataset missing from database.\n",
      "    This is likely a publication error which you can't fix.\n",
      "    Removing the following from migrations:\n",
      "    {'name': 'market for transport, freight, lorry 16-32 metric ton, unregulated', 'location': 'GLO', 'reference product': 'transport, freight, lorry 16-32 metric ton, unregulated', 'unit': 'metric ton*km'}\u001b[0m\n",
      "\u001b[32m2024-07-24 13:22:03.668\u001b[0m | \u001b[33m\u001b[1mWARNING \u001b[0m | \u001b[36mecoinvent_migrate.wrangling\u001b[0m:\u001b[36mdisaggregated\u001b[0m:\u001b[36m259\u001b[0m - \u001b[33m\u001b[1mChange report annex dataset missing from database.\n",
      "    This is likely a publication error which you can't fix.\n",
      "    Removing the following from migrations:\n",
      "    {'name': 'market for transport, freight, lorry 3.5-7.5 metric ton, EURO1', 'location': 'GLO', 'reference product': 'transport, freight, lorry 3.5-7.5 metric ton, EURO1', 'unit': 'metric ton*km'}\u001b[0m\n",
      "\u001b[32m2024-07-24 13:22:03.670\u001b[0m | \u001b[33m\u001b[1mWARNING \u001b[0m | \u001b[36mecoinvent_migrate.wrangling\u001b[0m:\u001b[36mdisaggregated\u001b[0m:\u001b[36m259\u001b[0m - \u001b[33m\u001b[1mChange report annex dataset missing from database.\n",
      "    This is likely a publication error which you can't fix.\n",
      "    Removing the following from migrations:\n",
      "    {'name': 'market for transport, freight, lorry 3.5-7.5 metric ton, EURO2', 'location': 'GLO', 'reference product': 'transport, freight, lorry 3.5-7.5 metric ton, EURO2', 'unit': 'metric ton*km'}\u001b[0m\n",
      "\u001b[32m2024-07-24 13:22:03.676\u001b[0m | \u001b[33m\u001b[1mWARNING \u001b[0m | \u001b[36mecoinvent_migrate.wrangling\u001b[0m:\u001b[36mdisaggregated\u001b[0m:\u001b[36m259\u001b[0m - \u001b[33m\u001b[1mChange report annex dataset missing from database.\n",
      "    This is likely a publication error which you can't fix.\n",
      "    Removing the following from migrations:\n",
      "    {'name': 'market for transport, freight, lorry 3.5-7.5 metric ton, unregulated', 'location': 'GLO', 'reference product': 'transport, freight, lorry 3.5-7.5 metric ton, unregulated', 'unit': 'metric ton*km'}\u001b[0m\n",
      "\u001b[32m2024-07-24 13:22:03.677\u001b[0m | \u001b[33m\u001b[1mWARNING \u001b[0m | \u001b[36mecoinvent_migrate.wrangling\u001b[0m:\u001b[36mdisaggregated\u001b[0m:\u001b[36m259\u001b[0m - \u001b[33m\u001b[1mChange report annex dataset missing from database.\n",
      "    This is likely a publication error which you can't fix.\n",
      "    Removing the following from migrations:\n",
      "    {'name': 'market for transport, freight, lorry 7.5-16 metric ton, EURO1', 'location': 'GLO', 'reference product': 'transport, freight, lorry 7.5-16 metric ton, EURO1', 'unit': 'metric ton*km'}\u001b[0m\n",
      "\u001b[32m2024-07-24 13:22:03.679\u001b[0m | \u001b[33m\u001b[1mWARNING \u001b[0m | \u001b[36mecoinvent_migrate.wrangling\u001b[0m:\u001b[36mdisaggregated\u001b[0m:\u001b[36m259\u001b[0m - \u001b[33m\u001b[1mChange report annex dataset missing from database.\n",
      "    This is likely a publication error which you can't fix.\n",
      "    Removing the following from migrations:\n",
      "    {'name': 'market for transport, freight, lorry 7.5-16 metric ton, EURO2', 'location': 'GLO', 'reference product': 'transport, freight, lorry 7.5-16 metric ton, EURO2', 'unit': 'metric ton*km'}\u001b[0m\n",
      "\u001b[32m2024-07-24 13:22:03.686\u001b[0m | \u001b[33m\u001b[1mWARNING \u001b[0m | \u001b[36mecoinvent_migrate.wrangling\u001b[0m:\u001b[36mdisaggregated\u001b[0m:\u001b[36m259\u001b[0m - \u001b[33m\u001b[1mChange report annex dataset missing from database.\n",
      "    This is likely a publication error which you can't fix.\n",
      "    Removing the following from migrations:\n",
      "    {'name': 'market for transport, freight, lorry 7.5-16 metric ton, unregulated', 'location': 'GLO', 'reference product': 'transport, freight, lorry 7.5-16 metric ton, unregulated', 'unit': 'metric ton*km'}\u001b[0m\n",
      "\u001b[32m2024-07-24 13:22:03.688\u001b[0m | \u001b[33m\u001b[1mWARNING \u001b[0m | \u001b[36mecoinvent_migrate.wrangling\u001b[0m:\u001b[36mdisaggregated\u001b[0m:\u001b[36m259\u001b[0m - \u001b[33m\u001b[1mChange report annex dataset missing from database.\n",
      "    This is likely a publication error which you can't fix.\n",
      "    Removing the following from migrations:\n",
      "    {'name': 'market for transport, freight, lorry >32 metric ton, EURO1', 'location': 'GLO', 'reference product': 'transport, freight, lorry >32 metric ton, EURO1', 'unit': 'metric ton*km'}\u001b[0m\n",
      "\u001b[32m2024-07-24 13:22:03.689\u001b[0m | \u001b[33m\u001b[1mWARNING \u001b[0m | \u001b[36mecoinvent_migrate.wrangling\u001b[0m:\u001b[36mdisaggregated\u001b[0m:\u001b[36m259\u001b[0m - \u001b[33m\u001b[1mChange report annex dataset missing from database.\n",
      "    This is likely a publication error which you can't fix.\n",
      "    Removing the following from migrations:\n",
      "    {'name': 'market for transport, freight, lorry >32 metric ton, EURO2', 'location': 'GLO', 'reference product': 'transport, freight, lorry >32 metric ton, EURO2', 'unit': 'metric ton*km'}\u001b[0m\n",
      "\u001b[32m2024-07-24 13:22:03.696\u001b[0m | \u001b[33m\u001b[1mWARNING \u001b[0m | \u001b[36mecoinvent_migrate.wrangling\u001b[0m:\u001b[36mdisaggregated\u001b[0m:\u001b[36m259\u001b[0m - \u001b[33m\u001b[1mChange report annex dataset missing from database.\n",
      "    This is likely a publication error which you can't fix.\n",
      "    Removing the following from migrations:\n",
      "    {'name': 'market for transport, freight, lorry >32 metric ton, unregulated', 'location': 'GLO', 'reference product': 'transport, freight, lorry >32 metric ton, unregulated', 'unit': 'metric ton*km'}\u001b[0m\n",
      "\u001b[32m2024-07-24 13:22:03.734\u001b[0m | \u001b[33m\u001b[1mWARNING \u001b[0m | \u001b[36mecoinvent_migrate.wrangling\u001b[0m:\u001b[36mdisaggregated\u001b[0m:\u001b[36m259\u001b[0m - \u001b[33m\u001b[1mChange report annex dataset missing from database.\n",
      "    This is likely a publication error which you can't fix.\n",
      "    Removing the following from migrations:\n",
      "    {'name': 'rutile production, synthetic, 95% titanium dioxide, Becher process', 'location': 'GLO', 'reference product': 'rutile, 95% titanium dioxide', 'unit': 'kg'}\u001b[0m\n",
      "\u001b[32m2024-07-24 13:22:03.734\u001b[0m | \u001b[33m\u001b[1mWARNING \u001b[0m | \u001b[36mecoinvent_migrate.wrangling\u001b[0m:\u001b[36mdisaggregated\u001b[0m:\u001b[36m259\u001b[0m - \u001b[33m\u001b[1mChange report annex dataset missing from database.\n",
      "    This is likely a publication error which you can't fix.\n",
      "    Removing the following from migrations:\n",
      "    {'name': 'rutile production, synthetic, 95% titanium dioxide, Benelite process', 'location': 'GLO', 'reference product': 'rutile, 95% titanium dioxide', 'unit': 'kg'}\u001b[0m\n",
      "\u001b[32m2024-07-24 13:22:03.767\u001b[0m | \u001b[33m\u001b[1mWARNING \u001b[0m | \u001b[36mecoinvent_migrate.wrangling\u001b[0m:\u001b[36mdisaggregated\u001b[0m:\u001b[36m259\u001b[0m - \u001b[33m\u001b[1mChange report annex dataset missing from database.\n",
      "    This is likely a publication error which you can't fix.\n",
      "    Removing the following from migrations:\n",
      "    {'name': 'transport, freight, lorry 16-32 metric ton, EURO1', 'location': 'GLO', 'reference product': 'transport, freight, lorry 16-32 metric ton, EURO1', 'unit': 'metric ton*km'}\u001b[0m\n",
      "\u001b[32m2024-07-24 13:22:03.769\u001b[0m | \u001b[33m\u001b[1mWARNING \u001b[0m | \u001b[36mecoinvent_migrate.wrangling\u001b[0m:\u001b[36mdisaggregated\u001b[0m:\u001b[36m259\u001b[0m - \u001b[33m\u001b[1mChange report annex dataset missing from database.\n",
      "    This is likely a publication error which you can't fix.\n",
      "    Removing the following from migrations:\n",
      "    {'name': 'transport, freight, lorry 16-32 metric ton, EURO2', 'location': 'GLO', 'reference product': 'transport, freight, lorry 16-32 metric ton, EURO2', 'unit': 'metric ton*km'}\u001b[0m\n",
      "\u001b[32m2024-07-24 13:22:03.777\u001b[0m | \u001b[33m\u001b[1mWARNING \u001b[0m | \u001b[36mecoinvent_migrate.wrangling\u001b[0m:\u001b[36mdisaggregated\u001b[0m:\u001b[36m259\u001b[0m - \u001b[33m\u001b[1mChange report annex dataset missing from database.\n",
      "    This is likely a publication error which you can't fix.\n",
      "    Removing the following from migrations:\n",
      "    {'name': 'transport, freight, lorry 16-32 metric ton, unregulated', 'location': 'GLO', 'reference product': 'transport, freight, lorry 16-32 metric ton, unregulated', 'unit': 'metric ton*km'}\u001b[0m\n",
      "\u001b[32m2024-07-24 13:22:03.779\u001b[0m | \u001b[33m\u001b[1mWARNING \u001b[0m | \u001b[36mecoinvent_migrate.wrangling\u001b[0m:\u001b[36mdisaggregated\u001b[0m:\u001b[36m259\u001b[0m - \u001b[33m\u001b[1mChange report annex dataset missing from database.\n",
      "    This is likely a publication error which you can't fix.\n",
      "    Removing the following from migrations:\n",
      "    {'name': 'transport, freight, lorry 3.5-7.5 metric ton, EURO1', 'location': 'GLO', 'reference product': 'transport, freight, lorry 3.5-7.5 metric ton, EURO1', 'unit': 'metric ton*km'}\u001b[0m\n",
      "\u001b[32m2024-07-24 13:22:03.780\u001b[0m | \u001b[33m\u001b[1mWARNING \u001b[0m | \u001b[36mecoinvent_migrate.wrangling\u001b[0m:\u001b[36mdisaggregated\u001b[0m:\u001b[36m259\u001b[0m - \u001b[33m\u001b[1mChange report annex dataset missing from database.\n",
      "    This is likely a publication error which you can't fix.\n",
      "    Removing the following from migrations:\n",
      "    {'name': 'transport, freight, lorry 3.5-7.5 metric ton, EURO2', 'location': 'GLO', 'reference product': 'transport, freight, lorry 3.5-7.5 metric ton, EURO2', 'unit': 'metric ton*km'}\u001b[0m\n",
      "\u001b[32m2024-07-24 13:22:03.788\u001b[0m | \u001b[33m\u001b[1mWARNING \u001b[0m | \u001b[36mecoinvent_migrate.wrangling\u001b[0m:\u001b[36mdisaggregated\u001b[0m:\u001b[36m259\u001b[0m - \u001b[33m\u001b[1mChange report annex dataset missing from database.\n",
      "    This is likely a publication error which you can't fix.\n",
      "    Removing the following from migrations:\n",
      "    {'name': 'transport, freight, lorry 3.5-7.5 metric ton, unregulated', 'location': 'GLO', 'reference product': 'transport, freight, lorry 3.5-7.5 metric ton, unregulated', 'unit': 'metric ton*km'}\u001b[0m\n",
      "\u001b[32m2024-07-24 13:22:03.790\u001b[0m | \u001b[33m\u001b[1mWARNING \u001b[0m | \u001b[36mecoinvent_migrate.wrangling\u001b[0m:\u001b[36mdisaggregated\u001b[0m:\u001b[36m259\u001b[0m - \u001b[33m\u001b[1mChange report annex dataset missing from database.\n",
      "    This is likely a publication error which you can't fix.\n",
      "    Removing the following from migrations:\n",
      "    {'name': 'transport, freight, lorry 7.5-16 metric ton, EURO1', 'location': 'GLO', 'reference product': 'transport, freight, lorry 7.5-16 metric ton, EURO1', 'unit': 'metric ton*km'}\u001b[0m\n",
      "\u001b[32m2024-07-24 13:22:03.791\u001b[0m | \u001b[33m\u001b[1mWARNING \u001b[0m | \u001b[36mecoinvent_migrate.wrangling\u001b[0m:\u001b[36mdisaggregated\u001b[0m:\u001b[36m259\u001b[0m - \u001b[33m\u001b[1mChange report annex dataset missing from database.\n",
      "    This is likely a publication error which you can't fix.\n",
      "    Removing the following from migrations:\n",
      "    {'name': 'transport, freight, lorry 7.5-16 metric ton, EURO2', 'location': 'GLO', 'reference product': 'transport, freight, lorry 7.5-16 metric ton, EURO2', 'unit': 'metric ton*km'}\u001b[0m\n",
      "\u001b[32m2024-07-24 13:22:03.798\u001b[0m | \u001b[33m\u001b[1mWARNING \u001b[0m | \u001b[36mecoinvent_migrate.wrangling\u001b[0m:\u001b[36mdisaggregated\u001b[0m:\u001b[36m259\u001b[0m - \u001b[33m\u001b[1mChange report annex dataset missing from database.\n",
      "    This is likely a publication error which you can't fix.\n",
      "    Removing the following from migrations:\n",
      "    {'name': 'transport, freight, lorry 7.5-16 metric ton, unregulated', 'location': 'GLO', 'reference product': 'transport, freight, lorry 7.5-16 metric ton, unregulated', 'unit': 'metric ton*km'}\u001b[0m\n",
      "\u001b[32m2024-07-24 13:22:03.800\u001b[0m | \u001b[33m\u001b[1mWARNING \u001b[0m | \u001b[36mecoinvent_migrate.wrangling\u001b[0m:\u001b[36mdisaggregated\u001b[0m:\u001b[36m259\u001b[0m - \u001b[33m\u001b[1mChange report annex dataset missing from database.\n",
      "    This is likely a publication error which you can't fix.\n",
      "    Removing the following from migrations:\n",
      "    {'name': 'transport, freight, lorry >32 metric ton, EURO1', 'location': 'GLO', 'reference product': 'transport, freight, lorry >32 metric ton, EURO1', 'unit': 'metric ton*km'}\u001b[0m\n",
      "\u001b[32m2024-07-24 13:22:03.802\u001b[0m | \u001b[33m\u001b[1mWARNING \u001b[0m | \u001b[36mecoinvent_migrate.wrangling\u001b[0m:\u001b[36mdisaggregated\u001b[0m:\u001b[36m259\u001b[0m - \u001b[33m\u001b[1mChange report annex dataset missing from database.\n",
      "    This is likely a publication error which you can't fix.\n",
      "    Removing the following from migrations:\n",
      "    {'name': 'transport, freight, lorry >32 metric ton, EURO2', 'location': 'GLO', 'reference product': 'transport, freight, lorry >32 metric ton, EURO2', 'unit': 'metric ton*km'}\u001b[0m\n",
      "\u001b[32m2024-07-24 13:22:03.809\u001b[0m | \u001b[33m\u001b[1mWARNING \u001b[0m | \u001b[36mecoinvent_migrate.wrangling\u001b[0m:\u001b[36mdisaggregated\u001b[0m:\u001b[36m259\u001b[0m - \u001b[33m\u001b[1mChange report annex dataset missing from database.\n",
      "    This is likely a publication error which you can't fix.\n",
      "    Removing the following from migrations:\n",
      "    {'name': 'transport, freight, lorry >32 metric ton, unregulated', 'location': 'GLO', 'reference product': 'transport, freight, lorry >32 metric ton, unregulated', 'unit': 'metric ton*km'}\u001b[0m\n",
      "\u001b[32m2024-07-24 13:22:03.811\u001b[0m | \u001b[33m\u001b[1mWARNING \u001b[0m | \u001b[36mecoinvent_migrate.wrangling\u001b[0m:\u001b[36mdisaggregated\u001b[0m:\u001b[36m259\u001b[0m - \u001b[33m\u001b[1mChange report annex dataset missing from database.\n",
      "    This is likely a publication error which you can't fix.\n",
      "    Removing the following from migrations:\n",
      "    {'name': 'transport, freight, lorry, all sizes, EURO1 to generic market for transport, freight, lorry, unspecified', 'location': 'GLO', 'reference product': 'transport, freight, lorry, unspecified', 'unit': 'metric ton*km'}\u001b[0m\n",
      "\u001b[32m2024-07-24 13:22:03.812\u001b[0m | \u001b[33m\u001b[1mWARNING \u001b[0m | \u001b[36mecoinvent_migrate.wrangling\u001b[0m:\u001b[36mdisaggregated\u001b[0m:\u001b[36m259\u001b[0m - \u001b[33m\u001b[1mChange report annex dataset missing from database.\n",
      "    This is likely a publication error which you can't fix.\n",
      "    Removing the following from migrations:\n",
      "    {'name': 'transport, freight, lorry, all sizes, EURO2 to generic market for transport, freight, lorry, unspecified', 'location': 'GLO', 'reference product': 'transport, freight, lorry, unspecified', 'unit': 'metric ton*km'}\u001b[0m\n",
      "\u001b[32m2024-07-24 13:22:03.817\u001b[0m | \u001b[33m\u001b[1mWARNING \u001b[0m | \u001b[36mecoinvent_migrate.wrangling\u001b[0m:\u001b[36mdisaggregated\u001b[0m:\u001b[36m259\u001b[0m - \u001b[33m\u001b[1mChange report annex dataset missing from database.\n",
      "    This is likely a publication error which you can't fix.\n",
      "    Removing the following from migrations:\n",
      "    {'name': 'transport, freight, lorry, all sizes, unregulated to generic market for transport, freight, lorry, unspecified', 'location': 'GLO', 'reference product': 'transport, freight, lorry, unspecified', 'unit': 'metric ton*km'}\u001b[0m\n",
      "\u001b[32m2024-07-24 13:22:03.820\u001b[0m | \u001b[1mINFO    \u001b[0m | \u001b[36mecoinvent_migrate.main\u001b[0m:\u001b[36mgenerate_technosphere_mapping\u001b[0m:\u001b[36m180\u001b[0m - \u001b[1mWriting output file /Users/cmutel/Code/randonneur_data/dev/ecoinvent-3.7.1-cutoff-ecoinvent-3.8-cutoff.json\u001b[0m\n"
     ]
    },
    {
     "data": {
      "text/plain": [
       "PosixPath('/Users/cmutel/Code/randonneur_data/randonneur_data/data/ecoinvent-3.7.1-cutoff-ecoinvent-3.8-cutoff.json')"
      ]
     },
     "execution_count": 4,
     "metadata": {},
     "output_type": "execute_result"
    }
   ],
   "source": [
    "write_for_technosphere_versions(\"3.7.1\", \"3.8\")"
   ]
  },
  {
   "cell_type": "code",
   "execution_count": 5,
   "id": "420f701e-a7f6-4996-bdee-3d51fe7b7181",
   "metadata": {
    "collapsed": true,
    "jupyter": {
     "outputs_hidden": true
    }
   },
   "outputs": [
    {
     "name": "stderr",
     "output_type": "stream",
     "text": [
      "\u001b[32m2024-07-24 13:22:03.902\u001b[0m | \u001b[1mINFO    \u001b[0m | \u001b[36mecoinvent_migrate.utils\u001b[0m:\u001b[36mconfigure_logs\u001b[0m:\u001b[36m19\u001b[0m - \u001b[1mWriting logs to /Users/cmutel/Library/Logs/ecoinvent_migrate/2024-07-24T13-22-03\u001b[0m\n",
      "\u001b[32m2024-07-24 13:22:04.908\u001b[0m | \u001b[1mINFO    \u001b[0m | \u001b[36mecoinvent_migrate.main\u001b[0m:\u001b[36mget_change_report_context\u001b[0m:\u001b[36m58\u001b[0m - \u001b[1mVersions available for this license: ['3.10', '3.9.1', '3.9', '3.8', '3.7.1', '3.7', '3.6', '3.5', '3.4', '3.3', '3.2', '3.1', '3.01', '2']\u001b[0m\n",
      "\u001b[32m2024-07-24 13:22:05.461\u001b[0m | \u001b[1mINFO    \u001b[0m | \u001b[36mecoinvent_migrate.main\u001b[0m:\u001b[36mget_change_report_context\u001b[0m:\u001b[36m71\u001b[0m - \u001b[1mUsing change report annex file Change Report Annex v3.8 - v3.9.xlsx\u001b[0m\n",
      "\u001b[32m2024-07-24 13:22:09.812\u001b[0m | \u001b[1mINFO    \u001b[0m | \u001b[36mecoinvent_migrate.data_io\u001b[0m:\u001b[36mget_brightway_databases\u001b[0m:\u001b[36m113\u001b[0m - \u001b[1mLoading source database ecoinvent-3.8-cutoff to cache data attributes\u001b[0m\n",
      "\u001b[32m2024-07-24 13:22:10.576\u001b[0m | \u001b[1mINFO    \u001b[0m | \u001b[36mecoinvent_migrate.data_io\u001b[0m:\u001b[36mget_brightway_databases\u001b[0m:\u001b[36m118\u001b[0m - \u001b[1mLoading target database ecoinvent-3.9-cutoff to cache data attributes\u001b[0m\n",
      "\u001b[32m2024-07-24 13:22:12.519\u001b[0m | \u001b[33m\u001b[1mWARNING \u001b[0m | \u001b[36mecoinvent_migrate.wrangling\u001b[0m:\u001b[36mresolve_glo_row_rer_roe\u001b[0m:\u001b[36m221\u001b[0m - \u001b[33m\u001b[1mTarget process given in change report but missing in ecoinvent-3.9-cutoff lookup: {'name': 'market group for natural gas, high pressure', 'location': 'CA', 'reference product': 'natural gas, high pressure', 'unit': 'm3'}\u001b[0m\n",
      "\u001b[32m2024-07-24 13:22:13.114\u001b[0m | \u001b[33m\u001b[1mWARNING \u001b[0m | \u001b[36mecoinvent_migrate.wrangling\u001b[0m:\u001b[36mdisaggregated\u001b[0m:\u001b[36m259\u001b[0m - \u001b[33m\u001b[1mChange report annex dataset missing from database.\n",
      "    This is likely a publication error which you can't fix.\n",
      "    Removing the following from migrations:\n",
      "    {'name': 'transport, pipeline, offshore, long distance, natural gas', 'location': 'GLO', 'reference product': 'transport, pipeline, offshore, long distance, natural gas', 'unit': 'metric ton*km'}\u001b[0m\n",
      "\u001b[32m2024-07-24 13:22:13.132\u001b[0m | \u001b[33m\u001b[1mWARNING \u001b[0m | \u001b[36mecoinvent_migrate.wrangling\u001b[0m:\u001b[36mdisaggregated\u001b[0m:\u001b[36m259\u001b[0m - \u001b[33m\u001b[1mChange report annex dataset missing from database.\n",
      "    This is likely a publication error which you can't fix.\n",
      "    Removing the following from migrations:\n",
      "    {'name': 'transport, pipeline, onshore, long distance, natural gas', 'location': 'GLO', 'reference product': 'transport, pipeline, onshore, long distance, natural gas', 'unit': 'metric ton*km'}\u001b[0m\n",
      "\u001b[32m2024-07-24 13:22:13.149\u001b[0m | \u001b[33m\u001b[1mWARNING \u001b[0m | \u001b[36mecoinvent_migrate.wrangling\u001b[0m:\u001b[36mdisaggregated\u001b[0m:\u001b[36m259\u001b[0m - \u001b[33m\u001b[1mChange report annex dataset missing from database.\n",
      "    This is likely a publication error which you can't fix.\n",
      "    Removing the following from migrations:\n",
      "    {'name': 'treatment of bagasse, from sugarcane, in heat and power co-generation unit, 6400kW thermal', 'location': 'GLO', 'reference product': 'bagasse, from sugarcane', 'unit': 'kg'}\u001b[0m\n",
      "\u001b[32m2024-07-24 13:22:13.149\u001b[0m | \u001b[33m\u001b[1mWARNING \u001b[0m | \u001b[36mecoinvent_migrate.wrangling\u001b[0m:\u001b[36mdisaggregated\u001b[0m:\u001b[36m259\u001b[0m - \u001b[33m\u001b[1mChange report annex dataset missing from database.\n",
      "    This is likely a publication error which you can't fix.\n",
      "    Removing the following from migrations:\n",
      "    {'name': 'treatment of bagasse, from sugarcane, in heat and power co-generation unit, 6400kW thermal', 'location': 'IN-Eastern grid', 'reference product': 'bagasse, from sugarcane', 'unit': 'kg'}\u001b[0m\n",
      "\u001b[32m2024-07-24 13:22:13.150\u001b[0m | \u001b[33m\u001b[1mWARNING \u001b[0m | \u001b[36mecoinvent_migrate.wrangling\u001b[0m:\u001b[36mdisaggregated\u001b[0m:\u001b[36m259\u001b[0m - \u001b[33m\u001b[1mChange report annex dataset missing from database.\n",
      "    This is likely a publication error which you can't fix.\n",
      "    Removing the following from migrations:\n",
      "    {'name': 'treatment of bagasse, from sugarcane, in heat and power co-generation unit, 6400kW thermal', 'location': 'IN-North-eastern grid', 'reference product': 'bagasse, from sugarcane', 'unit': 'kg'}\u001b[0m\n",
      "\u001b[32m2024-07-24 13:22:13.150\u001b[0m | \u001b[33m\u001b[1mWARNING \u001b[0m | \u001b[36mecoinvent_migrate.wrangling\u001b[0m:\u001b[36mdisaggregated\u001b[0m:\u001b[36m259\u001b[0m - \u001b[33m\u001b[1mChange report annex dataset missing from database.\n",
      "    This is likely a publication error which you can't fix.\n",
      "    Removing the following from migrations:\n",
      "    {'name': 'treatment of bagasse, from sugarcane, in heat and power co-generation unit, 6400kW thermal', 'location': 'IN-Northern grid', 'reference product': 'bagasse, from sugarcane', 'unit': 'kg'}\u001b[0m\n",
      "\u001b[32m2024-07-24 13:22:13.151\u001b[0m | \u001b[33m\u001b[1mWARNING \u001b[0m | \u001b[36mecoinvent_migrate.wrangling\u001b[0m:\u001b[36mdisaggregated\u001b[0m:\u001b[36m259\u001b[0m - \u001b[33m\u001b[1mChange report annex dataset missing from database.\n",
      "    This is likely a publication error which you can't fix.\n",
      "    Removing the following from migrations:\n",
      "    {'name': 'treatment of bagasse, from sugarcane, in heat and power co-generation unit, 6400kW thermal', 'location': 'IN-Southern grid', 'reference product': 'bagasse, from sugarcane', 'unit': 'kg'}\u001b[0m\n",
      "\u001b[32m2024-07-24 13:22:13.151\u001b[0m | \u001b[33m\u001b[1mWARNING \u001b[0m | \u001b[36mecoinvent_migrate.wrangling\u001b[0m:\u001b[36mdisaggregated\u001b[0m:\u001b[36m259\u001b[0m - \u001b[33m\u001b[1mChange report annex dataset missing from database.\n",
      "    This is likely a publication error which you can't fix.\n",
      "    Removing the following from migrations:\n",
      "    {'name': 'treatment of bagasse, from sugarcane, in heat and power co-generation unit, 6400kW thermal', 'location': 'IN-Western grid', 'reference product': 'bagasse, from sugarcane', 'unit': 'kg'}\u001b[0m\n",
      "\u001b[32m2024-07-24 13:22:13.152\u001b[0m | \u001b[33m\u001b[1mWARNING \u001b[0m | \u001b[36mecoinvent_migrate.wrangling\u001b[0m:\u001b[36mdisaggregated\u001b[0m:\u001b[36m270\u001b[0m - \u001b[33m\u001b[1mTotal production from 6 targets is zero for source {'name': 'treatment of bagasse, from sugarcane, in heat and power co-generation unit, 6400kW thermal', 'location': 'GLO', 'reference product': 'bagasse, from sugarcane', 'unit': 'kg'}; using equal allocation factors\u001b[0m\n",
      "\u001b[32m2024-07-24 13:22:13.156\u001b[0m | \u001b[1mINFO    \u001b[0m | \u001b[36mecoinvent_migrate.main\u001b[0m:\u001b[36mgenerate_technosphere_mapping\u001b[0m:\u001b[36m180\u001b[0m - \u001b[1mWriting output file /Users/cmutel/Code/randonneur_data/dev/ecoinvent-3.8-cutoff-ecoinvent-3.9-cutoff.json\u001b[0m\n"
     ]
    },
    {
     "data": {
      "text/plain": [
       "PosixPath('/Users/cmutel/Code/randonneur_data/randonneur_data/data/ecoinvent-3.8-cutoff-ecoinvent-3.9-cutoff.xz')"
      ]
     },
     "execution_count": 5,
     "metadata": {},
     "output_type": "execute_result"
    }
   ],
   "source": [
    "write_for_technosphere_versions(\"3.8\", \"3.9\")"
   ]
  },
  {
   "cell_type": "code",
   "execution_count": 6,
   "id": "9dc87388-10f4-42b9-abb7-b6a1e6f3b5b1",
   "metadata": {
    "collapsed": true,
    "jupyter": {
     "outputs_hidden": true
    }
   },
   "outputs": [
    {
     "name": "stderr",
     "output_type": "stream",
     "text": [
      "\u001b[32m2024-07-24 13:22:13.280\u001b[0m | \u001b[1mINFO    \u001b[0m | \u001b[36mecoinvent_migrate.utils\u001b[0m:\u001b[36mconfigure_logs\u001b[0m:\u001b[36m19\u001b[0m - \u001b[1mWriting logs to /Users/cmutel/Library/Logs/ecoinvent_migrate/2024-07-24T13-22-13\u001b[0m\n",
      "\u001b[32m2024-07-24 13:22:14.457\u001b[0m | \u001b[1mINFO    \u001b[0m | \u001b[36mecoinvent_migrate.main\u001b[0m:\u001b[36mget_change_report_context\u001b[0m:\u001b[36m58\u001b[0m - \u001b[1mVersions available for this license: ['3.10', '3.9.1', '3.9', '3.8', '3.7.1', '3.7', '3.6', '3.5', '3.4', '3.3', '3.2', '3.1', '3.01', '2']\u001b[0m\n",
      "\u001b[32m2024-07-24 13:22:15.027\u001b[0m | \u001b[1mINFO    \u001b[0m | \u001b[36mecoinvent_migrate.main\u001b[0m:\u001b[36mget_change_report_context\u001b[0m:\u001b[36m71\u001b[0m - \u001b[1mUsing change report annex file Change Report Annex v3.9 - v3.9.1.xlsx\u001b[0m\n",
      "\u001b[32m2024-07-24 13:22:15.073\u001b[0m | \u001b[1mINFO    \u001b[0m | \u001b[36mecoinvent_migrate.data_io\u001b[0m:\u001b[36mget_brightway_databases\u001b[0m:\u001b[36m113\u001b[0m - \u001b[1mLoading source database ecoinvent-3.9-cutoff to cache data attributes\u001b[0m\n",
      "\u001b[32m2024-07-24 13:22:15.931\u001b[0m | \u001b[1mINFO    \u001b[0m | \u001b[36mecoinvent_migrate.data_io\u001b[0m:\u001b[36mget_brightway_databases\u001b[0m:\u001b[36m118\u001b[0m - \u001b[1mLoading target database ecoinvent-3.9.1-cutoff to cache data attributes\u001b[0m\n",
      "\u001b[32m2024-07-24 13:22:17.751\u001b[0m | \u001b[1mINFO    \u001b[0m | \u001b[36mecoinvent_migrate.main\u001b[0m:\u001b[36mgenerate_technosphere_mapping\u001b[0m:\u001b[36m149\u001b[0m - \u001b[1mIt seems like there are no technosphere changes for this release. Doing nothing.\u001b[0m\n"
     ]
    }
   ],
   "source": [
    "write_for_technosphere_versions(\"3.9\", \"3.9.1\")"
   ]
  },
  {
   "cell_type": "code",
   "execution_count": 5,
   "id": "bd46dfac-1b1d-41d7-b089-ff83e4af7fbb",
   "metadata": {},
   "outputs": [
    {
     "name": "stderr",
     "output_type": "stream",
     "text": [
      "\u001b[32m2024-08-15 09:01:49.519\u001b[0m | \u001b[1mINFO    \u001b[0m | \u001b[36mecoinvent_migrate.utils\u001b[0m:\u001b[36mconfigure_logs\u001b[0m:\u001b[36m18\u001b[0m - \u001b[1mWriting logs to /Users/cmutel/Library/Logs/ecoinvent_migrate/2024-08-15T09-01-49\u001b[0m\n",
      "\u001b[32m2024-08-15 09:01:50.336\u001b[0m | \u001b[1mINFO    \u001b[0m | \u001b[36mecoinvent_migrate.main\u001b[0m:\u001b[36mget_change_report_context\u001b[0m:\u001b[36m59\u001b[0m - \u001b[1mVersions available for this license: ['3.10', '3.9.1', '3.9', '3.8', '3.7.1', '3.7', '3.6', '3.5', '3.4', '3.3', '3.2', '3.1', '3.01', '2']\u001b[0m\n",
      "\u001b[32m2024-08-15 09:01:50.841\u001b[0m | \u001b[1mINFO    \u001b[0m | \u001b[36mecoinvent_migrate.main\u001b[0m:\u001b[36mget_change_report_context\u001b[0m:\u001b[36m72\u001b[0m - \u001b[1mUsing change report annex file Change Report Annex v3.9.1 - v3.10.xlsx\u001b[0m\n",
      "\u001b[32m2024-08-15 09:01:55.682\u001b[0m | \u001b[1mINFO    \u001b[0m | \u001b[36mecoinvent_migrate.data_io\u001b[0m:\u001b[36mget_brightway_databases\u001b[0m:\u001b[36m113\u001b[0m - \u001b[1mLoading source database ecoinvent-3.9.1-cutoff to cache data attributes\u001b[0m\n",
      "\u001b[32m2024-08-15 09:01:57.411\u001b[0m | \u001b[1mINFO    \u001b[0m | \u001b[36mecoinvent_migrate.data_io\u001b[0m:\u001b[36mget_brightway_databases\u001b[0m:\u001b[36m118\u001b[0m - \u001b[1mLoading target database ecoinvent-3.10-cutoff to cache data attributes\u001b[0m\n",
      "\u001b[32m2024-08-15 09:02:00.388\u001b[0m | \u001b[1mINFO    \u001b[0m | \u001b[36mecoinvent_migrate.main\u001b[0m:\u001b[36mgenerate_technosphere_mapping\u001b[0m:\u001b[36m187\u001b[0m - \u001b[1mWriting output file /Users/cmutel/Code/randonneur_data/dev/ecoinvent-3.9.1-cutoff-ecoinvent-3.10-cutoff.json\u001b[0m\n"
     ]
    },
    {
     "data": {
      "text/plain": [
       "PosixPath('/Users/cmutel/Code/randonneur_data/randonneur_data/data/ecoinvent-3.9.1-cutoff-ecoinvent-3.10-cutoff.xz')"
      ]
     },
     "execution_count": 5,
     "metadata": {},
     "output_type": "execute_result"
    }
   ],
   "source": [
    "write_for_technosphere_versions(\"3.9.1\", \"3.10\")"
   ]
  },
  {
   "cell_type": "code",
   "execution_count": 4,
   "id": "a6ba1c3f-d57d-4bd2-8a18-45a10a165f46",
   "metadata": {},
   "outputs": [
    {
     "name": "stderr",
     "output_type": "stream",
     "text": [
      "\u001b[32m2024-08-30 08:54:13.898\u001b[0m | \u001b[1mINFO    \u001b[0m | \u001b[36mecoinvent_migrate.utils\u001b[0m:\u001b[36mconfigure_logs\u001b[0m:\u001b[36m18\u001b[0m - \u001b[1mWriting logs to /Users/cmutel/Library/Logs/ecoinvent_migrate/2024-08-30T08-54-13\u001b[0m\n",
      "\u001b[32m2024-08-30 08:54:13.916\u001b[0m | \u001b[1mINFO    \u001b[0m | \u001b[36mecoinvent_migrate.main\u001b[0m:\u001b[36mgenerate_biosphere_mapping\u001b[0m:\u001b[36m215\u001b[0m - \u001b[1mThe `EE Deletions` format is not consistent across versions.\n",
      "Please check the outputs carefully before applying them.\u001b[0m\n",
      "\u001b[32m2024-08-30 08:54:14.821\u001b[0m | \u001b[1mINFO    \u001b[0m | \u001b[36mecoinvent_migrate.main\u001b[0m:\u001b[36mget_change_report_context\u001b[0m:\u001b[36m61\u001b[0m - \u001b[1mVersions available for this license: ['3.10', '3.9.1', '3.9', '3.8', '3.7.1', '3.7', '3.6', '3.5', '3.4', '3.3', '3.2', '3.1', '3.01', '2']\u001b[0m\n",
      "\u001b[32m2024-08-30 08:54:15.344\u001b[0m | \u001b[1mINFO    \u001b[0m | \u001b[36mecoinvent_migrate.main\u001b[0m:\u001b[36mget_change_report_context\u001b[0m:\u001b[36m74\u001b[0m - \u001b[1mUsing change report annex file Change Report Annex v3.7.1 - v3.8.xlsx\u001b[0m\n",
      "\u001b[32m2024-08-30 08:54:15.601\u001b[0m | \u001b[1mINFO    \u001b[0m | \u001b[36mecoinvent_migrate.main\u001b[0m:\u001b[36mgenerate_biosphere_mapping\u001b[0m:\u001b[36m231\u001b[0m - \u001b[1mIt seems like there are no biosphere changes; no sheet name like `EE Deletions` found. Sheet names found:\n",
      "\tRead me\n",
      "\tQualitative Changes\n",
      "\tQuantitative Changes\n",
      "\tLCIA Changes. Looking at actual data to see if there are changes not included in the change report.\u001b[0m\n",
      "\u001b[32m2024-08-30 08:54:15.950\u001b[0m | \u001b[1mINFO    \u001b[0m | \u001b[36mecoinvent_migrate.main\u001b[0m:\u001b[36mgenerate_biosphere_mapping\u001b[0m:\u001b[36m301\u001b[0m - \u001b[1mWriting output file /Users/cmutel/Code/randonneur_data/dev/ecoinvent-3.7.1-biosphere-ecoinvent-3.8-biosphere.json\u001b[0m\n"
     ]
    },
    {
     "data": {
      "text/plain": [
       "PosixPath('/Users/cmutel/Code/randonneur_data/randonneur_data/data/ecoinvent-3.7.1-biosphere-ecoinvent-3.8-biosphere.xz')"
      ]
     },
     "execution_count": 4,
     "metadata": {},
     "output_type": "execute_result"
    }
   ],
   "source": [
    "# Only has consequential UUID changes, and addition of formulae\n",
    "# write_for_biosphere_versions(\"3.7.1\", \"3.8\")"
   ]
  },
  {
   "cell_type": "code",
   "execution_count": 4,
   "id": "0af4b717-5f21-44f8-873a-d13f14b17254",
   "metadata": {},
   "outputs": [
    {
     "name": "stderr",
     "output_type": "stream",
     "text": [
      "\u001b[32m2024-09-05 21:29:03.132\u001b[0m | \u001b[1mINFO    \u001b[0m | \u001b[36mecoinvent_migrate.utils\u001b[0m:\u001b[36mconfigure_logs\u001b[0m:\u001b[36m18\u001b[0m - \u001b[1mWriting logs to /Users/cmutel/Library/Logs/ecoinvent_migrate/2024-09-05T21-29-03\u001b[0m\n",
      "\u001b[32m2024-09-05 21:29:03.142\u001b[0m | \u001b[1mINFO    \u001b[0m | \u001b[36mecoinvent_migrate.main\u001b[0m:\u001b[36mgenerate_biosphere_mapping\u001b[0m:\u001b[36m215\u001b[0m - \u001b[1mThe `EE Deletions` format is not consistent across versions.\n",
      "Please check the outputs carefully before applying them.\u001b[0m\n",
      "\u001b[32m2024-09-05 21:29:04.146\u001b[0m | \u001b[1mINFO    \u001b[0m | \u001b[36mecoinvent_migrate.main\u001b[0m:\u001b[36mget_change_report_context\u001b[0m:\u001b[36m61\u001b[0m - \u001b[1mVersions available for this license: ['3.10', '3.9.1', '3.9', '3.8', '3.7.1', '3.7', '3.6', '3.5', '3.4', '3.3', '3.2', '3.1', '3.01', '2']\u001b[0m\n",
      "\u001b[32m2024-09-05 21:29:04.741\u001b[0m | \u001b[1mINFO    \u001b[0m | \u001b[36mecoinvent_migrate.main\u001b[0m:\u001b[36mget_change_report_context\u001b[0m:\u001b[36m74\u001b[0m - \u001b[1mUsing change report annex file Change Report Annex v3.8 - v3.9.xlsx\u001b[0m\n",
      "\u001b[32m2024-09-05 21:29:05.625\u001b[0m | \u001b[1mINFO    \u001b[0m | \u001b[36mecoinvent_migrate.main\u001b[0m:\u001b[36mgenerate_biosphere_mapping\u001b[0m:\u001b[36m301\u001b[0m - \u001b[1mWriting output file /Users/cmutel/Code/randonneur_data/dev/ecoinvent-3.8-biosphere-ecoinvent-3.9-biosphere.json\u001b[0m\n"
     ]
    },
    {
     "data": {
      "text/plain": [
       "PosixPath('/Users/cmutel/Code/randonneur_data/randonneur_data/data/ecoinvent-3.8-biosphere-ecoinvent-3.9-biosphere.xz')"
      ]
     },
     "execution_count": 4,
     "metadata": {},
     "output_type": "execute_result"
    }
   ],
   "source": [
    "write_for_biosphere_versions(\"3.8\", \"3.9\")"
   ]
  },
  {
   "cell_type": "code",
   "execution_count": 5,
   "id": "d291f226-4101-4938-8316-f2db435ac36f",
   "metadata": {},
   "outputs": [
    {
     "name": "stderr",
     "output_type": "stream",
     "text": [
      "\u001b[32m2024-09-05 21:29:05.696\u001b[0m | \u001b[1mINFO    \u001b[0m | \u001b[36mecoinvent_migrate.utils\u001b[0m:\u001b[36mconfigure_logs\u001b[0m:\u001b[36m18\u001b[0m - \u001b[1mWriting logs to /Users/cmutel/Library/Logs/ecoinvent_migrate/2024-09-05T21-29-05\u001b[0m\n",
      "\u001b[32m2024-09-05 21:29:05.705\u001b[0m | \u001b[1mINFO    \u001b[0m | \u001b[36mecoinvent_migrate.main\u001b[0m:\u001b[36mgenerate_biosphere_mapping\u001b[0m:\u001b[36m215\u001b[0m - \u001b[1mThe `EE Deletions` format is not consistent across versions.\n",
      "Please check the outputs carefully before applying them.\u001b[0m\n",
      "\u001b[32m2024-09-05 21:29:06.445\u001b[0m | \u001b[1mINFO    \u001b[0m | \u001b[36mecoinvent_migrate.main\u001b[0m:\u001b[36mget_change_report_context\u001b[0m:\u001b[36m61\u001b[0m - \u001b[1mVersions available for this license: ['3.10', '3.9.1', '3.9', '3.8', '3.7.1', '3.7', '3.6', '3.5', '3.4', '3.3', '3.2', '3.1', '3.01', '2']\u001b[0m\n",
      "\u001b[32m2024-09-05 21:29:07.067\u001b[0m | \u001b[1mINFO    \u001b[0m | \u001b[36mecoinvent_migrate.main\u001b[0m:\u001b[36mget_change_report_context\u001b[0m:\u001b[36m74\u001b[0m - \u001b[1mUsing change report annex file Change Report Annex v3.9.1 - v3.10.xlsx\u001b[0m\n",
      "\u001b[32m2024-09-05 21:29:08.110\u001b[0m | \u001b[1mINFO    \u001b[0m | \u001b[36mecoinvent_migrate.main\u001b[0m:\u001b[36mgenerate_biosphere_mapping\u001b[0m:\u001b[36m301\u001b[0m - \u001b[1mWriting output file /Users/cmutel/Code/randonneur_data/dev/ecoinvent-3.9.1-biosphere-ecoinvent-3.10-biosphere.json\u001b[0m\n"
     ]
    },
    {
     "data": {
      "text/plain": [
       "PosixPath('/Users/cmutel/Code/randonneur_data/randonneur_data/data/ecoinvent-3.9.1-biosphere-ecoinvent-3.10-biosphere.xz')"
      ]
     },
     "execution_count": 5,
     "metadata": {},
     "output_type": "execute_result"
    }
   ],
   "source": [
    "write_for_biosphere_versions(\"3.9.1\", \"3.10\")"
   ]
  },
  {
   "cell_type": "code",
   "execution_count": null,
   "id": "fe933835-0c58-4891-ac8a-11534918ef72",
   "metadata": {},
   "outputs": [],
   "source": []
  },
  {
   "cell_type": "code",
   "execution_count": null,
   "id": "4484ec66-965d-47ad-947a-e72324009894",
   "metadata": {},
   "outputs": [],
   "source": []
  }
 ],
 "metadata": {
  "kernelspec": {
   "display_name": "Python 3 (ipykernel)",
   "language": "python",
   "name": "python3"
  },
  "language_info": {
   "codemirror_mode": {
    "name": "ipython",
    "version": 3
   },
   "file_extension": ".py",
   "mimetype": "text/x-python",
   "name": "python",
   "nbconvert_exporter": "python",
   "pygments_lexer": "ipython3",
   "version": "3.10.14"
  }
 },
 "nbformat": 4,
 "nbformat_minor": 5
}
